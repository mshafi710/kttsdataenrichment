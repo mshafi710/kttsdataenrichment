{
  "nbformat": 4,
  "nbformat_minor": 0,
  "metadata": {
    "colab": {
      "provenance": [],
      "authorship_tag": "ABX9TyP6OamStQCQ6OPjaCk9iyOp",
      "include_colab_link": true
    },
    "kernelspec": {
      "name": "python3",
      "display_name": "Python 3"
    },
    "language_info": {
      "name": "python"
    },
    "widgets": {
      "application/vnd.jupyter.widget-state+json": {
        "e2cf2b05aae94490a543ac11731bec43": {
          "model_module": "@jupyter-widgets/controls",
          "model_name": "HBoxModel",
          "model_module_version": "1.5.0",
          "state": {
            "_dom_classes": [],
            "_model_module": "@jupyter-widgets/controls",
            "_model_module_version": "1.5.0",
            "_model_name": "HBoxModel",
            "_view_count": null,
            "_view_module": "@jupyter-widgets/controls",
            "_view_module_version": "1.5.0",
            "_view_name": "HBoxView",
            "box_style": "",
            "children": [
              "IPY_MODEL_b2a2a9c08e284ab196a9a5516de5e0d1",
              "IPY_MODEL_9e82907f7c064f859fecdbcdea03e5d0",
              "IPY_MODEL_4d10b56bbfa848a8b63181245ea24315"
            ],
            "layout": "IPY_MODEL_ecf89aceaff34a8a9cd9259a6a0d7c20"
          }
        },
        "b2a2a9c08e284ab196a9a5516de5e0d1": {
          "model_module": "@jupyter-widgets/controls",
          "model_name": "HTMLModel",
          "model_module_version": "1.5.0",
          "state": {
            "_dom_classes": [],
            "_model_module": "@jupyter-widgets/controls",
            "_model_module_version": "1.5.0",
            "_model_name": "HTMLModel",
            "_view_count": null,
            "_view_module": "@jupyter-widgets/controls",
            "_view_module_version": "1.5.0",
            "_view_name": "HTMLView",
            "description": "",
            "description_tooltip": null,
            "layout": "IPY_MODEL_9609678ccd4144febec0903bc2df5faa",
            "placeholder": "​",
            "style": "IPY_MODEL_952d7376e7f545b9aa3a7d47ba9dbb18",
            "value": "Processing fullnews_id_200388_date_07_25_2009۔.xlsx: 100%"
          }
        },
        "9e82907f7c064f859fecdbcdea03e5d0": {
          "model_module": "@jupyter-widgets/controls",
          "model_name": "FloatProgressModel",
          "model_module_version": "1.5.0",
          "state": {
            "_dom_classes": [],
            "_model_module": "@jupyter-widgets/controls",
            "_model_module_version": "1.5.0",
            "_model_name": "FloatProgressModel",
            "_view_count": null,
            "_view_module": "@jupyter-widgets/controls",
            "_view_module_version": "1.5.0",
            "_view_name": "ProgressView",
            "bar_style": "success",
            "description": "",
            "description_tooltip": null,
            "layout": "IPY_MODEL_26edc1fd93b54ba6ad36dc8d94e9ac97",
            "max": 637,
            "min": 0,
            "orientation": "horizontal",
            "style": "IPY_MODEL_01eb0bdf60ce4c3e8700068dbea17480",
            "value": 637
          }
        },
        "4d10b56bbfa848a8b63181245ea24315": {
          "model_module": "@jupyter-widgets/controls",
          "model_name": "HTMLModel",
          "model_module_version": "1.5.0",
          "state": {
            "_dom_classes": [],
            "_model_module": "@jupyter-widgets/controls",
            "_model_module_version": "1.5.0",
            "_model_name": "HTMLModel",
            "_view_count": null,
            "_view_module": "@jupyter-widgets/controls",
            "_view_module_version": "1.5.0",
            "_view_name": "HTMLView",
            "description": "",
            "description_tooltip": null,
            "layout": "IPY_MODEL_d0bf312b2f63482ab422bcd50196358a",
            "placeholder": "​",
            "style": "IPY_MODEL_b2361c26acb640b5aa5469eb942e302f",
            "value": " 637/637 [00:22&lt;00:00, 35.47item/s]"
          }
        },
        "ecf89aceaff34a8a9cd9259a6a0d7c20": {
          "model_module": "@jupyter-widgets/base",
          "model_name": "LayoutModel",
          "model_module_version": "1.2.0",
          "state": {
            "_model_module": "@jupyter-widgets/base",
            "_model_module_version": "1.2.0",
            "_model_name": "LayoutModel",
            "_view_count": null,
            "_view_module": "@jupyter-widgets/base",
            "_view_module_version": "1.2.0",
            "_view_name": "LayoutView",
            "align_content": null,
            "align_items": null,
            "align_self": null,
            "border": null,
            "bottom": null,
            "display": "inline-flex",
            "flex": null,
            "flex_flow": "row wrap",
            "grid_area": null,
            "grid_auto_columns": null,
            "grid_auto_flow": null,
            "grid_auto_rows": null,
            "grid_column": null,
            "grid_gap": null,
            "grid_row": null,
            "grid_template_areas": null,
            "grid_template_columns": null,
            "grid_template_rows": null,
            "height": null,
            "justify_content": null,
            "justify_items": null,
            "left": null,
            "margin": null,
            "max_height": null,
            "max_width": null,
            "min_height": null,
            "min_width": null,
            "object_fit": null,
            "object_position": null,
            "order": null,
            "overflow": null,
            "overflow_x": null,
            "overflow_y": null,
            "padding": null,
            "right": null,
            "top": null,
            "visibility": null,
            "width": "1000px"
          }
        },
        "9609678ccd4144febec0903bc2df5faa": {
          "model_module": "@jupyter-widgets/base",
          "model_name": "LayoutModel",
          "model_module_version": "1.2.0",
          "state": {
            "_model_module": "@jupyter-widgets/base",
            "_model_module_version": "1.2.0",
            "_model_name": "LayoutModel",
            "_view_count": null,
            "_view_module": "@jupyter-widgets/base",
            "_view_module_version": "1.2.0",
            "_view_name": "LayoutView",
            "align_content": null,
            "align_items": null,
            "align_self": null,
            "border": null,
            "bottom": null,
            "display": null,
            "flex": null,
            "flex_flow": null,
            "grid_area": null,
            "grid_auto_columns": null,
            "grid_auto_flow": null,
            "grid_auto_rows": null,
            "grid_column": null,
            "grid_gap": null,
            "grid_row": null,
            "grid_template_areas": null,
            "grid_template_columns": null,
            "grid_template_rows": null,
            "height": null,
            "justify_content": null,
            "justify_items": null,
            "left": null,
            "margin": null,
            "max_height": null,
            "max_width": null,
            "min_height": null,
            "min_width": null,
            "object_fit": null,
            "object_position": null,
            "order": null,
            "overflow": null,
            "overflow_x": null,
            "overflow_y": null,
            "padding": null,
            "right": null,
            "top": null,
            "visibility": null,
            "width": null
          }
        },
        "952d7376e7f545b9aa3a7d47ba9dbb18": {
          "model_module": "@jupyter-widgets/controls",
          "model_name": "DescriptionStyleModel",
          "model_module_version": "1.5.0",
          "state": {
            "_model_module": "@jupyter-widgets/controls",
            "_model_module_version": "1.5.0",
            "_model_name": "DescriptionStyleModel",
            "_view_count": null,
            "_view_module": "@jupyter-widgets/base",
            "_view_module_version": "1.2.0",
            "_view_name": "StyleView",
            "description_width": ""
          }
        },
        "26edc1fd93b54ba6ad36dc8d94e9ac97": {
          "model_module": "@jupyter-widgets/base",
          "model_name": "LayoutModel",
          "model_module_version": "1.2.0",
          "state": {
            "_model_module": "@jupyter-widgets/base",
            "_model_module_version": "1.2.0",
            "_model_name": "LayoutModel",
            "_view_count": null,
            "_view_module": "@jupyter-widgets/base",
            "_view_module_version": "1.2.0",
            "_view_name": "LayoutView",
            "align_content": null,
            "align_items": null,
            "align_self": null,
            "border": null,
            "bottom": null,
            "display": null,
            "flex": "2",
            "flex_flow": null,
            "grid_area": null,
            "grid_auto_columns": null,
            "grid_auto_flow": null,
            "grid_auto_rows": null,
            "grid_column": null,
            "grid_gap": null,
            "grid_row": null,
            "grid_template_areas": null,
            "grid_template_columns": null,
            "grid_template_rows": null,
            "height": null,
            "justify_content": null,
            "justify_items": null,
            "left": null,
            "margin": null,
            "max_height": null,
            "max_width": null,
            "min_height": null,
            "min_width": null,
            "object_fit": null,
            "object_position": null,
            "order": null,
            "overflow": null,
            "overflow_x": null,
            "overflow_y": null,
            "padding": null,
            "right": null,
            "top": null,
            "visibility": null,
            "width": null
          }
        },
        "01eb0bdf60ce4c3e8700068dbea17480": {
          "model_module": "@jupyter-widgets/controls",
          "model_name": "ProgressStyleModel",
          "model_module_version": "1.5.0",
          "state": {
            "_model_module": "@jupyter-widgets/controls",
            "_model_module_version": "1.5.0",
            "_model_name": "ProgressStyleModel",
            "_view_count": null,
            "_view_module": "@jupyter-widgets/base",
            "_view_module_version": "1.2.0",
            "_view_name": "StyleView",
            "bar_color": null,
            "description_width": ""
          }
        },
        "d0bf312b2f63482ab422bcd50196358a": {
          "model_module": "@jupyter-widgets/base",
          "model_name": "LayoutModel",
          "model_module_version": "1.2.0",
          "state": {
            "_model_module": "@jupyter-widgets/base",
            "_model_module_version": "1.2.0",
            "_model_name": "LayoutModel",
            "_view_count": null,
            "_view_module": "@jupyter-widgets/base",
            "_view_module_version": "1.2.0",
            "_view_name": "LayoutView",
            "align_content": null,
            "align_items": null,
            "align_self": null,
            "border": null,
            "bottom": null,
            "display": null,
            "flex": null,
            "flex_flow": null,
            "grid_area": null,
            "grid_auto_columns": null,
            "grid_auto_flow": null,
            "grid_auto_rows": null,
            "grid_column": null,
            "grid_gap": null,
            "grid_row": null,
            "grid_template_areas": null,
            "grid_template_columns": null,
            "grid_template_rows": null,
            "height": null,
            "justify_content": null,
            "justify_items": null,
            "left": null,
            "margin": null,
            "max_height": null,
            "max_width": null,
            "min_height": null,
            "min_width": null,
            "object_fit": null,
            "object_position": null,
            "order": null,
            "overflow": null,
            "overflow_x": null,
            "overflow_y": null,
            "padding": null,
            "right": null,
            "top": null,
            "visibility": null,
            "width": null
          }
        },
        "b2361c26acb640b5aa5469eb942e302f": {
          "model_module": "@jupyter-widgets/controls",
          "model_name": "DescriptionStyleModel",
          "model_module_version": "1.5.0",
          "state": {
            "_model_module": "@jupyter-widgets/controls",
            "_model_module_version": "1.5.0",
            "_model_name": "DescriptionStyleModel",
            "_view_count": null,
            "_view_module": "@jupyter-widgets/base",
            "_view_module_version": "1.2.0",
            "_view_name": "StyleView",
            "description_width": ""
          }
        }
      }
    }
  },
  "cells": [
    {
      "cell_type": "markdown",
      "metadata": {
        "id": "view-in-github",
        "colab_type": "text"
      },
      "source": [
        "<a href=\"https://colab.research.google.com/github/mshafi710/kttsdataenrichment/blob/main/club_excel_files.ipynb\" target=\"_parent\"><img src=\"https://colab.research.google.com/assets/colab-badge.svg\" alt=\"Open In Colab\"/></a>"
      ]
    },
    {
      "cell_type": "markdown",
      "source": [
        "reading  multiple excel files and club them into single one.\n"
      ],
      "metadata": {
        "id": "q7IPfLvKKIf4"
      }
    },
    {
      "cell_type": "code",
      "source": [
        "from google.colab import drive\n",
        "import os\n",
        "import pandas as pd\n",
        "from tqdm import tqdm\n",
        "from tqdm.notebook import tqdm_notebook\n",
        "!pip install python-docx\n"
      ],
      "metadata": {
        "id": "391J3enOWKRB",
        "colab": {
          "base_uri": "https://localhost:8080/"
        },
        "outputId": "3e2e5a3a-b873-44f2-a601-99f5495d4831"
      },
      "execution_count": 1,
      "outputs": [
        {
          "output_type": "stream",
          "name": "stdout",
          "text": [
            "Looking in indexes: https://pypi.org/simple, https://us-python.pkg.dev/colab-wheels/public/simple/\n",
            "Collecting python-docx\n",
            "  Downloading python-docx-0.8.11.tar.gz (5.6 MB)\n",
            "\u001b[2K     \u001b[90m━━━━━━━━━━━━━━━━━━━━━━━━━━━━━━━━━━━━━━━━\u001b[0m \u001b[32m5.6/5.6 MB\u001b[0m \u001b[31m81.6 MB/s\u001b[0m eta \u001b[36m0:00:00\u001b[0m\n",
            "\u001b[?25h  Preparing metadata (setup.py) ... \u001b[?25l\u001b[?25hdone\n",
            "Requirement already satisfied: lxml>=2.3.2 in /usr/local/lib/python3.10/dist-packages (from python-docx) (4.9.2)\n",
            "Building wheels for collected packages: python-docx\n",
            "  Building wheel for python-docx (setup.py) ... \u001b[?25l\u001b[?25hdone\n",
            "  Created wheel for python-docx: filename=python_docx-0.8.11-py3-none-any.whl size=184491 sha256=a28d4549e840e46312e49ba24e44c5af1bc349cf57052f42fe4db0062112fc68\n",
            "  Stored in directory: /root/.cache/pip/wheels/80/27/06/837436d4c3bd989b957a91679966f207bfd71d358d63a8194d\n",
            "Successfully built python-docx\n",
            "Installing collected packages: python-docx\n",
            "Successfully installed python-docx-0.8.11\n"
          ]
        }
      ]
    },
    {
      "cell_type": "code",
      "source": [
        "drive.mount('/content/drive')\n",
        "combined_data = pd.DataFrame()"
      ],
      "metadata": {
        "colab": {
          "base_uri": "https://localhost:8080/"
        },
        "id": "h3IX1G6qMbjt",
        "outputId": "988a3627-1034-4f8a-b7b8-df17a606d9c6"
      },
      "execution_count": 2,
      "outputs": [
        {
          "output_type": "stream",
          "name": "stdout",
          "text": [
            "Mounted at /content/drive\n"
          ]
        }
      ]
    },
    {
      "cell_type": "code",
      "source": [],
      "metadata": {
        "id": "9hk_2uMsMoqm"
      },
      "execution_count": null,
      "outputs": []
    },
    {
      "cell_type": "code",
      "source": [
        "from docx import Document\n",
        "\n",
        "document = Document()\n",
        "directory = '/content/drive/MyDrive/PhD/Dataset/Text/text_files/translated_files'\n",
        "tqdm_files  = tqdm_notebook(os.listdir(directory), unit=\"item\", ncols= 1000, desc = \" Processing ..\")\n",
        "files_without_kashmiri_column= 0\n",
        "files_skipped_dueto_error = 0\n",
        "desired_header_name = 'kashmiri'\n",
        "for filename in tqdm_files:\n",
        "    if filename.endswith(\".xlsx\") or filename.endswith(\".xls\"):\n",
        "\n",
        "      file_path = os.path.join(directory, filename)\n",
        "      try:\n",
        "          tqdm_files.set_description_str(f\"Processing {filename}\")\n",
        "          df = pd.read_excel(file_path)\n",
        "          # kashmiri_column = df.iloc[:, 0].astype(str)\n",
        "          matching_columns = [col for col in df.columns if str(col).lower() == desired_header_name.lower()]\n",
        "\n",
        "          if  matching_columns:\n",
        "            kashmiri_column = df[matching_columns[0]]\n",
        "            for value in kashmiri_column:\n",
        "              document.add_paragraph(str(value))\n",
        "          else:\n",
        "            print (' Kashmiri Column not present in {}'.format(file_path))\n",
        "            files_without_kashmiri_column = files_without_kashmiri_column + 1\n",
        "\n",
        "\n",
        "      except ValueError:\n",
        "        print(\"\\nError in reading file {}. Skipping it. \\n\".format(filename))\n",
        "        files_skipped_dueto_error = files_skipped_dueto_error + 1\n",
        "print ( ' Skipped Files: {} \\n Files with kashmiri column: {}'. format (  files_skipped_dueto_error, files_without_kashmiri_column))\n",
        "tqdm(document.save(\"/content/drive/MyDrive/PhD/Dataset/Text/text_files/corpus/news_corpus.docx\"), desc=\"Saving Resultant file\")"
      ],
      "metadata": {
        "colab": {
          "base_uri": "https://localhost:8080/",
          "height": 1000,
          "referenced_widgets": [
            "e2cf2b05aae94490a543ac11731bec43",
            "b2a2a9c08e284ab196a9a5516de5e0d1",
            "9e82907f7c064f859fecdbcdea03e5d0",
            "4d10b56bbfa848a8b63181245ea24315",
            "ecf89aceaff34a8a9cd9259a6a0d7c20",
            "9609678ccd4144febec0903bc2df5faa",
            "952d7376e7f545b9aa3a7d47ba9dbb18",
            "26edc1fd93b54ba6ad36dc8d94e9ac97",
            "01eb0bdf60ce4c3e8700068dbea17480",
            "d0bf312b2f63482ab422bcd50196358a",
            "b2361c26acb640b5aa5469eb942e302f"
          ]
        },
        "id": "aB2cliTmRzHK",
        "outputId": "7de503ef-bae1-4961-9330-4bb19f505865"
      },
      "execution_count": 3,
      "outputs": [
        {
          "output_type": "display_data",
          "data": {
            "text/plain": [
              " Processing ..:   0%|                                                                                         …"
            ],
            "application/vnd.jupyter.widget-view+json": {
              "version_major": 2,
              "version_minor": 0,
              "model_id": "e2cf2b05aae94490a543ac11731bec43"
            }
          },
          "metadata": {}
        },
        {
          "output_type": "stream",
          "name": "stdout",
          "text": [
            " Kashmiri Column not present in /content/drive/MyDrive/PhD/Dataset/Text/text_files/translated_files/fullnews_id_199788_date_07_25_2009.utf8.cml.V.tkn.cml_updated.wx.mo.utf.pos.chnk.prun.xlsx\n",
            " Kashmiri Column not present in /content/drive/MyDrive/PhD/Dataset/Text/text_files/translated_files/fullnews_id_199888_date_07_25_2.xlsx\n",
            " Kashmiri Column not present in /content/drive/MyDrive/PhD/Dataset/Text/text_files/translated_files/fullnews_id_199789_date_07_25_2009.utf8.cml.V.tkn.cml_updated.wx.mo.utf.pos.chnk.prun.xlsx\n",
            " Kashmiri Column not present in /content/drive/MyDrive/PhD/Dataset/Text/text_files/translated_files/fullnews_id_199790_date_07_25_2009.utf8.cml.V.tkn.cml_updated.wx.mo.utf.pos.chnk.prun.xlsx\n",
            " Kashmiri Column not present in /content/drive/MyDrive/PhD/Dataset/Text/text_files/translated_files/fullnews_id_199791_date_07_25_2009.utf8.cml.V.tkn.cml_updated.wx.mo.utf.pos.chnk.prun.xlsx\n",
            " Kashmiri Column not present in /content/drive/MyDrive/PhD/Dataset/Text/text_files/translated_files/fullnews_id_199792_date_07_25_2009.utf8.cml.V.tkn.cml_updated.wx.mo.utf.pos.chnk.prun.xlsx\n",
            " Kashmiri Column not present in /content/drive/MyDrive/PhD/Dataset/Text/text_files/translated_files/fullnews_id_199793_date_07_25_2009.utf8.cml.V.tkn.cml_updated.wx.mo.utf.pos.chnk.prun.xlsx\n",
            " Kashmiri Column not present in /content/drive/MyDrive/PhD/Dataset/Text/text_files/translated_files/fullnews_id_199988_date_07_25_2009.xlsx\n",
            " Kashmiri Column not present in /content/drive/MyDrive/PhD/Dataset/Text/text_files/translated_files/fullnews_id_199852_date_07_25_2009.utf8.cml.V.tkn.cml_updated.wx.mo.utf.pos.chnk.prun.xlsx\n",
            " Kashmiri Column not present in /content/drive/MyDrive/PhD/Dataset/Text/text_files/translated_files/fullnews_id_199853_date_07_25_2009.utf8.cml.V.tkn.cml_updated.wx.mo.utf.pos.chnk.prun.xlsx\n",
            " Kashmiri Column not present in /content/drive/MyDrive/PhD/Dataset/Text/text_files/translated_files/fullnews_id_199862_date_07_25_2009.utf8.cml.V.tkn.cml_updated.wx.mo.utf.pos.chnk.prun.xlsx\n",
            " Kashmiri Column not present in /content/drive/MyDrive/PhD/Dataset/Text/text_files/translated_files/fullnews_id_199861_date_07_25_2009.utf8.cml.V.tkn.cml_updated.wx.mo.utf.pos.chnk.prun.xlsx\n",
            " Kashmiri Column not present in /content/drive/MyDrive/PhD/Dataset/Text/text_files/translated_files/fullnews_id_199859_date_07_25_2009.utf8.cml.V.tkn.cml_updated.wx.mo.utf.pos.chnk.prun.xlsx\n",
            " Kashmiri Column not present in /content/drive/MyDrive/PhD/Dataset/Text/text_files/translated_files/fullnews_id_199858_date_07_25_2009.utf8.cml.V.tkn.cml_updated.wx.mo.utf.pos.chnk.prun.xlsx\n",
            " Kashmiri Column not present in /content/drive/MyDrive/PhD/Dataset/Text/text_files/translated_files/fullnews_id_199860_date_07_25_2009.utf8.cml.V.tkn.cml_updated.wx.mo.utf.pos.chnk.prun.xlsx\n",
            " Kashmiri Column not present in /content/drive/MyDrive/PhD/Dataset/Text/text_files/translated_files/fullnews_id_199863_date_07_25_2009.utf8.cml.V.tkn.cml_updated.wx.mo.utf.pos.chnk.prun.xlsx\n",
            " Kashmiri Column not present in /content/drive/MyDrive/PhD/Dataset/Text/text_files/translated_files/fullnews_id_199867_date_07_25_2009.utf8.cml.V.tkn.cml_updated.wx.mo.utf.pos.chnk.prun.xlsx\n",
            " Kashmiri Column not present in /content/drive/MyDrive/PhD/Dataset/Text/text_files/translated_files/fullnews_id_199870_date_07_25_2009.utf8.cml.V.tkn.cml_updated.wx.mo.utf.pos.chnk.prun.xlsx\n",
            " Kashmiri Column not present in /content/drive/MyDrive/PhD/Dataset/Text/text_files/translated_files/fullnews_id_199871_date_07_25_2009.utf8.cml.V.tkn.cml_updated.wx.mo.utf.pos.chnk.prun.xlsx\n",
            " Kashmiri Column not present in /content/drive/MyDrive/PhD/Dataset/Text/text_files/translated_files/fullnews_id_199874_date_07_25_2009.utf8.cml.V.tkn.cml_updated.wx.mo.utf.pos.chnk.prun.xlsx\n",
            "\n",
            "Error in reading file fullnews_id_200298_date_07_25_2009.xlsx. Skipping it. \n",
            "\n",
            " Kashmiri Column not present in /content/drive/MyDrive/PhD/Dataset/Text/text_files/translated_files/fullnews_id_199875_date_07_25_2009.utf8.cml.V.tkn.cml_updated.wx.mo.utf.pos.chnk.prun.xlsx\n",
            " Kashmiri Column not present in /content/drive/MyDrive/PhD/Dataset/Text/text_files/translated_files/fullnews_id_199868_date_07_25_2009.utf8.cml.V.tkn.cml_updated.wx.mo.utf.pos.chnk.prun.xlsx\n",
            " Kashmiri Column not present in /content/drive/MyDrive/PhD/Dataset/Text/text_files/translated_files/fullnews_id_199856_date_07_25_2009.utf8.cml.V.tkn.cml_updated.wx.mo.utf.pos.chnk.prun.xlsx\n",
            " Kashmiri Column not present in /content/drive/MyDrive/PhD/Dataset/Text/text_files/translated_files/fullnews_id_199857_date_07_25_2009.utf8.cml.V.tkn.cml_updated.wx.mo.utf.pos.chnk.prun.xlsx\n",
            " Kashmiri Column not present in /content/drive/MyDrive/PhD/Dataset/Text/text_files/translated_files/fullnews_id_199876_date_07_25_2009.utf8.cml.V.tkn.cml_updated.wx.mo.utf.pos.chnk.prun.xlsx\n",
            " Kashmiri Column not present in /content/drive/MyDrive/PhD/Dataset/Text/text_files/translated_files/fullnews_id_199855_date_07_25_2009.utf8.cml.V.tkn.cml_updated.wx.mo.utf.pos.chnk.prun.xlsx\n",
            " Kashmiri Column not present in /content/drive/MyDrive/PhD/Dataset/Text/text_files/translated_files/fullnews_id_199879_date_07_25_2009.utf8.cml.V.tkn.cml_updated.wx.mo.utf.pos.chnk.prun.xlsx\n",
            " Kashmiri Column not present in /content/drive/MyDrive/PhD/Dataset/Text/text_files/translated_files/fullnews_id_199787_date_07_25_2009.utf8.cml.V.tkn.cml_updated.wx.mo.utf.pos.chnk.prun.xlsx\n",
            " Kashmiri Column not present in /content/drive/MyDrive/PhD/Dataset/Text/text_files/translated_files/fullnews_id_199794_date_07_25_2009.utf8.cml.V.tkn.cml_updated.wx.mo.utf.pos.chnk.prun.xlsx\n",
            " Kashmiri Column not present in /content/drive/MyDrive/PhD/Dataset/Text/text_files/translated_files/fullnews_id_199795_date_07_25_2009.utf8.cml.V.tkn.cml_updated.wx.mo.utf.pos.chnk.prun.xlsx\n",
            " Kashmiri Column not present in /content/drive/MyDrive/PhD/Dataset/Text/text_files/translated_files/fullnews_id_199796_date_07_25_2009.utf8.cml.V.tkn.cml_updated.wx.mo.utf.pos.chnk.prun.xlsx\n",
            " Kashmiri Column not present in /content/drive/MyDrive/PhD/Dataset/Text/text_files/translated_files/fullnews_id_199886_date_07_25_2009.utf8.cml.V.tkn.cml_updated.wx.mo.utf.pos.chnk.prun.xlsx\n",
            " Kashmiri Column not present in /content/drive/MyDrive/PhD/Dataset/Text/text_files/translated_files/fullnews_id_199797_date_07_25_2009.utf8.cml.V.tkn.cml_updated.wx.mo.utf.pos.chnk.prun.xlsx\n",
            " Kashmiri Column not present in /content/drive/MyDrive/PhD/Dataset/Text/text_files/translated_files/fullnews_id_199798_date_07_25_2009.utf8.cml.V.tkn.cml_updated.wx.mo.utf.pos.chnk.prun.xlsx\n",
            " Kashmiri Column not present in /content/drive/MyDrive/PhD/Dataset/Text/text_files/translated_files/fullnews_id_199800_date_07_25_2009.utf8.cml.V.tkn.cml_updated.wx.mo.utf.pos.chnk.prun.xlsx\n",
            " Kashmiri Column not present in /content/drive/MyDrive/PhD/Dataset/Text/text_files/translated_files/fullnews_id_199799_date_07_25_2009.utf8.cml.V.tkn.cml_updated.wx.mo.utf.pos.chnk.prun.xlsx\n",
            " Kashmiri Column not present in /content/drive/MyDrive/PhD/Dataset/Text/text_files/translated_files/fullnews_id_199801_date_07_25_2009.utf8.cml.V.tkn.cml_updated.wx.mo.utf.pos.chnk.prun.xlsx\n",
            " Kashmiri Column not present in /content/drive/MyDrive/PhD/Dataset/Text/text_files/translated_files/fullnews_id_199802_date_07_25_2009.utf8.cml.V.tkn.cml_updated.wx.mo.utf.pos.chnk.prun.xlsx\n",
            " Kashmiri Column not present in /content/drive/MyDrive/PhD/Dataset/Text/text_files/translated_files/fullnews_id_199803_date_07_25_2009.utf8.cml.V.tkn.cml_updated.wx.mo.utf.pos.chnk.prun.xlsx\n",
            " Kashmiri Column not present in /content/drive/MyDrive/PhD/Dataset/Text/text_files/translated_files/fullnews_id_199804_date_07_25_2009.utf8.cml.V.tkn.cml_updated.wx.mo.utf.pos.chnk.prun.xlsx\n",
            " Kashmiri Column not present in /content/drive/MyDrive/PhD/Dataset/Text/text_files/translated_files/fullnews_id_199805_date_07_25_2009.utf8.cml.V.tkn.cml_updated.wx.mo.utf.pos.chnk.prun.xlsx\n",
            " Kashmiri Column not present in /content/drive/MyDrive/PhD/Dataset/Text/text_files/translated_files/fullnews_id_199806_date_07_25_2009.utf8.cml.V.tkn.cml_updated.wx.mo.utf.pos.chnk.prun.xlsx\n",
            " Kashmiri Column not present in /content/drive/MyDrive/PhD/Dataset/Text/text_files/translated_files/fullnews_id_199885_date_07_25_2009.utf8.cml.V.tkn.cml_updated.wx.mo.utf.pos.chnk.prun.xlsx\n",
            " Kashmiri Column not present in /content/drive/MyDrive/PhD/Dataset/Text/text_files/translated_files/fullnews_id_199807_date_07_25_2009.utf8.cml.V.tkn.cml_updated.wx.mo.utf.pos.chnk.prun.xlsx\n",
            " Kashmiri Column not present in /content/drive/MyDrive/PhD/Dataset/Text/text_files/translated_files/fullnews_id_199808_date_07_25_2009.utf8.cml.V.tkn.cml_updated.wx.mo.utf.pos.chnk.prun.xlsx\n",
            " Kashmiri Column not present in /content/drive/MyDrive/PhD/Dataset/Text/text_files/translated_files/fullnews_id_199884_date_07_25_2009.utf8.cml.V.tkn.cml_updated.wx.mo.utf.pos.chnk.prun.xlsx\n",
            " Kashmiri Column not present in /content/drive/MyDrive/PhD/Dataset/Text/text_files/translated_files/fullnews_id_199883_date_07_25_2009.utf8.cml.V.tkn.cml_updated.wx.mo.utf.pos.chnk.prun.xlsx\n",
            " Kashmiri Column not present in /content/drive/MyDrive/PhD/Dataset/Text/text_files/translated_files/fullnews_id_199809_date_07_25_2009.utf8.cml.V.tkn.cml_updated.wx.mo.utf.pos.chnk.prun.xlsx\n",
            " Kashmiri Column not present in /content/drive/MyDrive/PhD/Dataset/Text/text_files/translated_files/fullnews_id_199810_date_07_25_2009.utf8.cml.V.tkn.cml_updated.wx.mo.utf.pos.chnk.prun.xlsx\n",
            " Kashmiri Column not present in /content/drive/MyDrive/PhD/Dataset/Text/text_files/translated_files/fullnews_id_199811_date_07_25_2009.utf8.cml.V.tkn.cml_updated.wx.mo.utf.pos.chnk.prun.xlsx\n",
            " Kashmiri Column not present in /content/drive/MyDrive/PhD/Dataset/Text/text_files/translated_files/fullnews_id_199812_date_07_25_2009.utf8.cml.V.tkn.cml_updated.wx.mo.utf.pos.chnk.prun.xlsx\n",
            " Kashmiri Column not present in /content/drive/MyDrive/PhD/Dataset/Text/text_files/translated_files/fullnews_id_199813_date_07_25_2009.utf8.cml.V.tkn.cml_updated.wx.mo.utf.pos.chnk.prun.xlsx\n",
            " Kashmiri Column not present in /content/drive/MyDrive/PhD/Dataset/Text/text_files/translated_files/fullnews_id_199814_date_07_25_2009.utf8.cml.V.tkn.cml_updated.wx.mo.utf.pos.chnk.prun.xlsx\n",
            " Kashmiri Column not present in /content/drive/MyDrive/PhD/Dataset/Text/text_files/translated_files/fullnews_id_199816_date_07_25_2009.utf8.cml.V.tkn.cml_updated.wx.mo.utf.pos.chnk.prun.xlsx\n",
            " Kashmiri Column not present in /content/drive/MyDrive/PhD/Dataset/Text/text_files/translated_files/fullnews_id_199817_date_07_25_2009.utf8.cml.V.tkn.cml_updated.wx.mo.utf.pos.chnk.prun.xlsx\n",
            " Kashmiri Column not present in /content/drive/MyDrive/PhD/Dataset/Text/text_files/translated_files/fullnews_id_199818_date_07_25_2009.utf8.cml.V.tkn.cml_updated.wx.mo.utf.pos.chnk.prun.xlsx\n",
            " Kashmiri Column not present in /content/drive/MyDrive/PhD/Dataset/Text/text_files/translated_files/fullnews_id_199819_date_07_25_2009.utf8.cml.V.tkn.cml_updated.wx.mo.utf.pos.chnk.pru.xlsx\n",
            " Kashmiri Column not present in /content/drive/MyDrive/PhD/Dataset/Text/text_files/translated_files/fullnews_id_199820_date_07_25_2009.utf8.cml.V.tkn.cml_updated.wx.mo.utf.pos.chnk.prun.xlsx\n",
            " Kashmiri Column not present in /content/drive/MyDrive/PhD/Dataset/Text/text_files/translated_files/fullnews_id_199821_date_07_25_2009.utf8.cml.V.tkn.cml_updated.wx.mo.utf.pos.chnk.prun.xlsx\n",
            " Kashmiri Column not present in /content/drive/MyDrive/PhD/Dataset/Text/text_files/translated_files/fullnews_id_199822_date_07_25_2009.utf8.cml.V.tkn.cml_updated.wx.mo.utf.pos.chnk.prun.xlsx\n",
            " Kashmiri Column not present in /content/drive/MyDrive/PhD/Dataset/Text/text_files/translated_files/fullnews_id_199823_date_07_25_2009.utf8.cml.V.tkn.cml_updated.wx.mo.utf.pos.chnk.prun.xlsx\n",
            " Kashmiri Column not present in /content/drive/MyDrive/PhD/Dataset/Text/text_files/translated_files/fullnews_id_199824_date_07_25_2009.utf8.cml.V.tkn.cml_updated.wx.mo.utf.pos.chnk.prun.xlsx\n",
            " Kashmiri Column not present in /content/drive/MyDrive/PhD/Dataset/Text/text_files/translated_files/fullnews_id_199825_date_07_25_2009.utf8.cml.V.tkn.cml_updated.wx.mo.utf.pos.chnk.prun.xlsx\n",
            " Kashmiri Column not present in /content/drive/MyDrive/PhD/Dataset/Text/text_files/translated_files/fullnews_id_199827_date_07_25_2009.utf8.cml.V.tkn.cml_updated.wx.mo.utf.pos.chnk.prun.xlsx\n",
            " Kashmiri Column not present in /content/drive/MyDrive/PhD/Dataset/Text/text_files/translated_files/fullnews_id_199829_date_07_25_2009.utf8.cml.V.tkn.cml_updated.wx.mo.utf.pos.chnk.prun.xlsx\n",
            " Kashmiri Column not present in /content/drive/MyDrive/PhD/Dataset/Text/text_files/translated_files/fullnews_id_199830_date_07_25_2009.utf8.cml.V.tkn.cml_updated.wx.mo.utf.pos.chnk.prun.xlsx\n",
            " Kashmiri Column not present in /content/drive/MyDrive/PhD/Dataset/Text/text_files/translated_files/fullnews_id_199831_date_07_25_2009.utf8.cml.V.tkn.cml_updated.wx.mo.utf.pos.chnk.prun.xlsx\n",
            " Kashmiri Column not present in /content/drive/MyDrive/PhD/Dataset/Text/text_files/translated_files/fullnews_id_199832_date_07_25_2009.utf8.cml.V.tkn.cml_updated.wx.mo.utf.pos.chnk.prun.xlsx\n",
            " Kashmiri Column not present in /content/drive/MyDrive/PhD/Dataset/Text/text_files/translated_files/fullnews_id_199833_date_07_25_2009.utf8.cml.V.tkn.cml_updated.wx.mo.utf.pos.chnk.prun.xlsx\n",
            " Kashmiri Column not present in /content/drive/MyDrive/PhD/Dataset/Text/text_files/translated_files/fullnews_id_199835_date_07_25_2009.utf8.cml.V.tkn.cml_updated.wx.mo.utf.pos.chnk.prun.xlsx\n",
            " Kashmiri Column not present in /content/drive/MyDrive/PhD/Dataset/Text/text_files/translated_files/fullnews_id_199836_date_07_25_2009.utf8.cml.V.tkn.cml_updated.wx.mo.utf.pos.chnk.prun.xlsx\n",
            " Kashmiri Column not present in /content/drive/MyDrive/PhD/Dataset/Text/text_files/translated_files/fullnews_id_199826_date_07_25_2009.utf8.cml.V.tkn.cml_updated.wx.mo.utf.pos.chnk.prun.xlsx\n",
            " Kashmiri Column not present in /content/drive/MyDrive/PhD/Dataset/Text/text_files/translated_files/fullnews_id_199837_date_07_25_2009.utf8.cml.V.tkn.cml_updated.wx.mo.utf.pos.chnk.prun.xlsx\n",
            " Kashmiri Column not present in /content/drive/MyDrive/PhD/Dataset/Text/text_files/translated_files/fullnews_id_199838_date_07_25_2009.utf8.cml.V.tkn.cml_updated.wx.mo.utf.pos.chnk.prun.xlsx\n",
            " Kashmiri Column not present in /content/drive/MyDrive/PhD/Dataset/Text/text_files/translated_files/fullnews_id_199839_date_07_25_2009.utf8.cml.V.tkn.cml_updated.wx.mo.utf.pos.chnk.prun.xlsx\n",
            " Kashmiri Column not present in /content/drive/MyDrive/PhD/Dataset/Text/text_files/translated_files/fullnews_id_199840_date_07_25_2009.utf8.cml.V.tkn.cml_updated.wx.mo.utf.pos.chnk.prun.xlsx\n",
            " Kashmiri Column not present in /content/drive/MyDrive/PhD/Dataset/Text/text_files/translated_files/fullnews_id_199842_date_07_25_2009.utf8.cml.V.tkn.cml_updated.wx.mo.utf.pos.chnk.prun.xlsx\n",
            " Kashmiri Column not present in /content/drive/MyDrive/PhD/Dataset/Text/text_files/translated_files/fullnews_id_199834_date_07_25_2009.utf8.cml.V.tkn.cml_updated.wx.mo.utf.pos.chnk.prun.xlsx\n",
            " Kashmiri Column not present in /content/drive/MyDrive/PhD/Dataset/Text/text_files/translated_files/fullnews_id_199841_date_07_25_2009.utf8.cml.V.tkn.cml_updated.wx.mo.utf.pos.chnk.prun.xlsx\n",
            " Kashmiri Column not present in /content/drive/MyDrive/PhD/Dataset/Text/text_files/translated_files/fullnews_id_199843_date_07_25_2009.utf8.cml.V.tkn.cml_updated.wx.mo.utf.pos.chnk.prun.xlsx\n",
            " Kashmiri Column not present in /content/drive/MyDrive/PhD/Dataset/Text/text_files/translated_files/fullnews_id_199844_date_07_25_2009.utf8.cml.V.tkn.cml_updated.wx.mo.utf.pos.chnk.prun.xlsx\n",
            " Kashmiri Column not present in /content/drive/MyDrive/PhD/Dataset/Text/text_files/translated_files/fullnews_id_199845_date_07_25_2009.utf8.cml.V.tkn.cml_updated.wx.mo.utf.pos.chnk.prun.xlsx\n",
            " Kashmiri Column not present in /content/drive/MyDrive/PhD/Dataset/Text/text_files/translated_files/fullnews_id_199846_date_07_25_2009.utf8.cml.V.tkn.cml_updated.wx.mo.utf.pos.chnk.prun.xlsx\n",
            " Kashmiri Column not present in /content/drive/MyDrive/PhD/Dataset/Text/text_files/translated_files/fullnews_id_199847_date_07_25_2009.utf8.cml.V.tkn.cml_updated.wx.mo.utf.pos.chnk.prun.xlsx\n",
            " Kashmiri Column not present in /content/drive/MyDrive/PhD/Dataset/Text/text_files/translated_files/fullnews_id_199848_date_07_25_2009.utf8.cml.V.tkn.cml_updated.wx.mo.utf.pos.chnk.prun.xlsx\n",
            " Kashmiri Column not present in /content/drive/MyDrive/PhD/Dataset/Text/text_files/translated_files/fullnews_id_199849_date_07_25_2009.utf8.cml.V.tkn.cml_updated.wx.mo.utf.pos.chnk.prun.xlsx\n",
            " Kashmiri Column not present in /content/drive/MyDrive/PhD/Dataset/Text/text_files/translated_files/fullnews_id_199850_date_07_25_2009.utf8.cml.V.tkn.cml_updated.wx.mo.utf.pos.chnk.prun.xlsx\n",
            " Kashmiri Column not present in /content/drive/MyDrive/PhD/Dataset/Text/text_files/translated_files/fullnews_id_199851_date_07_25_2009.utf8.cml.V.tkn.cml_updated.wx.mo.utf.pos.chnk.prun.xlsx\n",
            " Kashmiri Column not present in /content/drive/MyDrive/PhD/Dataset/Text/text_files/translated_files/fullnews_id_199854_date_07_25_2009.utf8.cml.V.tkn.cml_updated.wx.mo.utf.pos.chnk.prun.xlsx\n",
            " Kashmiri Column not present in /content/drive/MyDrive/PhD/Dataset/Text/text_files/translated_files/fullnews_id_199864_date_07_25_2009.utf8.cml.V.tkn.cml_updated.wx.mo.utf.pos.chnk.prun.xlsx\n",
            " Kashmiri Column not present in /content/drive/MyDrive/PhD/Dataset/Text/text_files/translated_files/fullnews_id_199865_date_07_25_2009.utf8.cml.V.tkn.cml_updated.wx.mo.utf.pos.chnk.prun.xlsx\n",
            " Kashmiri Column not present in /content/drive/MyDrive/PhD/Dataset/Text/text_files/translated_files/fullnews_id_199866_date_07_25_2009.utf8.cml.V.tkn.cml_updated.wx.mo.utf.pos.chnk.prun.xlsx\n",
            " Kashmiri Column not present in /content/drive/MyDrive/PhD/Dataset/Text/text_files/translated_files/fullnews_id_199872_date_07_25_2009.utf8.cml.V.tkn.cml_updated.wx.mo.utf.pos.chnk.prun.xlsx\n",
            " Kashmiri Column not present in /content/drive/MyDrive/PhD/Dataset/Text/text_files/translated_files/fullnews_id_199873_date_07_25_2009.utf8.cml.V.tkn.cml_updated.wx.mo.utf.pos.chnk.prun.xlsx\n",
            " Kashmiri Column not present in /content/drive/MyDrive/PhD/Dataset/Text/text_files/translated_files/fullnews_id_199877_date_07_25_2009.utf8.cml.V.tkn.cml_updated.wx.mo.utf.pos.chnk.prun.xlsx\n",
            " Kashmiri Column not present in /content/drive/MyDrive/PhD/Dataset/Text/text_files/translated_files/fullnews_id_199869_date_07_25_2009.utf8.cml.V.tkn.cml_updated.wx.mo.utf.pos.chnk.prun.xlsx\n",
            " Kashmiri Column not present in /content/drive/MyDrive/PhD/Dataset/Text/text_files/translated_files/fullnews_id_199878_date_07_25_2009.utf8.cml.V.tkn.cml_updated.wx.mo.utf.pos.chnk.prun.xlsx\n",
            " Kashmiri Column not present in /content/drive/MyDrive/PhD/Dataset/Text/text_files/translated_files/fullnews_id_199880_date_07_25_2009.utf8.cml.V.tkn.cml_updated.wx.mo.utf.pos.chnk.prun.xlsx\n",
            " Kashmiri Column not present in /content/drive/MyDrive/PhD/Dataset/Text/text_files/translated_files/fullnews_id_199882_date_07_25_2009.utf8.cml.V.tkn.cml_updated.wx.mo.utf.pos.chnk.prun.xlsx\n",
            " Kashmiri Column not present in /content/drive/MyDrive/PhD/Dataset/Text/text_files/translated_files/fullnews_id_199881_date_07_25_2009.utf8.cml.V.tkn.cml_updated.wx.mo.utf.pos.chnk.prun.xlsx\n",
            " Kashmiri Column not present in /content/drive/MyDrive/PhD/Dataset/Text/text_files/translated_files/fullnews_id_199828_date_07_25_2009.utf8.cml.V.tkn.cml_updated.wx.mo.utf.pos.chnk.prun.xlsx\n",
            " Kashmiri Column not present in /content/drive/MyDrive/PhD/Dataset/Text/text_files/translated_files/fullnews_id_200047_date_07_25_2009.xlsx\n",
            " Kashmiri Column not present in /content/drive/MyDrive/PhD/Dataset/Text/text_files/translated_files/fullnews_id_200308_date_07_25_2009.xlsx\n",
            " Kashmiri Column not present in /content/drive/MyDrive/PhD/Dataset/Text/text_files/translated_files/fullnews_id_199994_date_07_25_2009.xlsx\n",
            " Kashmiri Column not present in /content/drive/MyDrive/PhD/Dataset/Text/text_files/translated_files/fullnews_id_200071_date_07_25_2009.cml.V.tkn.cml_updated.mo.pos.chnk.prun.xlsx\n",
            " Kashmiri Column not present in /content/drive/MyDrive/PhD/Dataset/Text/text_files/translated_files/fullnews_id_200073_date_07_25_2009.cml.V.tkn.cml_updated.mo.pos.chnk.prun.xlsx\n",
            " Kashmiri Column not present in /content/drive/MyDrive/PhD/Dataset/Text/text_files/translated_files/fullnews_id_200069_date_07_25_2009.utf8.cml.V.tkn.cml_updated.mo.pos.chnk.prun.xlsx\n",
            " Kashmiri Column not present in /content/drive/MyDrive/PhD/Dataset/Text/text_files/translated_files/fullnews_id_200074_date_07_25_2009.txt.utf8.cml.V.tkn.cml_updated.wx.mo.utf.pos.chnk.cml_updated.wx.mo.utf.pos.chnk.prun.xlsx\n",
            " Kashmiri Column not present in /content/drive/MyDrive/PhD/Dataset/Text/text_files/translated_files/fullnews_id_200077_date_07_25_2009.utf8.cml.V.tkn.cml_updated.wx.mo.utf.pos.chnk.prun.xlsx\n",
            " Kashmiri Column not present in /content/drive/MyDrive/PhD/Dataset/Text/text_files/translated_files/fullnews_id_200169_date_07_25_2009.xlsx\n",
            " Kashmiri Column not present in /content/drive/MyDrive/PhD/Dataset/Text/text_files/translated_files/fullnews_id_200080_date_07_25_2009.txt.utf8.cml.V.tkn.cml_updated.wx.mo.utf.pos.chnk.prun.xlsx\n",
            " Kashmiri Column not present in /content/drive/MyDrive/PhD/Dataset/Text/text_files/translated_files/fullnews_id_200013_date_07_25_2009.xlsx\n",
            " Kashmiri Column not present in /content/drive/MyDrive/PhD/Dataset/Text/text_files/translated_files/fullnews_id_200319_date_07_25_2009.xlsx\n",
            " Kashmiri Column not present in /content/drive/MyDrive/PhD/Dataset/Text/text_files/translated_files/fullnews_id_200079_date_07_25_2009.utf8.cml.V.tkn.cml_updated.wx.mo.utf.pos.chnk.prun.xlsx\n",
            " Kashmiri Column not present in /content/drive/MyDrive/PhD/Dataset/Text/text_files/translated_files/fullnews_id_200081_date_07_25_2009.cml.V.tkn.cml_updated.mo.pos.chnk.prun.xlsx\n",
            " Kashmiri Column not present in /content/drive/MyDrive/PhD/Dataset/Text/text_files/translated_files/fullnews_id_200076_date_07_25_2009.txt.txt.utf8.cml.V.tkn.cml_updated.wx.mo.utf.pos.chnk.prun.xlsx\n",
            " Kashmiri Column not present in /content/drive/MyDrive/PhD/Dataset/Text/text_files/translated_files/fullnews_id_200072_date_07_25_2009.txt.utf8.cml.V.tkn.cml_updated.wx.mo.utf.pos.chnk.prun.xlsx\n",
            " Kashmiri Column not present in /content/drive/MyDrive/PhD/Dataset/Text/text_files/translated_files/fullnews_id_200070_date_07_25_2009.cml.V.tkn.cml_updated.mo.pos.chnk.prun.xlsx\n",
            " Kashmiri Column not present in /content/drive/MyDrive/PhD/Dataset/Text/text_files/translated_files/fullnews_id_200075_date_07_25_2009.txt.utf8.cml.V.tkn.cml_updated.wx.mo.utf.pos.chnk.prun.xlsx\n",
            " Kashmiri Column not present in /content/drive/MyDrive/PhD/Dataset/Text/text_files/translated_files/fullnews_id_200078_date_07_25_2009.cml.V.tkn.cml_updated.mo.pos.chnk.prun.xlsx\n",
            " Kashmiri Column not present in /content/drive/MyDrive/PhD/Dataset/Text/text_files/translated_files/fullnews_id_200083_date_07_25_2009.cml.V.tkn.cml_updated.mo.pos.chnk.prun.xlsx\n",
            " Kashmiri Column not present in /content/drive/MyDrive/PhD/Dataset/Text/text_files/translated_files/fullnews_id_200087_date_07_25_2009.utf8.cml.V.tkn.cml_updated.mo.pos.chnk.prun.xlsx\n",
            " Kashmiri Column not present in /content/drive/MyDrive/PhD/Dataset/Text/text_files/translated_files/fullnews_id_200086_date_07_25_2009.utf8.cml.V.tkn.cml_updated.wx.mo.utf.pos.chnk.prun.xlsx\n",
            " Kashmiri Column not present in /content/drive/MyDrive/PhD/Dataset/Text/text_files/translated_files/fullnews_id_200010_date_07_25_2009.xlsx\n",
            " Kashmiri Column not present in /content/drive/MyDrive/PhD/Dataset/Text/text_files/translated_files/fullnews_id_200085_date_07_25_2009.cml.V.tkn.cml_updated.mo.pos.chnk.prun.xlsx\n",
            " Kashmiri Column not present in /content/drive/MyDrive/PhD/Dataset/Text/text_files/translated_files/fullnews_id_200084_date_07_25_2009.utf8.cml.V.tkn.cml_updated.wx.mo.utf.pos.chnk.prun.xlsx\n",
            " Kashmiri Column not present in /content/drive/MyDrive/PhD/Dataset/Text/text_files/translated_files/fullnews_id_200333_date_07_25_2009۔.xlsx\n",
            " Kashmiri Column not present in /content/drive/MyDrive/PhD/Dataset/Text/text_files/translated_files/fullnews_id_200082_date_07_25_2009.utf8.cml.V.tkn.cml_updated.wx.mo.utf.pos.chnk.prun.xlsx\n",
            " Kashmiri Column not present in /content/drive/MyDrive/PhD/Dataset/Text/text_files/translated_files/fullnews_id_199910_date_07_25_2.xlsx\n",
            " Kashmiri Column not present in /content/drive/MyDrive/PhD/Dataset/Text/text_files/translated_files/fullnews_id_200068_date_07_25_2.xlsx\n",
            " Kashmiri Column not present in /content/drive/MyDrive/PhD/Dataset/Text/text_files/translated_files/fullnews_id_200374_date_07_25_2009.xlsx\n",
            " Kashmiri Column not present in /content/drive/MyDrive/PhD/Dataset/Text/text_files/translated_files/fullnews_id_200024_date_07_25_2009.xlsx\n",
            " Kashmiri Column not present in /content/drive/MyDrive/PhD/Dataset/Text/text_files/translated_files/fullnews_id_200021_date_07_25_2009.xlsx\n",
            " Kashmiri Column not present in /content/drive/MyDrive/PhD/Dataset/Text/text_files/translated_files/fullnews_id_200030_date_07_25_2009.xlsx\n",
            " Kashmiri Column not present in /content/drive/MyDrive/PhD/Dataset/Text/text_files/translated_files/fullnews_id_200044_date_07_25_2009.xlsx\n",
            " Kashmiri Column not present in /content/drive/MyDrive/PhD/Dataset/Text/text_files/translated_files/fullnews_id_200213_date_07_25_2009.xlsx\n",
            " Kashmiri Column not present in /content/drive/MyDrive/PhD/Dataset/Text/text_files/translated_files/fullnews_id_200215_date_07_25_2009.xlsx\n",
            " Kashmiri Column not present in /content/drive/MyDrive/PhD/Dataset/Text/text_files/translated_files/fullnews_id_200233_date_07_25_2009.xlsx\n",
            " Kashmiri Column not present in /content/drive/MyDrive/PhD/Dataset/Text/text_files/translated_files/fullnews_id_200231_date_07_25_2009.xlsx\n",
            " Kashmiri Column not present in /content/drive/MyDrive/PhD/Dataset/Text/text_files/translated_files/fullnews_id_200232_date_07_25_2009.xlsx\n",
            " Kashmiri Column not present in /content/drive/MyDrive/PhD/Dataset/Text/text_files/translated_files/fullnews_id_200239_date_07_25_2009.xlsx\n",
            " Kashmiri Column not present in /content/drive/MyDrive/PhD/Dataset/Text/text_files/translated_files/fullnews_id_200235_date_07_25_2009.xlsx\n",
            " Kashmiri Column not present in /content/drive/MyDrive/PhD/Dataset/Text/text_files/translated_files/fullnews_id_200250_date_07_25_2009.xlsx\n",
            " Kashmiri Column not present in /content/drive/MyDrive/PhD/Dataset/Text/text_files/translated_files/fullnews_id_200258_date_07_25_2009.xlsx\n",
            " Kashmiri Column not present in /content/drive/MyDrive/PhD/Dataset/Text/text_files/translated_files/fullnews_id_200264_date_07_25_2009.xlsx\n",
            " Kashmiri Column not present in /content/drive/MyDrive/PhD/Dataset/Text/text_files/translated_files/fullnews_id_200267_date_07_25_2009.xlsx\n",
            " Kashmiri Column not present in /content/drive/MyDrive/PhD/Dataset/Text/text_files/translated_files/fullnews_id_200382_date_07_25_2009.utf8.cml.V.tkn.cml_updated.mo.pos.chnk.prun.xlsx\n",
            " Kashmiri Column not present in /content/drive/MyDrive/PhD/Dataset/Text/text_files/translated_files/fullnews_id_200350_date_07_25_2009۔.xlsx\n",
            " Kashmiri Column not present in /content/drive/MyDrive/PhD/Dataset/Text/text_files/translated_files/fullnews_id_200365_date_07_25_2009۔.xlsx\n",
            " Kashmiri Column not present in /content/drive/MyDrive/PhD/Dataset/Text/text_files/translated_files/fullnews_id_199887_date_07_25_2.xlsx\n",
            "\n",
            "Error in reading file fullnews_id_200328_date_07_25_2009۔.xlsx. Skipping it. \n",
            "\n",
            " Kashmiri Column not present in /content/drive/MyDrive/PhD/Dataset/Text/text_files/translated_files/fullnews_id_200386_date_07_25_2009.xlsx\n",
            " Kashmiri Column not present in /content/drive/MyDrive/PhD/Dataset/Text/text_files/translated_files/fullnews_id_200377_date_07_25_2009.txt.utf8.cml.V.tkn.cml_updated.wx.mo.utf.pos.chnk.prun.xlsx\n",
            " Skipped Files: 2 \n",
            " Files with kashmiri column: 152\n"
          ]
        },
        {
          "output_type": "stream",
          "name": "stderr",
          "text": [
            "\rSaving Resultant file: 0it [00:00, ?it/s]"
          ]
        },
        {
          "output_type": "execute_result",
          "data": {
            "text/plain": [
              "<tqdm.std.tqdm at 0x7fdd0b508bb0>"
            ]
          },
          "metadata": {},
          "execution_count": 3
        }
      ]
    },
    {
      "cell_type": "markdown",
      "source": [
        "# Below code was an attempt to process those files for which there is no header information and by the text itself was tried to figure out which column contains urdu and which one contains kashmiri text. Atleast there are 152 files which are header less in addition to 2 files which have reading problem.\n"
      ],
      "metadata": {
        "id": "HvDX2eHlIqd_"
      }
    },
    {
      "cell_type": "code",
      "source": [
        "from docx import Document\n",
        "import re\n",
        "document = Document()\n",
        "directory = '/content/drive/MyDrive/PhD/Dataset/Text/text_files/translated_files'\n",
        "tqdm_files  = tqdm_notebook(os.listdir(directory), unit=\"item\", ncols= 1000, desc = \" Processing ..\")\n",
        "files_without_kashmiri_column= 0\n",
        "files_skipped_dueto_error = 0\n",
        "desired_header_name = 'kashmiri'\n",
        "urdu_pattern = re.compile(r'[\\u0600-\\u06FF\\s]+')\n",
        "kashmiri_pattern = re.compile(r'[\\u0620]')\n",
        "for filename in tqdm_files:\n",
        "    if filename.endswith(\".xlsx\") or filename.endswith(\".xls\"):\n",
        "\n",
        "      file_path = os.path.join(directory, filename)\n",
        "      try:\n",
        "          tqdm_files.set_description_str(f\"Processing {filename}\")\n",
        "          df = pd.read_excel(file_path)\n",
        "          # kashmiri_column = df.iloc[:, 0].astype(str)\n",
        "          matching_columns = [col for col in df.columns if str(col).lower() == desired_header_name.lower()]\n",
        "          print(f'processing {filename} ')\n",
        "          if  matching_columns:\n",
        "            print(\"kashmri column present by heading\")\n",
        "          else:\n",
        "            check_cols(df)\n",
        "      except ValueError:\n",
        "          print(\"\\nError in reading file {}. Skipping it. \\n\".format(filename))\n",
        "          files_skipped_dueto_error = files_skipped_dueto_error + 1\n",
        "\n",
        "print ( ' Skipped Files: {} \\n Files with kashmiri column: {}'. format (  files_skipped_dueto_error, files_without_kashmiri_column))\n",
        "tqdm(document.save(\"/content/drive/MyDrive/PhD/Dataset/Text/text_files/corpus/news_corpus.docx\"), desc=\"Saving Resultant file\")\n"
      ],
      "metadata": {
        "id": "w5R1L3WVqBf6"
      },
      "execution_count": null,
      "outputs": []
    },
    {
      "cell_type": "code",
      "source": [
        "def check_cols(df):\n",
        "  for column in df.columns:\n",
        "        contains_urdu = any(re.search(urdu_pattern, str(value)) for value in df[column])\n",
        "        contains_kashmiri = any(re.search(kashmiri_pattern, str(value)) for value in df[column])\n",
        "\n",
        "        if contains_urdu and contains_kashmiri:\n",
        "            print(f\"Column {column}: Contains Urdu and Kashmiri text\")\n",
        "        elif contains_urdu:\n",
        "            print(f\"Column {column}: Contains Urdu text\")\n",
        "        elif contains_kashmiri:\n",
        "            print(f\"Column {column}: Contains Kashmiri text\")\n",
        "        else:\n",
        "            print(f\"Column {column}: Does not contain Urdu or Kashmiri text\")\n",
        ""
      ],
      "metadata": {
        "id": "kiAKMz1z_cY9"
      },
      "execution_count": 5,
      "outputs": []
    }
  ]
}