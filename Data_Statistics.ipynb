{
  "nbformat": 4,
  "nbformat_minor": 0,
  "metadata": {
    "colab": {
      "provenance": [],
      "authorship_tag": "ABX9TyPHcUIEgaME+5qPrheY99NX",
      "include_colab_link": true
    },
    "kernelspec": {
      "name": "python3",
      "display_name": "Python 3"
    },
    "language_info": {
      "name": "python"
    }
  },
  "cells": [
    {
      "cell_type": "markdown",
      "metadata": {
        "id": "view-in-github",
        "colab_type": "text"
      },
      "source": [
        "<a href=\"https://colab.research.google.com/github/mshafi710/kttsdataenrichment/blob/main/Data_Statistics.ipynb\" target=\"_parent\"><img src=\"https://colab.research.google.com/assets/colab-badge.svg\" alt=\"Open In Colab\"/></a>"
      ]
    },
    {
      "cell_type": "markdown",
      "source": [
        "Statistics\n",
        "\n",
        "*   Total Number of Sentences\n",
        "*   Total Number of Unique Words\n",
        "*   Total Number of Words\n",
        "*   Average Length of a sentence\n",
        "*   Total Recorders\n",
        "*   Total Reviewers\n",
        "*   Total Recodings\n",
        "*   Total Reviewed Recordings\n",
        "*   Total Accepted Recordings\n",
        "*   Total Rejected Recordings\n",
        "*   Average Review of the Recordings\n",
        "*   Box Plot of the length of the sentences\n",
        "*   Box Plot of the \n",
        "\n"
      ],
      "metadata": {
        "id": "q7IPfLvKKIf4"
      }
    }
  ]
}