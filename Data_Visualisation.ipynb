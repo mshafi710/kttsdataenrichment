{
  "nbformat": 4,
  "nbformat_minor": 0,
  "metadata": {
    "colab": {
      "provenance": [],
      "authorship_tag": "ABX9TyPhKbsFi1uksKcLTW4rCYM7",
      "include_colab_link": true
    },
    "kernelspec": {
      "name": "python3",
      "display_name": "Python 3"
    },
    "language_info": {
      "name": "python"
    }
  },
  "cells": [
    {
      "cell_type": "markdown",
      "metadata": {
        "id": "view-in-github",
        "colab_type": "text"
      },
      "source": [
        "<a href=\"https://colab.research.google.com/github/mshafi710/kttsdataenrichment/blob/main/Data_Visualisation.ipynb\" target=\"_parent\"><img src=\"https://colab.research.google.com/assets/colab-badge.svg\" alt=\"Open In Colab\"/></a>"
      ]
    },
    {
      "cell_type": "code",
      "execution_count": null,
      "metadata": {
        "id": "HGFd9WHnFJXW"
      },
      "outputs": [],
      "source": []
    },
    {
      "cell_type": "code",
      "source": [
        "# def plot_word_frequency(word_freq,counts):\n",
        "\n",
        "#       fig,ax=plt.subplots(figsize=(12,8))\n",
        "#       prop=FontProperties(fname=\"/content/drive/MyDrive/PhD/Dataset/Text/fonts/Afan_Koshur_Naksh.ttf\")\n",
        "#       x=list(range(15))\n",
        "#       xticks=counts.most_common(15)\n",
        "#       print(type(xticks))\n",
        "#       xticks2=[get_display(arabic_reshaper.reshape(str(tick))) for tick in xticks]\n",
        "\n",
        "#       plt.xticks(x,xticks2,fontproperties=prop,fontsize=18)\n",
        "#       word_freq.sort_values(by='count').plot.bar(x='words',\n",
        "#                       y='count',\n",
        "#                       ax=ax,\n",
        "#                       color=\"green\")\n",
        "#       ax.set_title(\"Common Words Found\")\n",
        "\n",
        "#       plt.show()\n",
        "\n",
        "#       prop=FontProperties(fname=\"/content/drive/MyDrive/PhD/Dataset/Text/fonts/Afan_Koshur_Naksh.ttf\")\n",
        "#       cloud = WordCloud(max_font_size=80,colormap=\"hsv\").generate_from_frequencies(counts)\n",
        "#       plt.figure(figsize=(16,12))\n",
        "#       plt.imshow(cloud, interpolation='bilinear')\n",
        "#       plt.axis('off')\n",
        "#       plt.show()\n"
      ],
      "metadata": {
        "id": "B8Ve0IoILocv"
      },
      "execution_count": null,
      "outputs": []
    },
    {
      "cell_type": "code",
      "source": [
        "# doc = docx.Document((dir_path+ \"Edited Corpus.docx\")\n",
        "# print(\"Total Paragraphs:\" + str(len(doc.paragraphs)))\n",
        "#   for para in doc.paragraphs:\n",
        "#     for sentence in para.text.split(\"۔\"):\n",
        "#       print (sentence)\n",
        "#       print(\"Richness: \"+ str(richness(sentence.strip())) )\n"
      ],
      "metadata": {
        "id": "ujqqe6GUHHeD"
      },
      "execution_count": null,
      "outputs": []
    },
    {
      "cell_type": "code",
      "source": [],
      "metadata": {
        "id": "wQ-PtwVXFj9g"
      },
      "execution_count": null,
      "outputs": []
    },
    {
      "cell_type": "code",
      "source": [
        "# import pathlib\n",
        "# dir_path = \"/content/drive/MyDrive/PhD/Dataset/Text/doc and text files/\"\n",
        "# text=\"\"\n",
        "# for path in os.listdir(dir_path):\n",
        "#   # print(\"\\n==================== Processing \"+dir_path+ path)\n",
        "#   if pathlib.Path(path).suffix == '.docx':\n",
        "#     text = text + docx2txt.process(dir_path+path)\n",
        "\n",
        "# text = text + docx2txt.process(dir_path+ \"Edited Corpus.docx\")\n",
        "\n",
        "# summary(text)\n",
        "# word_frequency(text,plot=True)\n",
        "\n",
        "\n",
        "# for sentence in text.split(\"۔\"):\n",
        "#     print(\"Richness: \"+ str(richness(sentence.strip())) )\n",
        "  # doc = docx.Document(dir_path+path)\n",
        "  # print(\"Total Paragraphs:\" + str(len(doc.paragraphs)))\n",
        "  # for para in doc.paragraphs:\n",
        "  #   for sentence in para.text.split(\"۔\"):\n",
        "  #     print (sentence)\n",
        "  #     print(\"Richness: \"+ str(richness(sentence.strip())) )\n",
        "\n"
      ],
      "metadata": {
        "id": "SzBWYvQg0jKO"
      },
      "execution_count": null,
      "outputs": []
    },
    {
      "cell_type": "code",
      "source": [
        "# !pip install fonttools\n",
        "!pip install --upgrade arabic-reshaper[with-fonttools]\n",
        "# !pip install --upgrade arabic-reshaper"
      ],
      "metadata": {
        "id": "uMEP7W4byPqC",
        "colab": {
          "base_uri": "https://localhost:8080/"
        },
        "outputId": "3e3d0797-346f-4f4f-8cad-25255fd5c661"
      },
      "execution_count": null,
      "outputs": [
        {
          "output_type": "stream",
          "name": "stdout",
          "text": [
            "Looking in indexes: https://pypi.org/simple, https://us-python.pkg.dev/colab-wheels/public/simple/\n",
            "Requirement already satisfied: arabic-reshaper[with-fonttools] in /usr/local/lib/python3.7/dist-packages (2.1.4)\n",
            "Requirement already satisfied: future in /usr/local/lib/python3.7/dist-packages (from arabic-reshaper[with-fonttools]) (0.16.0)\n",
            "Requirement already satisfied: fonttools>=4.0 in /usr/local/lib/python3.7/dist-packages (from arabic-reshaper[with-fonttools]) (4.38.0)\n"
          ]
        }
      ]
    },
    {
      "cell_type": "code",
      "source": [
        "import seaborn as sns\n",
        "import pandas as pd\n",
        "import arabic_reshaper\n",
        "from bidi.algorithm import get_display\n",
        "\n",
        "\n",
        "reshaper = arabic_reshaper.ArabicReshaper(\n",
        "    arabic_reshaper.config_for_true_type_font(\n",
        "        '/content/drive/MyDrive/PhD/Dataset/Text/fonts/Afan_Koshur_Naksh.ttf')\n",
        ")\n",
        "res = {\n",
        " 'الذكاء': 8,\n",
        " 'الاصطناعي': 9,\n",
        " 'هو': 2,\n",
        " 'سلوك': 1,\n",
        " 'وخصائص': 1,\n",
        " 'ہُنٛد': 1,\n",
        " 'تتسم': 1\n",
        "}\n",
        "\n",
        "res2 = {get_display(arabic_reshaper.reshape(k)): v for k,v in res.items()}\n",
        "\n",
        "df = pd.DataFrame(res2.items(), columns=['word', 'count'])\n",
        "\n",
        "sns.set(style=\"whitegrid\")\n",
        "ax = sns.barplot(x=\"count\", y=\"word\", data=df)"
      ],
      "metadata": {
        "id": "GhirqRMPciEX"
      },
      "execution_count": null,
      "outputs": []
    },
    {
      "cell_type": "code",
      "source": [
        "from bidi.algorithm import get_display\n",
        "import matplotlib.pyplot as plt\n",
        "import arabic_reshaper\n",
        "\n",
        "reshaped_text = arabic_reshaper.reshape(u'ہُنٛد')\n",
        "artext = get_display(reshaped_text)\n",
        "\n",
        "plt.text(0.25, 0.45, artext , name = '/content/drive/MyDrive/PhD/Dataset/Text/fonts/Afan_Koshur_Naksh.ttf',fontsize=50)\n",
        "plt.show()"
      ],
      "metadata": {
        "colab": {
          "base_uri": "https://localhost:8080/",
          "height": 269
        },
        "id": "GFYLjRNOs9hI",
        "outputId": "c04086e1-786a-4482-91e0-5ae4b383f5b4"
      },
      "execution_count": null,
      "outputs": [
        {
          "output_type": "display_data",
          "data": {
            "text/plain": [
              "<Figure size 432x288 with 1 Axes>"
            ],
            "image/png": "[encoded data removed]"
          },
          "metadata": {
            "needs_background": "light"
          }
        }
      ]
    },
    {
      "cell_type": "code",
      "source": [
        "import arabic_reshaper\n",
        "from bidi.algorithm import get_display\n",
        "\n",
        "\n",
        "reshaped_text = arabic_reshaper.reshape(u'لغةٌ عربيّة ہُنٛد')\n",
        "bidi_text = get_display(reshaped_text)\n",
        "plt.title(bidi_text)"
      ],
      "metadata": {
        "colab": {
          "base_uri": "https://localhost:8080/",
          "height": 298
        },
        "id": "njcNuBfONp6e",
        "outputId": "438e83ff-f0ef-401e-b385-d1c99841fc2e"
      },
      "execution_count": null,
      "outputs": [
        {
          "output_type": "execute_result",
          "data": {
            "text/plain": [
              "Text(0.5, 1.0, 'ﺪﻨﮨ ﺔﻴﺑﺮﻋ ﺔﻐﻟ')"
            ]
          },
          "metadata": {},
          "execution_count": 10
        },
        {
          "output_type": "display_data",
          "data": {
            "text/plain": [
              "<Figure size 432x288 with 1 Axes>"
            ],
            "image/png": "[encoded data removed]"
          },
          "metadata": {
            "needs_background": "light"
          }
        }
      ]
    },
    {
      "cell_type": "code",
      "source": [
        "import matplotlib.font_manager as font_manager\n",
        "\n",
        "# Add every font at the specified location /content/drive/MyDrive/PhD/Dataset/Text/fonts/Afan_Koshur_Naksh.ttf\n",
        "font_dir = ['/content/drive/MyDrive/PhD/Dataset/Text/fonts']\n",
        "for font in font_manager.findSystemFonts(font_dir):\n",
        "    font_manager.fontManager.addfont(font)\n",
        "\n",
        "# Set font family globally\n",
        "# rcParams['font.family'] = 'Afan_Koshur_Naksh'\n",
        "\n",
        "from bidi.algorithm import get_display\n",
        "import matplotlib.pyplot as plt\n",
        "import arabic_reshaper\n",
        "\n",
        "reshaped_text = arabic_reshaper.reshape('ہُنٛد لغةٌ عربيّة')\n",
        "artext = get_display(reshaped_text)\n",
        "\n",
        "plt.text(0.25, 0.45, artext , name = 'Afan_Koshur_Naksh',fontsize=50)\n",
        "plt.show()"
      ],
      "metadata": {
        "colab": {
          "base_uri": "https://localhost:8080/",
          "height": 286
        },
        "id": "uGbcKZA1cKc3",
        "outputId": "ac1916d5-e1cb-4dfd-970a-bb304e8280d3"
      },
      "execution_count": null,
      "outputs": [
        {
          "output_type": "stream",
          "name": "stderr",
          "text": [
            "WARNING:matplotlib.font_manager:findfont: Font family ['Afan_Koshur_Naksh'] not found. Falling back to DejaVu Sans.\n"
          ]
        },
        {
          "output_type": "display_data",
          "data": {
            "text/plain": [
              "<Figure size 432x288 with 1 Axes>"
            ],
            "image/png": "[encoded data removed]"
          },
          "metadata": {
            "needs_background": "light"
          }
        }
      ]
    },
    {
      "cell_type": "code",
      "source": [
        "import matplotlib\n",
        "import matplotlib.font_manager as fm\n",
        "\n",
        "# /content/drive/MyDrive/PhD/Dataset/Text/fonts/\n",
        "# fm.fontManager.ttflist += fm.createFontList(['/content/drive/MyDrive/PhD/Dataset/Text/fonts/Afan_Koshur_Naksh.ttf'])\n",
        "# fm.fontManager.addfont('/content/drive/MyDrive/PhD/Dataset/Text/fonts/afan.ttf')\n",
        "# fm.list_fonts('/content/drive/MyDrive/PhD/Dataset/Text/fonts/','ttf')\n",
        "\n",
        "path = '/usr/local/lib/python3.7/dist-packages/matplotlib/mpl-data/fonts/ttf/afan.ttf'\n",
        "fontprop = fm.FontProperties(fname=path,size=20)\n",
        "x = [2, 4, 6, 8, 10]\n",
        "y = [6, 7, 8, 9, 10]\n",
        "\n",
        "plt.bar(x, y, label='Bar1', color='red')\n",
        "plt.xlabel(u\"الفواصل\", fontproperties=fontprop)\n",
        "plt.ylabel(u\"الترتيبات\", fontproperties=fontprop)\n",
        "plt.show()\n",
        "\n",
        "# fm.findfont(\"afan.ttf\")"
      ],
      "metadata": {
        "colab": {
          "base_uri": "https://localhost:8080/",
          "height": 287
        },
        "id": "dXg64ykMd2xv",
        "outputId": "3647327e-5320-4908-bf48-e866c8b0a368"
      },
      "execution_count": null,
      "outputs": [
        {
          "output_type": "display_data",
          "data": {
            "text/plain": [
              "<Figure size 432x288 with 1 Axes>"
            ],
            "image/png": "[encoded data removed]"
          },
          "metadata": {
            "needs_background": "light"
          }
        }
      ]
    },
    {
      "cell_type": "code",
      "source": [
        "# !ls /content/drive/MyDrive/PhD/Dataset/Text/fonts\n",
        "!ls /usr/local/lib/python3.7/dist-packages/matplotlib/mpl-data/fonts/ttf/\n",
        "!cp /content/drive/MyDrive/PhD/Dataset/Text/fonts/afan.ttf /usr/local/lib/python3.7/dist-packages/matplotlib/mpl-data/fonts/ttf/\n"
      ],
      "metadata": {
        "id": "VubodNUPjaty"
      },
      "execution_count": null,
      "outputs": []
    },
    {
      "cell_type": "code",
      "source": [
        "from bidi.algorithm import get_display\n",
        "import matplotlib.pyplot as plt\n",
        "import arabic_reshaper\n",
        "\n",
        "reshaped_text = arabic_reshaper.reshape('ہُنٛد لغةٌ عربيّة'.decode('utf8'))\n",
        "artext = get_display(reshaped_text)\n",
        "\n",
        "plt.text(0.25, 0.45, artext , name = 'Times New Roman',fontsize=50)\n",
        "plt.show()"
      ],
      "metadata": {
        "id": "C5SbrieLOWbL"
      },
      "execution_count": null,
      "outputs": []
    },
    {
      "cell_type": "code",
      "source": [
        "\n",
        "# -*- coding: UTF-8 -*-"
      ],
      "metadata": {
        "id": "ULDQbNe5S3dR"
      },
      "execution_count": null,
      "outputs": []
    },
    {
      "cell_type": "code",
      "source": [
        "x = [2, 4, 6, 8, 10]\n",
        "y = [6, 7, 8, 9, 10]\n",
        "\n",
        "plt.bar(x, y, label='Bar1', color='red')\n",
        "plt.xlabel(u\"الفواصل\")\n",
        "plt.ylabel(u\"الترتيبات\")\n",
        "plt.show()\n"
      ],
      "metadata": {
        "colab": {
          "base_uri": "https://localhost:8080/",
          "height": 280
        },
        "id": "bwgDZaiKQxNm",
        "outputId": "12545426-9735-4d78-9ff6-f0c5c62b7e0d"
      },
      "execution_count": null,
      "outputs": [
        {
          "output_type": "display_data",
          "data": {
            "text/plain": [
              "<Figure size 432x288 with 1 Axes>"
            ],
            "image/png": "[encoded data removed]"
          },
          "metadata": {
            "needs_background": "light"
          }
        }
      ]
    },
    {
      "cell_type": "code",
      "source": [
        "# def word_frequency(text, plot=False):\n",
        "\n",
        "#     unique_words= list(text.split(\" \"))\n",
        "#     counts=Counter(unique_words)\n",
        "#     print(len(counts))\n",
        "#     print(counts.most_common(15))\n",
        "#     word_freq = pd.DataFrame(counts.most_common(15),\n",
        "#                              columns=['words', 'count'])\n",
        "#     if plot is True:\n",
        "#       plot_word_frequency(word_freq,counts)"
      ],
      "metadata": {
        "id": "_9sFSSAovJu3"
      },
      "execution_count": null,
      "outputs": []
    }
  ]
}