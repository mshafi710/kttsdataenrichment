{
  "cells": [
    {
      "cell_type": "markdown",
      "metadata": {
        "id": "view-in-github",
        "colab_type": "text"
      },
      "source": [
        "<a href=\"https://colab.research.google.com/github/mshafi710/kttsdataenrichment/blob/main/Text_Extraction.ipynb\" target=\"_parent\"><img src=\"https://colab.research.google.com/assets/colab-badge.svg\" alt=\"Open In Colab\"/></a>"
      ]
    },
    {
      "cell_type": "markdown",
      "metadata": {
        "id": "HYr3YX003dEk"
      },
      "source": [
        "# TO DO\n",
        " \n",
        "\n",
        "1.   If a word/senetence contains characters not in the list of kashmiri keyboard characters, reject that for simplicity purposes\n",
        "2.   Also delete the outliers from the dataset (too long sentences and too short)"
      ]
    },
    {
      "cell_type": "code",
      "execution_count": 56,
      "metadata": {
        "colab": {
          "base_uri": "https://localhost:8080/"
        },
        "id": "UYmYSbCYxIBX",
        "outputId": "5cfffac4-6c59-42c3-c417-9ebb606059b8"
      },
      "outputs": [
        {
          "output_type": "stream",
          "name": "stdout",
          "text": [
            "Looking in indexes: https://pypi.org/simple, https://us-python.pkg.dev/colab-wheels/public/simple/\n",
            "Requirement already satisfied: docx2txt in /usr/local/lib/python3.10/dist-packages (0.8)\n",
            "Drive already mounted at /content/drive; to attempt to forcibly remount, call drive.mount(\"/content/drive\", force_remount=True).\n"
          ]
        }
      ],
      "source": [
        "#@title\n",
        "# !pip install python-docx\n",
        "# import docx\n",
        "!pip install docx2txt\n",
        "import docx2txt\n",
        "from google.colab import drive\n",
        "from collections import Counter\n",
        "import pandas as pd\n",
        "import matplotlib.pyplot as plt\n",
        "from matplotlib.font_manager import FontProperties\n",
        "import os\n",
        "import pathlib\n",
        "import logging\n",
        "drive.mount('/content/drive')\n",
        "import nltk\n",
        "import re\n",
        "import pprint\n",
        "from tqdm import tqdm"
      ]
    },
    {
      "cell_type": "code",
      "execution_count": 57,
      "metadata": {
        "id": "K8ia0FBXQ3GW"
      },
      "outputs": [],
      "source": [
        "from IPython.display import display, HTML\n",
        "css_classes = \"\"\"\n",
        "<style>\n",
        "  h1, h2, h3, h4 {\n",
        "    color: red;\n",
        "    font-size: 16px;\n",
        "  }\n",
        "  \n",
        "  p {\n",
        "    font-size: 14px;\n",
        "    color: var(--text-color);\n",
        "  }\n",
        "</style>\n",
        "\"\"\"\n",
        "import IPython\n",
        "\n",
        "\n",
        "if IPython.get_ipython() is not None:\n",
        "  def  print_heading(text):  \n",
        "    display(HTML(f'''{css_classes}<h5> {text} </h5>'''))\n",
        "  \n",
        "  def print_text(text, color='grey'):\n",
        "    display (HTML(f''' {css_classes} <p style='--text-color:{color}'> {text}</p>'''))\n",
        "  \n",
        "else:\n",
        "  def  print_heading(text):  \n",
        "    print(\"\\n\")\n",
        "    print (text)\n",
        "    print(\"\\n\")\n",
        "\n",
        "  def print_text(text, color='grey'):\n",
        "    print (text)  "
      ]
    },
    {
      "cell_type": "code",
      "execution_count": 77,
      "metadata": {
        "id": "k5OgmxUWSRe0"
      },
      "outputs": [],
      "source": [
        "''' This code assumes two directories in the working directory  of the project. one for holding the raw corpus and second for holding the processed corpus'''\n",
        "class Corpus:\n",
        "\n",
        " \n",
        "\n",
        "  _instance = None\n",
        "  _raw_corpus =\"\"  \n",
        "  _vocab_size = 0\n",
        "  _raw_corpus_size =0\n",
        "  _total_sentences=0\n",
        "  _summary_generatable = False\n",
        "\n",
        "  \n",
        "  _sentence_char_lengths_list=[]  \n",
        "  _sentence_token_lengths_list=[]\n",
        "  # basic richness of a sentence is equal to the no of unique tokens in it.\n",
        "  _basic_richness_list=[]\n",
        "  _vocab= []  \n",
        "  \n",
        "\n",
        "  WORKING_DIR= '''/content/drive/MyDrive/PhD/Dataset/Text/text_files/'''  \n",
        "  VOCAB_FILENAME=\"kashmiri_vocab.csv\"\n",
        "\n",
        "  PROCESSED_DIR = 'processed'\n",
        "  CORPUS_DIR= 'corpus'\n",
        "  ENRICHED_FILENAME_INITIAL=\"initial_kashmiri_enriched.csv\"\n",
        "  ENRICHED_FILENAME_FINAL = \"final_kashmiri_enriched.csv\"\n",
        "  # LOG_FILE = '/processed/text-extraction.log'  \n",
        "  #first letter in the TOKEN_DELIMITER_PATTERN is the Kashmiri fullstop character  \n",
        "  TOKEN_DELIMITER_PATTERN = r\"[۔;,:\\-\\s+\\n+\\(\\)\\\"\\?,]\"\n",
        "  SENTENCE_DELIMITER = r\"[۔]\"\n",
        "\n",
        "\n",
        "  #-------Member Functions -------\n",
        "\n",
        "  def __new__(cls):\n",
        "    if not cls._instance:      \n",
        "      cls._instance = super().__new__(cls)\n",
        "      return cls._instance\n",
        "    else:\n",
        "      class_name = cls.__name__\n",
        "      print(\"INFO! {} Class  is a Singleton \".format(class_name ))  \n",
        "      return cls._instance \n",
        "\n",
        "\n",
        "  def __init__(self):\n",
        "    pass\n",
        "    # pprint.pprint((type(self).__dict__))  \n",
        "\n",
        "  @classmethod\n",
        "  def summary(cls):\n",
        "    if cls._summary_generatable:\n",
        "      return {\n",
        "          'vocab_size(tokens)': cls._vocab_size,\n",
        "          'raw_corpus_size(tokens)': cls. _raw_corpus_size,\n",
        "          'total_sentences' : cls. _total_sentences,\n",
        "          'average_sentence_length_char': sum(cls._sentence_char_lengths_list)/cls. _total_sentences, \n",
        "          'average_sentence_length_tokens': sum(cls._basic_richness_list)/ cls._total_sentences\n",
        "      }\n",
        "       \n",
        "      \n",
        "\n",
        "  @classmethod\n",
        "  def read_corpus(cls):\n",
        "    corpus_path= os.path.join(cls.WORKING_DIR, cls.CORPUS_DIR )\n",
        "    file_list= os.listdir(corpus_path)\n",
        "    for filename in tqdm(file_list, unit='item', desc=\"Reading Corpus\",  ncols=80 ):\n",
        "      file_path = os.path.join(corpus_path, filename)  # Create the full file path\n",
        "      if os.path.isfile(file_path):  # Check if it's a file (not a directory)\n",
        "          # Process the file as needed          \n",
        "              print_text(\"Processing of [{}] file started\".format(file_path))\n",
        "              cls._raw_corpus = cls._raw_corpus + \"\\n\" +  docx2txt.process(file_path)\n",
        "              print_text(\"Processing of [{}] file ended\".format(file_path))\n",
        "    \n",
        "    \n",
        "\n",
        "  @classmethod\n",
        "  def generate_vocab(cls):\n",
        "    ''' return the vocabulary list (unique words in the given corpus)    \n",
        "    writes vocab to the file with name in the VOCAB_FILE_NAME in the \n",
        "    working directory  set by the variable  WORKING_DIR'''\n",
        "    trimmed_corpus = re.sub(cls.TOKEN_DELIMITER_PATTERN, \" \", cls._raw_corpus)\n",
        "    tokens = trimmed_corpus.split() \n",
        "    cls._raw_corpus_size= len(tokens)\n",
        "    # print_heading(\"Overall Tokens \")\n",
        "    # print_text (tokens)\n",
        "    print_heading(\"------------------\")\n",
        "    print_text(\"No of Tokens (after excluding the punctuation)[raw corpus size]: %d\"  % cls._raw_corpus_size)\n",
        "    tokens.sort()\n",
        "    # get the unique list using set operation\n",
        "    vocab = list(set(tokens))\n",
        "    vocab.sort()\n",
        "    cls._vocab_size = len(vocab)\n",
        "    print(\"Vocabulary Size: %d\" %cls._vocab_size)  \n",
        "\n",
        "    os.chdir(cls.WORKING_DIR)\n",
        "    vocab_path = os.path.join(cls.WORKING_DIR , cls.PROCESSED_DIR , cls.VOCAB_FILENAME)\n",
        "    with open (vocab_path,'w') as out:\n",
        "      for token in tqdm(vocab, unit='it', desc='Generating Vocab', ncols=80):\n",
        "        out.write(token+\"\\n\")\n",
        "    print_text(\"vocabulary stored in {} \\n \".format( vocab_path))\n",
        "    cls._vocab = vocab\n",
        "\n",
        "  \n",
        "  @classmethod\n",
        "  def sentence_richness(cls, sentence):\n",
        "    '''return the basic richness of the sentence: basic richnes is \n",
        "    equal to number of unique words of a sentence'''  \n",
        "    #  replaces all occurrences of this pattern with a single space\n",
        "    trimmed_sentence = re.sub(cls.TOKEN_DELIMITER_PATTERN, \" \", sentence)\n",
        "    tokens= trimmed_sentence.split()\n",
        "    cls._sentence_token_lengths_list.append(len(tokens))\n",
        "    # print_text(\"\\n------In Richness ----{}----\\n\".format(len(tokens)),'cyan')\n",
        "    # print (tokens)\n",
        "    # print_text(\"\\n-----Out Rchness ------------\\n\",'cyan')\n",
        "    richness = len(set(tokens))\n",
        "    return  richness\n",
        "\n",
        "  @classmethod\n",
        "  def basic_richness_sentence_wise(cls):\n",
        "    sentences = re.split(cls.SENTENCE_DELIMITER,cls._raw_corpus)    \n",
        "    print_heading('---------Before Processing-----------')\n",
        "    print(\" Total sentences: %d\" % len(sentences))\n",
        "    # for  index, sentence  in enumerate(sentences):\n",
        "    #   print(\"{}th sntence : {}\".format(str(index), str(sentence)))\n",
        "\n",
        "    '''Filter out empty sentences while doing so, also replace the multiple \n",
        "    spaces with one space, remove parenthesis, commas , and quotes and alike\n",
        "      as mentioned in the TOKEN_DELIMITER_PATTERN'''\n",
        "    sentences = [re.sub(cls.TOKEN_DELIMITER_PATTERN, \" \", sentence) \\\n",
        "                 for sentence in tqdm(sentences, unit= \"it\", \\\n",
        "                                      desc=\"Removing Punctuations and extra white spaces\", ncols=80) if sentence.strip() ] \n",
        "    print_heading('-----------After processing---------')\n",
        "    cls._total_sentences = len(sentences)\n",
        "    print(\" Total sentences: %d\" % cls._total_sentences )\n",
        "    # for  index, sentence  in enumerate(sentences):\n",
        "    #   print(\"{}th sntence : {}\".format(str(index), str(sentence)))   \n",
        "    \n",
        "\n",
        "    df= pd.DataFrame(columns=['sentence','richness'])      \n",
        "    for index, sentence in tqdm(enumerate(sentences), unit=\"item\", desc=\"Calculating basic richness\", ncols=80) :\n",
        "      #exclude empty sentences\n",
        "      # print('Length of a sentence is {}'.format(len(sentence)))\n",
        "      sent_len = len(sentence)\n",
        "      if  sent_len > 0:     \n",
        "           \n",
        "        basic_richness= cls.sentence_richness(sentence)\n",
        "        cls._sentence_char_lengths_list.append(sent_len)\n",
        "        cls._basic_richness_list.append(basic_richness)\n",
        "        df.loc[len(df)] =[sentence, basic_richness]\n",
        "        # out.write(sentence +\",\" + str (basic_richness)+ \"\\n\")\n",
        "        # print_text(\"Processing {}th sentence \".format(index))\n",
        "        # print(sentence + \": \" +str(basic_richness) + \"\\n-------------------\\n\")\n",
        "    os.chdir(cls.WORKING_DIR)  \n",
        "    file_path = os.path.join(cls.WORKING_DIR, cls.PROCESSED_DIR, cls.ENRICHED_FILENAME_INITIAL)\n",
        "    df.to_csv( file_path,index= False )\n",
        "    print_text(\"Completed basic_richness_sentence_wise \",\"green\")\n",
        "    print(\"Summary Available\")\n",
        "    cls._summary_generatable=True\n",
        "\n",
        "  @classmethod\n",
        "  def generate_corpus_richness(cls):\n",
        "    ''' reads the simple richness csv file pointed by RICHNESS_FILENAME into dataframe, sorts it  \n",
        "    in descending order of richness, drops the rows with NA values in richness column in place\n",
        "    ''' \n",
        "    file_path = os.path.join (cls.WORKING_DIR, cls.PROCESSED_DIR, cls.ENRICHED_FILENAME_INITIAL)\n",
        "    df=pd.read_csv(file_path)\n",
        "    df.columns=  ['sentence','richness']\n",
        "    df=df.sort_values(by=['richness'], ascending=False)\n",
        "    #drops the old index and make the changes in the df directly\n",
        "    df.reset_index(drop=True, inplace=True)\n",
        "    #removes the dataframes where the richness column has missing or NaN values\n",
        "    df=df.dropna(subset=['richness'])\n",
        "    # add a new column to the data frame for setting the status of whether any of the tokens of the sentence has matched to the wishlist or not. \n",
        "    # initially all sentences will have tokens which are in the wishlist. hence values are false.\n",
        "    df=df.assign(Deleted=False)\n",
        "    # file created for checking the temporary richness\n",
        "    # df.to_csv(WORKING_DIR + \"/processed/tmp_rich.csv\")\n",
        "    ''' calculate the richness of the sentences '''\n",
        "    wishlist= set(cls._vocab)\n",
        "    print_heading(\"Vocab Length:{}\".format(len(wishlist)))\n",
        "    for index, row in tqdm(df.iterrows(),total=len(df), unit='row', desc='Calculating the richness', ncols=80) :\n",
        "        tokens= re.split(cls.TOKEN_DELIMITER_PATTERN, row['sentence'])  \n",
        "        tokens = [token for token in tokens if token.strip() ]\n",
        "        tokens = set(tokens)\n",
        "        # print_text(\"Total Unique Tokens: {}\".format(len(tokens)),'cyan')\n",
        "        # print(tokens)\n",
        "\n",
        "        ''' richness of a given sentence is the number of unique tokens matching \n",
        "        with the remaining vocab list i.e., the intersection of the unique \n",
        "        tokens (set) in the sentence and the remaining vocab'''  \n",
        "\n",
        "        match_words = tokens & wishlist \n",
        "        not_matched = tokens - match_words\n",
        "        if len(match_words) > 0:\n",
        "          df.at[index,'richness'] = len(match_words)\n",
        "          # print_text(\"\\n--------match words---{}----\\n\".format(len(match_words)),\"magenta\")     \n",
        "          # print_text(match_words)\n",
        "          # print_text(\"\\n--------Not matched words---{}----\\n\".format(len(not_matched)),\"wheat\")     \n",
        "          # print_text(not_matched)\n",
        "          '''update the  wishlist by set difference operation of the wishlist \n",
        "          and the match  tokens: excluding the matching tokens from the wishlist'''\n",
        "          wishlist = wishlist - set(match_words)\n",
        "        else:\n",
        "          df.at[index,'Deleted']=True\n",
        "\n",
        "        # print(\"Wishlist size remaining: %d \" %len(wishlist) )\n",
        "        # print(\"DF size remaining: %d \" %len(df) )\n",
        "        # print( \"\\n   ------------------- \")\n",
        "    final_richness_file_path = os.path.join(cls.WORKING_DIR, cls.PROCESSED_DIR, cls.ENRICHED_FILENAME_FINAL)\n",
        "    df.to_csv( final_richness_file_path )\n",
        "    print_text('Final Richness saved to {}'.format(final_richness_file_path), \"green\")\n",
        "    # Validate the richness with the vocab size\n",
        "    richness_sum_deleted_false= df.loc[df['Deleted'] == False, 'richness'].sum()\n",
        "    vocab_len= len(cls._vocab)\n",
        "    if( richness_sum_deleted_false == vocab_len):\n",
        "      print_text('Richness  Validated with sum = {}'.format(richness_sum_deleted_false))\n",
        "\n",
        "\n",
        "    \n",
        "\n"
      ]
    },
    {
      "cell_type": "code",
      "execution_count": 78,
      "metadata": {
        "id": "mCZTYhDfJjin"
      },
      "outputs": [],
      "source": [
        "mycorpus = Corpus()"
      ]
    },
    {
      "cell_type": "code",
      "execution_count": 79,
      "metadata": {
        "id": "WhPzN9nBHXzG",
        "colab": {
          "base_uri": "https://localhost:8080/",
          "height": 104
        },
        "outputId": "1120e2e5-d44f-439a-f813-2eb567a687d2"
      },
      "outputs": [
        {
          "output_type": "stream",
          "name": "stderr",
          "text": [
            "\rReading Corpus:   0%|                                   | 0/1 [00:00<?, ?item/s]"
          ]
        },
        {
          "output_type": "display_data",
          "data": {
            "text/plain": [
              "<IPython.core.display.HTML object>"
            ],
            "text/html": [
              " \n",
              "<style>\n",
              "  h1, h2, h3, h4 {\n",
              "    color: red;\n",
              "    font-size: 16px;\n",
              "  }\n",
              "  \n",
              "  p {\n",
              "    font-size: 14px;\n",
              "    color: var(--text-color);\n",
              "  }\n",
              "</style>\n",
              " <p style='--text-color:grey'> Processing of [/content/drive/MyDrive/PhD/Dataset/Text/text_files/corpus/Edited Corpus.docx] file started</p>"
            ]
          },
          "metadata": {}
        },
        {
          "output_type": "display_data",
          "data": {
            "text/plain": [
              "<IPython.core.display.HTML object>"
            ],
            "text/html": [
              " \n",
              "<style>\n",
              "  h1, h2, h3, h4 {\n",
              "    color: red;\n",
              "    font-size: 16px;\n",
              "  }\n",
              "  \n",
              "  p {\n",
              "    font-size: 14px;\n",
              "    color: var(--text-color);\n",
              "  }\n",
              "</style>\n",
              " <p style='--text-color:grey'> Processing of [/content/drive/MyDrive/PhD/Dataset/Text/text_files/corpus/Edited Corpus.docx] file ended</p>"
            ]
          },
          "metadata": {}
        },
        {
          "output_type": "stream",
          "name": "stderr",
          "text": [
            "Reading Corpus: 100%|███████████████████████████| 1/1 [00:01<00:00,  1.06s/item]\n"
          ]
        }
      ],
      "source": [
        "mycorpus.read_corpus()"
      ]
    },
    {
      "cell_type": "code",
      "execution_count": 80,
      "metadata": {
        "id": "9-J4dKOlDzDB",
        "colab": {
          "base_uri": "https://localhost:8080/",
          "height": 144
        },
        "outputId": "b50f9cfa-55b5-4ff9-959b-9ba78dbd7765"
      },
      "outputs": [
        {
          "output_type": "display_data",
          "data": {
            "text/plain": [
              "<IPython.core.display.HTML object>"
            ],
            "text/html": [
              "\n",
              "<style>\n",
              "  h1, h2, h3, h4 {\n",
              "    color: red;\n",
              "    font-size: 16px;\n",
              "  }\n",
              "  \n",
              "  p {\n",
              "    font-size: 14px;\n",
              "    color: var(--text-color);\n",
              "  }\n",
              "</style>\n",
              "<h5> ------------------ </h5>"
            ]
          },
          "metadata": {}
        },
        {
          "output_type": "display_data",
          "data": {
            "text/plain": [
              "<IPython.core.display.HTML object>"
            ],
            "text/html": [
              " \n",
              "<style>\n",
              "  h1, h2, h3, h4 {\n",
              "    color: red;\n",
              "    font-size: 16px;\n",
              "  }\n",
              "  \n",
              "  p {\n",
              "    font-size: 14px;\n",
              "    color: var(--text-color);\n",
              "  }\n",
              "</style>\n",
              " <p style='--text-color:grey'> No of Tokens (after excluding the punctuation)[raw corpus size]: 74205</p>"
            ]
          },
          "metadata": {}
        },
        {
          "output_type": "stream",
          "name": "stdout",
          "text": [
            "Vocabulary Size: 20882\n"
          ]
        },
        {
          "output_type": "stream",
          "name": "stderr",
          "text": [
            "Generating Vocab: 100%|██████████████| 20882/20882 [00:00<00:00, 1073811.76it/s]\n"
          ]
        },
        {
          "output_type": "display_data",
          "data": {
            "text/plain": [
              "<IPython.core.display.HTML object>"
            ],
            "text/html": [
              " \n",
              "<style>\n",
              "  h1, h2, h3, h4 {\n",
              "    color: red;\n",
              "    font-size: 16px;\n",
              "  }\n",
              "  \n",
              "  p {\n",
              "    font-size: 14px;\n",
              "    color: var(--text-color);\n",
              "  }\n",
              "</style>\n",
              " <p style='--text-color:grey'> vocabulary stored in /content/drive/MyDrive/PhD/Dataset/Text/text_files/processed/kashmiri_vocab.csv \n",
              " </p>"
            ]
          },
          "metadata": {}
        }
      ],
      "source": [
        "mycorpus.generate_vocab()"
      ]
    },
    {
      "cell_type": "code",
      "execution_count": 81,
      "metadata": {
        "id": "61RWKUIzkETV",
        "colab": {
          "base_uri": "https://localhost:8080/",
          "height": 209
        },
        "outputId": "6e20f1e2-8416-41f2-c9a9-f7e42ae8d37e"
      },
      "outputs": [
        {
          "output_type": "display_data",
          "data": {
            "text/plain": [
              "<IPython.core.display.HTML object>"
            ],
            "text/html": [
              "\n",
              "<style>\n",
              "  h1, h2, h3, h4 {\n",
              "    color: red;\n",
              "    font-size: 16px;\n",
              "  }\n",
              "  \n",
              "  p {\n",
              "    font-size: 14px;\n",
              "    color: var(--text-color);\n",
              "  }\n",
              "</style>\n",
              "<h5> ---------Before Processing----------- </h5>"
            ]
          },
          "metadata": {}
        },
        {
          "output_type": "stream",
          "name": "stdout",
          "text": [
            " Total sentences: 5240\n"
          ]
        },
        {
          "output_type": "stream",
          "name": "stderr",
          "text": [
            "Removing Punctuations and extra white spaces: 100%|█| 5240/5240 [00:00<00:00, 95\n"
          ]
        },
        {
          "output_type": "display_data",
          "data": {
            "text/plain": [
              "<IPython.core.display.HTML object>"
            ],
            "text/html": [
              "\n",
              "<style>\n",
              "  h1, h2, h3, h4 {\n",
              "    color: red;\n",
              "    font-size: 16px;\n",
              "  }\n",
              "  \n",
              "  p {\n",
              "    font-size: 14px;\n",
              "    color: var(--text-color);\n",
              "  }\n",
              "</style>\n",
              "<h5> -----------After processing--------- </h5>"
            ]
          },
          "metadata": {}
        },
        {
          "output_type": "stream",
          "name": "stdout",
          "text": [
            " Total sentences: 5013\n"
          ]
        },
        {
          "output_type": "stream",
          "name": "stderr",
          "text": [
            "Calculating basic richness: 5013item [00:08, 621.30item/s]\n"
          ]
        },
        {
          "output_type": "display_data",
          "data": {
            "text/plain": [
              "<IPython.core.display.HTML object>"
            ],
            "text/html": [
              " \n",
              "<style>\n",
              "  h1, h2, h3, h4 {\n",
              "    color: red;\n",
              "    font-size: 16px;\n",
              "  }\n",
              "  \n",
              "  p {\n",
              "    font-size: 14px;\n",
              "    color: var(--text-color);\n",
              "  }\n",
              "</style>\n",
              " <p style='--text-color:green'> Completed basic_richness_sentence_wise </p>"
            ]
          },
          "metadata": {}
        },
        {
          "output_type": "stream",
          "name": "stdout",
          "text": [
            "Summary Available\n"
          ]
        }
      ],
      "source": [
        "mycorpus.basic_richness_sentence_wise()"
      ]
    },
    {
      "cell_type": "code",
      "execution_count": 82,
      "metadata": {
        "id": "Dlbghq9UT_6D",
        "colab": {
          "base_uri": "https://localhost:8080/",
          "height": 125
        },
        "outputId": "dfbc93c8-c7f5-48bb-f680-0f61a3642d18"
      },
      "outputs": [
        {
          "output_type": "display_data",
          "data": {
            "text/plain": [
              "<IPython.core.display.HTML object>"
            ],
            "text/html": [
              "\n",
              "<style>\n",
              "  h1, h2, h3, h4 {\n",
              "    color: red;\n",
              "    font-size: 16px;\n",
              "  }\n",
              "  \n",
              "  p {\n",
              "    font-size: 14px;\n",
              "    color: var(--text-color);\n",
              "  }\n",
              "</style>\n",
              "<h5> Vocab Length:20882 </h5>"
            ]
          },
          "metadata": {}
        },
        {
          "output_type": "stream",
          "name": "stderr",
          "text": [
            "Calculating the richness: 100%|██████████| 5013/5013 [00:02<00:00, 2479.75row/s]\n"
          ]
        },
        {
          "output_type": "display_data",
          "data": {
            "text/plain": [
              "<IPython.core.display.HTML object>"
            ],
            "text/html": [
              " \n",
              "<style>\n",
              "  h1, h2, h3, h4 {\n",
              "    color: red;\n",
              "    font-size: 16px;\n",
              "  }\n",
              "  \n",
              "  p {\n",
              "    font-size: 14px;\n",
              "    color: var(--text-color);\n",
              "  }\n",
              "</style>\n",
              " <p style='--text-color:green'> Final Richness saved to /content/drive/MyDrive/PhD/Dataset/Text/text_files/processed/final_kashmiri_enriched.csv</p>"
            ]
          },
          "metadata": {}
        },
        {
          "output_type": "display_data",
          "data": {
            "text/plain": [
              "<IPython.core.display.HTML object>"
            ],
            "text/html": [
              " \n",
              "<style>\n",
              "  h1, h2, h3, h4 {\n",
              "    color: red;\n",
              "    font-size: 16px;\n",
              "  }\n",
              "  \n",
              "  p {\n",
              "    font-size: 14px;\n",
              "    color: var(--text-color);\n",
              "  }\n",
              "</style>\n",
              " <p style='--text-color:grey'> Richness  Validated with sum = 20882</p>"
            ]
          },
          "metadata": {}
        }
      ],
      "source": [
        "mycorpus.generate_corpus_richness()"
      ]
    },
    {
      "cell_type": "code",
      "source": [
        "pprint.pprint(mycorpus.summary())"
      ],
      "metadata": {
        "colab": {
          "base_uri": "https://localhost:8080/"
        },
        "id": "hOIAwBbyICjo",
        "outputId": "58db7b43-779b-4b68-a3ca-f96d2b792d64"
      },
      "execution_count": 83,
      "outputs": [
        {
          "output_type": "stream",
          "name": "stdout",
          "text": [
            "{'average_sentence_length_char': 83.85737083582686,\n",
            " 'average_sentence_length_tokens': 14.00199481348494,\n",
            " 'raw_corpus_size': 74205,\n",
            " 'total_sentences': 5013,\n",
            " 'vocab_size': 20882}\n"
          ]
        }
      ]
    },
    {
      "cell_type": "code",
      "source": [
        "\n",
        "plt.plot(mycorpus._basic_richness_list)"
      ],
      "metadata": {
        "colab": {
          "base_uri": "https://localhost:8080/",
          "height": 447
        },
        "id": "5H2sNE89IiN6",
        "outputId": "61abb179-155f-4079-cbad-0f5fd0412c16"
      },
      "execution_count": 84,
      "outputs": [
        {
          "output_type": "execute_result",
          "data": {
            "text/plain": [
              "[<matplotlib.lines.Line2D at 0x7f9db4b19000>]"
            ]
          },
          "metadata": {},
          "execution_count": 84
        },
        {
          "output_type": "display_data",
          "data": {
            "text/plain": [
              "<Figure size 640x480 with 1 Axes>"
            ],
            "image/png": "[encoded data removed]"
          },
          "metadata": {}
        }
      ]
    },
    {
      "cell_type": "code",
      "source": [
        "plt.plot(mycorpus._sentence_char_lengths_list)\n"
      ],
      "metadata": {
        "colab": {
          "base_uri": "https://localhost:8080/",
          "height": 447
        },
        "id": "nUIPqwPDL6Gh",
        "outputId": "b327633e-be8c-4a94-d26a-d0ea395beee0"
      },
      "execution_count": 85,
      "outputs": [
        {
          "output_type": "execute_result",
          "data": {
            "text/plain": [
              "[<matplotlib.lines.Line2D at 0x7f9db6df0ac0>]"
            ]
          },
          "metadata": {},
          "execution_count": 85
        },
        {
          "output_type": "display_data",
          "data": {
            "text/plain": [
              "<Figure size 640x480 with 1 Axes>"
            ],
            "image/png": "[encoded data removed]"
          },
          "metadata": {}
        }
      ]
    },
    {
      "cell_type": "code",
      "source": [
        "\n",
        "  plt.plot(mycorpus._sentence_token_lengths_list)"
      ],
      "metadata": {
        "colab": {
          "base_uri": "https://localhost:8080/",
          "height": 447
        },
        "id": "9ayCFW7oMDm-",
        "outputId": "24655abe-4ed3-4bcf-80fe-257bb799f700"
      },
      "execution_count": 88,
      "outputs": [
        {
          "output_type": "execute_result",
          "data": {
            "text/plain": [
              "[<matplotlib.lines.Line2D at 0x7f9db84124a0>]"
            ]
          },
          "metadata": {},
          "execution_count": 88
        },
        {
          "output_type": "display_data",
          "data": {
            "text/plain": [
              "<Figure size 640x480 with 1 Axes>"
            ],
            "image/png": "[encoded data removed]"
          },
          "metadata": {}
        }
      ]
    },
    {
      "cell_type": "code",
      "source": [],
      "metadata": {
        "id": "J99WRINkMLgo"
      },
      "execution_count": null,
      "outputs": []
    }
  ],
  "metadata": {
    "colab": {
      "provenance": [],
      "mount_file_id": "1VHTu228VkHrHAURVDjTmd5UOu763Fzgi",
      "authorship_tag": "ABX9TyMTPCwYs5m21/wl4OOoxjLN",
      "include_colab_link": true
    },
    "kernelspec": {
      "display_name": "Python 3",
      "name": "python3"
    },
    "language_info": {
      "name": "python"
    }
  },
  "nbformat": 4,
  "nbformat_minor": 0
}