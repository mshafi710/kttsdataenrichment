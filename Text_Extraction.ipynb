{
  "cells": [
    {
      "cell_type": "markdown",
      "metadata": {
        "id": "view-in-github",
        "colab_type": "text"
      },
      "source": [
        "<a href=\"https://colab.research.google.com/github/mshafi710/kttsdataenrichment/blob/main/Text_Extraction.ipynb\" target=\"_parent\"><img src=\"https://colab.research.google.com/assets/colab-badge.svg\" alt=\"Open In Colab\"/></a>"
      ]
    },
    {
      "cell_type": "markdown",
      "metadata": {
        "id": "HYr3YX003dEk"
      },
      "source": [
        "# TO DO\n",
        "\n",
        "\n",
        "1.   If a word/senetence contains characters not in the list of kashmiri keyboard characters, reject that for simplicity purposes\n",
        "2.   Also delete the outliers from the dataset (too long sentences and too short)"
      ]
    },
    {
      "cell_type": "code",
      "execution_count": null,
      "metadata": {
        "colab": {
          "base_uri": "https://localhost:8080/"
        },
        "id": "UYmYSbCYxIBX",
        "outputId": "98f198ca-ba91-45a2-af8e-238bde527de6"
      },
      "outputs": [
        {
          "output_type": "stream",
          "name": "stdout",
          "text": [
            "Looking in indexes: https://pypi.org/simple, https://us-python.pkg.dev/colab-wheels/public/simple/\n",
            "Collecting docx2txt\n",
            "  Downloading docx2txt-0.8.tar.gz (2.8 kB)\n",
            "  Preparing metadata (setup.py) ... \u001b[?25l\u001b[?25hdone\n",
            "Building wheels for collected packages: docx2txt\n",
            "  Building wheel for docx2txt (setup.py) ... \u001b[?25l\u001b[?25hdone\n",
            "  Created wheel for docx2txt: filename=docx2txt-0.8-py3-none-any.whl size=3957 sha256=f6d1c3f59d94a40a4ad14fd2bb76b4f1860c596b9f65ca5cf514819ec296099e\n",
            "  Stored in directory: /root/.cache/pip/wheels/22/58/cf/093d0a6c3ecfdfc5f6ddd5524043b88e59a9a199cb02352966\n",
            "Successfully built docx2txt\n",
            "Installing collected packages: docx2txt\n",
            "Successfully installed docx2txt-0.8\n",
            "Drive already mounted at /content/drive; to attempt to forcibly remount, call drive.mount(\"/content/drive\", force_remount=True).\n"
          ]
        }
      ],
      "source": [
        "#@title\n",
        "# !pip install python-docx\n",
        "# import docx\n",
        "!pip install docx2txt\n",
        "import docx2txt\n",
        "from google.colab import drive\n",
        "from collections import Counter\n",
        "import pandas as pd\n",
        "import matplotlib.pyplot as plt\n",
        "from matplotlib.font_manager import FontProperties\n",
        "import os\n",
        "import pathlib\n",
        "import logging\n",
        "drive.mount('/content/drive')\n",
        "# import nltk\n",
        "import re\n",
        "import pprint\n",
        "from tqdm import tqdm\n",
        "import numpy as np"
      ]
    },
    {
      "cell_type": "code",
      "execution_count": null,
      "metadata": {
        "id": "K8ia0FBXQ3GW"
      },
      "outputs": [],
      "source": [
        "from IPython.display import display, HTML\n",
        "css_classes = \"\"\"\n",
        "<style>\n",
        "  h1, h2, h3, h4 {\n",
        "    color: red;\n",
        "    font-size: 16px;\n",
        "  }\n",
        "\n",
        "  p {\n",
        "    font-size: 14px;\n",
        "    color: var(--text-color);\n",
        "  }\n",
        "</style>\n",
        "\"\"\"\n",
        "import IPython\n",
        "\n",
        "\n",
        "if IPython.get_ipython() is not None:\n",
        "  def  print_heading(text: str) -> None:\n",
        "    display(HTML(f'''{css_classes}<h5> {text} </h5>'''))\n",
        "\n",
        "  def print_text(text : str, color : str ='grey') -> None:\n",
        "    display (HTML(f''' {css_classes} <p style='--text-color:{color}'> {text}</p>'''))\n",
        "\n",
        "else:\n",
        "  def  print_heading(text : str) -> None:\n",
        "    print(\"\\n\")\n",
        "    print (text)\n",
        "    print(\"\\n\")\n",
        "\n",
        "  def print_text(text : str, color : str ='grey') -> None:\n",
        "    print (text)"
      ]
    },
    {
      "cell_type": "code",
      "execution_count": null,
      "metadata": {
        "id": "k5OgmxUWSRe0"
      },
      "outputs": [],
      "source": [
        "''' This code assumes two directories in the working directory  of the project. one for holding the raw corpus and second for holding the processed corpus'''\n",
        "class Corpus:\n",
        "  _instance = None\n",
        "  _summary_generatable = False\n",
        "  _raw_corpus =\"\"\n",
        "  _vocab_size = 0\n",
        "  _raw_corpus_size =0\n",
        "  _total_sentences=0\n",
        "  _sentence_char_lengths_list=list()\n",
        "  _sentence_token_lengths_list=list()\n",
        "  _basic_richness_list=list()\n",
        "  _vocab= set()\n",
        "\n",
        "\n",
        "  WORKING_DIR= '''/content/drive/MyDrive/PhD/Dataset/Text/text_files/'''\n",
        "  VOCAB_FILENAME=\"kashmiri_vocab.csv\"\n",
        "  PROCESSED_DIR = 'processed'\n",
        "  CORPUS_DIR= 'corpus'\n",
        "  ENRICHED_FILENAME_INITIAL=\"initial_kashmiri_enriched.csv\"\n",
        "  ENRICHED_FILENAME_FINAL = \"final_kashmiri_enriched.csv\"\n",
        "  # LOG_FILE = '/processed/text-extraction.log'\n",
        "  #first letter in the TOKEN_DELIMITER_PATTERN is the Kashmiri fullstop character\n",
        "  DIGIT_REPLACEMENT_PATTERN = r\"[]\"\n",
        "  TOKEN_DELIMITER_PATTERN = r\"[۔;,:\\-\\s+\\n+\\(\\)\\\"\\?,،!؟“’’’‘_''/]\"\n",
        "  SENTENCE_DELIMITER = r\"[۔]\"\n",
        "  MINIMUM_SENTENCE_LENGTH=5\n",
        "\n",
        "\n",
        "  #------- Functions -------\n",
        "  def __new__(cls) -> \"Corpus\":\n",
        "    if not cls._instance:\n",
        "      cls._instance = super().__new__(cls)\n",
        "      return cls._instance\n",
        "    else:\n",
        "      class_name = cls.__name__\n",
        "      print(\"INFO! {} Class  is a Singleton \".format(class_name ))\n",
        "      return cls._instance\n",
        "\n",
        "  @classmethod\n",
        "  def summary(cls) -> dict:\n",
        "    if cls._summary_generatable:\n",
        "      return {\n",
        "          'vocab_size(tokens)': cls._vocab_size,\n",
        "          'raw_corpus_size(tokens)': cls. _raw_corpus_size,\n",
        "          'total_sentences' : cls. _total_sentences,\n",
        "          'average_sentence_length_char': sum(cls._sentence_char_lengths_list)/cls. _total_sentences,\n",
        "          'average_sentence_length_tokens': sum(cls._basic_richness_list)/ cls._total_sentences\n",
        "      }\n",
        "    else:\n",
        "      return {'_summary_generatable':cls._summary_generatable }\n",
        "\n",
        "\n",
        "\n",
        "\n",
        "  @classmethod\n",
        "  def read_files(cls) -> None:\n",
        "    corpus_path= os.path.join(cls.WORKING_DIR, cls.CORPUS_DIR )\n",
        "    file_list= os.listdir(corpus_path)\n",
        "    for filename in tqdm(file_list, unit='it', desc=\"Reading Corpus\",  ncols=80 ):\n",
        "      file_path = os.path.join(corpus_path, filename)  # Create the full file path\n",
        "      if os.path.isfile(file_path):  # Check if it's a file (not a directory)\n",
        "          # Process the file as needed\n",
        "              print_text(\"Processing of [{}] file started\".format(file_path))\n",
        "              cls._raw_corpus = cls._raw_corpus + \"\\n\" +  docx2txt.process(file_path)\n",
        "              print_text(\"Processing of [{}] file ended\".format(file_path))\n",
        "\n",
        "\n",
        "\n",
        "  @classmethod\n",
        "  def add_to_vocab(cls, sentence : str) -> None:\n",
        "    ''' return the vocabulary list (unique words in the given list of sentences)\n",
        "    writes vocab to the file with name in the VOCAB_FILE_NAME in the\n",
        "    working directory  set by the variable  WORKING_DIR'''\n",
        "    tokens = sentence.split()\n",
        "    cls._raw_corpus_size += len(tokens)\n",
        "    tokens.sort()\n",
        "    cls._vocab= cls._vocab.union(set(tokens))\n",
        "\n",
        "  @classmethod\n",
        "  def save_vocab(cls) -> None:\n",
        "    os.chdir(cls.WORKING_DIR)\n",
        "    vocab_path = os.path.join(cls.WORKING_DIR , cls.PROCESSED_DIR , cls.VOCAB_FILENAME)\n",
        "    with open (vocab_path,'w') as out:\n",
        "      for token in tqdm(cls._vocab, unit='it', desc='Saving Vocabulary to a {}'.format(vocab_path), ncols=100):\n",
        "        out.write(token+\"\\n\")\n",
        "    cls._vocab_size = len ( cls._vocab)\n",
        "\n",
        "  @classmethod\n",
        "  def sentence_richness(cls, sentence: str) -> int:\n",
        "    '''return the basic richness of the sentence: basic richnes is\n",
        "    equal to number of unique words in a sentence'''\n",
        "    tokens= sentence.split()\n",
        "    cls._sentence_token_lengths_list.append(len(tokens))\n",
        "    richness = len(set(tokens))\n",
        "    return  richness\n",
        "\n",
        "  @classmethod\n",
        "  def basic_richness_sentence_wise(cls) -> None:\n",
        "    '''calculate the basic richnes of every valid sentence in the _raw_corpus.\n",
        "    Basic richness is equal to the number of unique tokens in a sentence.'''\n",
        "    sentences = re.split(cls.SENTENCE_DELIMITER,cls._raw_corpus)\n",
        "    '''Filter out empty sentences while doing so, also replace the multiple\n",
        "    spaces with one space, remove parenthesis, commas ,  quotes and alike\n",
        "      as mentioned in the TOKEN_DELIMITER_PATTERN'''\n",
        "    sentences = [re.sub(cls.TOKEN_DELIMITER_PATTERN, \" \", sentence) \\\n",
        "                 for sentence in tqdm(sentences, unit= \"it\", \\\n",
        "                                      desc=\"Removing Punctuations and extra white spaces\", ncols=80) if sentence.strip() ]\n",
        "    cls._total_sentences = len(sentences)\n",
        "    print(\"Total sentences: {}\".format(cls._total_sentences))\n",
        "    df= pd.DataFrame(columns=['sentence','richness'])\n",
        "    sentences_skipped = 0\n",
        "    for index, sentence in tqdm(enumerate(sentences), unit=\"item\", desc=\"Calculating basic richness:\", ncols=80):\n",
        "      cls.add_to_vocab(sentence)\n",
        "      if  len(sentence.split())>= cls.MINIMUM_SENTENCE_LENGTH:\n",
        "        basic_richness= cls.sentence_richness(sentence)\n",
        "        cls._basic_richness_list.append(basic_richness)\n",
        "        cls._sentence_char_lengths_list.append(len(sentence))\n",
        "        df.loc[len(df)] =[sentence, basic_richness]\n",
        "      else:\n",
        "        sentences_skipped += 1\n",
        "\n",
        "    print(\"Sentences skipped due to length less than {}: {}\".format(cls.MINIMUM_SENTENCE_LENGTH, sentences_skipped))\n",
        "    cls.save_vocab()\n",
        "    os.chdir(cls.WORKING_DIR)\n",
        "    file_path = os.path.join(cls.WORKING_DIR, cls.PROCESSED_DIR, cls.ENRICHED_FILENAME_INITIAL)\n",
        "    df.to_csv( file_path,index= False )\n",
        "    print(\"Completed basic_richness_sentence_wise \")\n",
        "    print(\"Total sentences saved: {}\".format(len(df)))\n",
        "    print_text(\"Info: Summary Available!\", 'green')\n",
        "    cls._summary_generatable=True\n",
        "\n",
        "  @classmethod\n",
        "  def generate_corpus_richness(cls) -> None:\n",
        "    ''' reads the simple richness csv file pointed by ENRICHED_FILENAME_INITIAL into dataframe, sorts it\n",
        "    in ascending order of richness, drops the rows with NaN values in richness column in place.\n",
        "    Ascending order is used so that the small sentences are not deleted due to the large sentences having\n",
        "    comparatively greater number of unique tokens leading to wishlist emptied soon and thus subsequent less richness is contributed.\n",
        "    '''\n",
        "    file_path = os.path.join (cls.WORKING_DIR, cls.PROCESSED_DIR, cls.ENRICHED_FILENAME_INITIAL)\n",
        "    df=pd.read_csv(file_path)\n",
        "    df.columns=  ['sentence','richness']\n",
        "    df=df.sort_values(by=['richness'], ascending=True)\n",
        "    #drops the old index and make the changes in the df directly\n",
        "    df.reset_index(drop=True, inplace=True)\n",
        "    #removes the dataframes where the richness column has missing or NaN values\n",
        "    df=df.dropna(subset=['richness'])\n",
        "    print(\"Total sentences remained after dropping NaN values: {}\".format(len(df)))\n",
        "\n",
        "    '''add a new column to the data frame for setting the status of whether any\n",
        "    of the tokens of the sentence has matched to the wishlist or not. Initially\n",
        "    all sentences will have tokens which are in the wishlist.\n",
        "    Hence values are false for the new column.'''\n",
        "    df=df.assign(Deleted=False)\n",
        "    ''' calculate the richness of the sentences '''\n",
        "    wishlist= cls._vocab\n",
        "    total_deletable = 0\n",
        "    print_heading(\"Initial Wishlist Length:{}\".format(len(wishlist)))\n",
        "    tbar = tqdm(df.iterrows(),total=len(df), unit='row', desc='Calculating final  richness: ', ncols=80)\n",
        "    for index, row in  tbar:\n",
        "        tokens= str(row['sentence']).split()\n",
        "        tokens = [token for token in tokens if token.strip() ]\n",
        "        tokens = set(tokens)\n",
        "\n",
        "        ''' richness of a given sentence is the number of unique tokens matching\n",
        "        with the remaining vocab list i.e., the intersection of the unique\n",
        "        tokens (set) in the sentence and the remaining vocab'''\n",
        "        match_words = tokens & wishlist\n",
        "        not_matched = tokens - match_words\n",
        "        if len(match_words) > 0:\n",
        "          df.at[index,'richness'] = len(match_words)\n",
        "          '''update the  wishlist by set difference operation of the wishlist\n",
        "          and the match  tokens: excluding the matching tokens from the wishlist'''\n",
        "          wishlist = wishlist - match_words\n",
        "          tbar.set_description(desc='Wishlist Remaining Size :{} Words Matched: {}'.format(len(wishlist), len(match_words)))\n",
        "        else:\n",
        "          df.at[index,'Deleted']=True\n",
        "          total_deletable +=1\n",
        "\n",
        "    final_richness_file_path = os.path.join(cls.WORKING_DIR, cls.PROCESSED_DIR, cls.ENRICHED_FILENAME_FINAL)\n",
        "    df.to_csv( final_richness_file_path )\n",
        "    print_text('Final Richness saved to {}'.format(final_richness_file_path), \"green\")\n",
        "    print_text('Total Deletable: {}'.format(total_deletable), 'red')\n",
        "    # Validate the richness with the vocab size\n",
        "    richness_sum_deleted_false= df.loc[df['Deleted'] == False, 'richness'].sum()\n",
        "    vocab_len= len(cls._vocab)\n",
        "    if( richness_sum_deleted_false == vocab_len):\n",
        "      print_text('Richness  Validated with sum = {}'.format(richness_sum_deleted_false))"
      ]
    },
    {
      "cell_type": "code",
      "execution_count": null,
      "metadata": {
        "id": "mCZTYhDfJjin"
      },
      "outputs": [],
      "source": [
        "mycorpus = Corpus()"
      ]
    },
    {
      "cell_type": "code",
      "execution_count": null,
      "metadata": {
        "colab": {
          "base_uri": "https://localhost:8080/",
          "height": 315
        },
        "id": "WhPzN9nBHXzG",
        "outputId": "b0c3fcf6-5cdc-4e92-824d-a82cf72e0885"
      },
      "outputs": [
        {
          "output_type": "stream",
          "name": "stderr",
          "text": [
            "\rReading Corpus:   0%|                                     | 0/4 [00:00<?, ?it/s]"
          ]
        },
        {
          "output_type": "display_data",
          "data": {
            "text/plain": [
              "<IPython.core.display.HTML object>"
            ],
            "text/html": [
              " \n",
              "<style>\n",
              "  h1, h2, h3, h4 {\n",
              "    color: red;\n",
              "    font-size: 16px;\n",
              "  }\n",
              "\n",
              "  p {\n",
              "    font-size: 14px;\n",
              "    color: var(--text-color);\n",
              "  }\n",
              "</style>\n",
              " <p style='--text-color:grey'> Processing of [/content/drive/MyDrive/PhD/Dataset/Text/text_files/corpus/news_corpus_mixed_headerless edited.docx] file started</p>"
            ]
          },
          "metadata": {}
        },
        {
          "output_type": "display_data",
          "data": {
            "text/plain": [
              "<IPython.core.display.HTML object>"
            ],
            "text/html": [
              " \n",
              "<style>\n",
              "  h1, h2, h3, h4 {\n",
              "    color: red;\n",
              "    font-size: 16px;\n",
              "  }\n",
              "\n",
              "  p {\n",
              "    font-size: 14px;\n",
              "    color: var(--text-color);\n",
              "  }\n",
              "</style>\n",
              " <p style='--text-color:grey'> Processing of [/content/drive/MyDrive/PhD/Dataset/Text/text_files/corpus/news_corpus_mixed_headerless edited.docx] file ended</p>"
            ]
          },
          "metadata": {}
        },
        {
          "output_type": "stream",
          "name": "stderr",
          "text": [
            "\rReading Corpus:  25%|███████▎                     | 1/4 [00:01<00:03,  1.16s/it]"
          ]
        },
        {
          "output_type": "display_data",
          "data": {
            "text/plain": [
              "<IPython.core.display.HTML object>"
            ],
            "text/html": [
              " \n",
              "<style>\n",
              "  h1, h2, h3, h4 {\n",
              "    color: red;\n",
              "    font-size: 16px;\n",
              "  }\n",
              "\n",
              "  p {\n",
              "    font-size: 14px;\n",
              "    color: var(--text-color);\n",
              "  }\n",
              "</style>\n",
              " <p style='--text-color:grey'> Processing of [/content/drive/MyDrive/PhD/Dataset/Text/text_files/corpus/news_corpus manual editing with out headerless files and skipped files.docx] file started</p>"
            ]
          },
          "metadata": {}
        },
        {
          "output_type": "display_data",
          "data": {
            "text/plain": [
              "<IPython.core.display.HTML object>"
            ],
            "text/html": [
              " \n",
              "<style>\n",
              "  h1, h2, h3, h4 {\n",
              "    color: red;\n",
              "    font-size: 16px;\n",
              "  }\n",
              "\n",
              "  p {\n",
              "    font-size: 14px;\n",
              "    color: var(--text-color);\n",
              "  }\n",
              "</style>\n",
              " <p style='--text-color:grey'> Processing of [/content/drive/MyDrive/PhD/Dataset/Text/text_files/corpus/news_corpus manual editing with out headerless files and skipped files.docx] file ended</p>"
            ]
          },
          "metadata": {}
        },
        {
          "output_type": "stream",
          "name": "stderr",
          "text": [
            "\rReading Corpus:  50%|██████████████▌              | 2/4 [00:02<00:02,  1.48s/it]"
          ]
        },
        {
          "output_type": "display_data",
          "data": {
            "text/plain": [
              "<IPython.core.display.HTML object>"
            ],
            "text/html": [
              " \n",
              "<style>\n",
              "  h1, h2, h3, h4 {\n",
              "    color: red;\n",
              "    font-size: 16px;\n",
              "  }\n",
              "\n",
              "  p {\n",
              "    font-size: 14px;\n",
              "    color: var(--text-color);\n",
              "  }\n",
              "</style>\n",
              " <p style='--text-color:grey'> Processing of [/content/drive/MyDrive/PhD/Dataset/Text/text_files/corpus/Edited Corpus with english words removed.docx] file started</p>"
            ]
          },
          "metadata": {}
        },
        {
          "output_type": "display_data",
          "data": {
            "text/plain": [
              "<IPython.core.display.HTML object>"
            ],
            "text/html": [
              " \n",
              "<style>\n",
              "  h1, h2, h3, h4 {\n",
              "    color: red;\n",
              "    font-size: 16px;\n",
              "  }\n",
              "\n",
              "  p {\n",
              "    font-size: 14px;\n",
              "    color: var(--text-color);\n",
              "  }\n",
              "</style>\n",
              " <p style='--text-color:grey'> Processing of [/content/drive/MyDrive/PhD/Dataset/Text/text_files/corpus/Edited Corpus with english words removed.docx] file ended</p>"
            ]
          },
          "metadata": {}
        },
        {
          "output_type": "stream",
          "name": "stderr",
          "text": [
            "\rReading Corpus:  75%|█████████████████████▊       | 3/4 [00:15<00:06,  6.69s/it]"
          ]
        },
        {
          "output_type": "display_data",
          "data": {
            "text/plain": [
              "<IPython.core.display.HTML object>"
            ],
            "text/html": [
              " \n",
              "<style>\n",
              "  h1, h2, h3, h4 {\n",
              "    color: red;\n",
              "    font-size: 16px;\n",
              "  }\n",
              "\n",
              "  p {\n",
              "    font-size: 14px;\n",
              "    color: var(--text-color);\n",
              "  }\n",
              "</style>\n",
              " <p style='--text-color:grey'> Processing of [/content/drive/MyDrive/PhD/Dataset/Text/text_files/corpus/Corpus IMS1.docx] file started</p>"
            ]
          },
          "metadata": {}
        },
        {
          "output_type": "display_data",
          "data": {
            "text/plain": [
              "<IPython.core.display.HTML object>"
            ],
            "text/html": [
              " \n",
              "<style>\n",
              "  h1, h2, h3, h4 {\n",
              "    color: red;\n",
              "    font-size: 16px;\n",
              "  }\n",
              "\n",
              "  p {\n",
              "    font-size: 14px;\n",
              "    color: var(--text-color);\n",
              "  }\n",
              "</style>\n",
              " <p style='--text-color:grey'> Processing of [/content/drive/MyDrive/PhD/Dataset/Text/text_files/corpus/Corpus IMS1.docx] file ended</p>"
            ]
          },
          "metadata": {}
        },
        {
          "output_type": "stream",
          "name": "stderr",
          "text": [
            "Reading Corpus: 100%|█████████████████████████████| 4/4 [00:22<00:00,  5.55s/it]\n"
          ]
        }
      ],
      "source": [
        "mycorpus.read_files()"
      ]
    },
    {
      "cell_type": "markdown",
      "source": [
        "Calculating the vocabulary size of a text in a language with inflections can be challenging due to the presence of word variations caused by inflectional morphology. In such cases, multiple forms of a word can exist based on factors like tense, number, gender, case, etc. Here are a few approaches to estimate the vocabulary size:\n",
        "\n",
        "1. **Lemmatization**: Apply lemmatization to reduce inflected words to their base or dictionary form (lemma). This process aims to normalize words and reduce them to their canonical form. After lemmatization, count the unique lemmas to estimate the vocabulary size.\n",
        "\n",
        "2. **Stemming**: Use stemming techniques to reduce words to their root or stem form. Stemming is a simpler morphological process compared to lemmatization and may not always produce linguistically accurate stems. Counting the unique stems can provide an estimate of the vocabulary size.\n",
        "\n",
        "3. **Frequency-based threshold**: Instead of considering every inflected form as a unique word, set a frequency threshold. For example, consider words that occur above a certain frequency (e.g., 5 occurrences) as separate words and group inflected forms below the threshold with their base form. This approach helps reduce vocabulary size while still accounting for commonly occurring inflected forms.\n",
        "\n",
        "4. **Domain-specific analysis**: Analyze the specific domain or context of the text and identify common inflected forms or patterns. Grouping similar inflected forms together based on their shared base form or meaning can help in estimating the vocabulary size more accurately.\n",
        "\n",
        "It's important to note that estimating vocabulary size in languages with inflections is not an exact science and can vary based on the specific language, corpus, and analysis approach. It is often a trade-off between capturing the richness of the language and reducing the vocabulary size for computational efficiency or analysis purposes."
      ],
      "metadata": {
        "id": "LpeUclnE7vyc"
      }
    },
    {
      "cell_type": "markdown",
      "source": [
        "Word with many inflective forms like\n",
        "# **(آسمان, آسمانس, آسمانُک)**\n",
        "are counted as many times.\n",
        "Moreover, there are some words which might visually seem similar and should have been counted once but are constitutionally different.  E.g\n",
        "# **آرگنائزیشن** and **آرگناٮٔزیشن**\n",
        "upon deconstruction, it is found they differ in sixth character:\n",
        "# **آرگنائ زیشن** and **آرگناٮٔ زیشن**\n",
        "\n",
        "there  are also words which reflect dialectical differences like:\n",
        "# **آزمانہٕ** and **آزماونہٕ**"
      ],
      "metadata": {
        "id": "_kd2woK4W4Gg"
      }
    },
    {
      "cell_type": "code",
      "execution_count": null,
      "metadata": {
        "colab": {
          "base_uri": "https://localhost:8080/",
          "height": 168
        },
        "id": "61RWKUIzkETV",
        "outputId": "e0bac954-fa40-402d-88de-c65d5b1354ec"
      },
      "outputs": [
        {
          "output_type": "stream",
          "name": "stderr",
          "text": [
            "Removing Punctuations and extra white spaces: 100%|█| 13565/13565 [00:00<00:00, \n"
          ]
        },
        {
          "output_type": "stream",
          "name": "stdout",
          "text": [
            "Total sentences: 13319\n"
          ]
        },
        {
          "output_type": "stream",
          "name": "stderr",
          "text": [
            "Calculating basic richness:: 13319item [00:50, 265.24item/s]\n"
          ]
        },
        {
          "output_type": "stream",
          "name": "stdout",
          "text": [
            "Sentences skipped due to length less than 5: 622\n"
          ]
        },
        {
          "output_type": "stream",
          "name": "stderr",
          "text": [
            "Saving Vocabulary to a /content/drive/MyDrive/PhD/Dataset/Text/text_files/processed/kashmiri_vocab.c\n"
          ]
        },
        {
          "output_type": "stream",
          "name": "stdout",
          "text": [
            "Completed basic_richness_sentence_wise \n",
            "Total sentences saved: 12697\n"
          ]
        },
        {
          "output_type": "display_data",
          "data": {
            "text/plain": [
              "<IPython.core.display.HTML object>"
            ],
            "text/html": [
              " \n",
              "<style>\n",
              "  h1, h2, h3, h4 {\n",
              "    color: red;\n",
              "    font-size: 16px;\n",
              "  }\n",
              "\n",
              "  p {\n",
              "    font-size: 14px;\n",
              "    color: var(--text-color);\n",
              "  }\n",
              "</style>\n",
              " <p style='--text-color:green'> Info: Summary Available!</p>"
            ]
          },
          "metadata": {}
        }
      ],
      "source": [
        "mycorpus.basic_richness_sentence_wise()"
      ]
    },
    {
      "cell_type": "code",
      "source": [
        "pprint.pprint(mycorpus.summary())"
      ],
      "metadata": {
        "colab": {
          "base_uri": "https://localhost:8080/"
        },
        "id": "gqraa1PwbTk_",
        "outputId": "795ae03c-b48f-40b9-d53e-bb08283b9292"
      },
      "execution_count": null,
      "outputs": [
        {
          "output_type": "stream",
          "name": "stdout",
          "text": [
            "{'average_sentence_length_char': 107.05586004955327,\n",
            " 'average_sentence_length_tokens': 17.540656205420827,\n",
            " 'raw_corpus_size(tokens)': 250752,\n",
            " 'total_sentences': 13319,\n",
            " 'vocab_size(tokens)': 48959}\n"
          ]
        }
      ]
    },
    {
      "cell_type": "code",
      "execution_count": null,
      "metadata": {
        "colab": {
          "base_uri": "https://localhost:8080/",
          "height": 142
        },
        "id": "Dlbghq9UT_6D",
        "outputId": "9244426b-c3dc-4113-e6b3-e060be933410"
      },
      "outputs": [
        {
          "output_type": "stream",
          "name": "stdout",
          "text": [
            "Total sentences remained after dropping NaN values: 12697\n"
          ]
        },
        {
          "output_type": "display_data",
          "data": {
            "text/plain": [
              "<IPython.core.display.HTML object>"
            ],
            "text/html": [
              "\n",
              "<style>\n",
              "  h1, h2, h3, h4 {\n",
              "    color: red;\n",
              "    font-size: 16px;\n",
              "  }\n",
              "\n",
              "  p {\n",
              "    font-size: 14px;\n",
              "    color: var(--text-color);\n",
              "  }\n",
              "</style>\n",
              "<h5> Initial Wishlist Length:48959 </h5>"
            ]
          },
          "metadata": {}
        },
        {
          "output_type": "stream",
          "name": "stderr",
          "text": [
            "Wishlist Remaining Size :358 Words Matched: 16: 100%|█| 12697/12697 [00:56<00:00\n"
          ]
        },
        {
          "output_type": "display_data",
          "data": {
            "text/plain": [
              "<IPython.core.display.HTML object>"
            ],
            "text/html": [
              " \n",
              "<style>\n",
              "  h1, h2, h3, h4 {\n",
              "    color: red;\n",
              "    font-size: 16px;\n",
              "  }\n",
              "\n",
              "  p {\n",
              "    font-size: 14px;\n",
              "    color: var(--text-color);\n",
              "  }\n",
              "</style>\n",
              " <p style='--text-color:green'> Final Richness saved to /content/drive/MyDrive/PhD/Dataset/Text/text_files/processed/final_kashmiri_enriched.csv</p>"
            ]
          },
          "metadata": {}
        },
        {
          "output_type": "display_data",
          "data": {
            "text/plain": [
              "<IPython.core.display.HTML object>"
            ],
            "text/html": [
              " \n",
              "<style>\n",
              "  h1, h2, h3, h4 {\n",
              "    color: red;\n",
              "    font-size: 16px;\n",
              "  }\n",
              "\n",
              "  p {\n",
              "    font-size: 14px;\n",
              "    color: var(--text-color);\n",
              "  }\n",
              "</style>\n",
              " <p style='--text-color:red'> Total Deletable: 380</p>"
            ]
          },
          "metadata": {}
        }
      ],
      "source": [
        "mycorpus.generate_corpus_richness()"
      ]
    },
    {
      "cell_type": "code",
      "execution_count": null,
      "metadata": {
        "colab": {
          "base_uri": "https://localhost:8080/",
          "height": 830
        },
        "id": "VAA0Hn_NirDu",
        "outputId": "32a03cca-3bca-4f47-bc3f-acbe7a5e4f87"
      },
      "outputs": [
        {
          "output_type": "display_data",
          "data": {
            "text/plain": [
              "<Figure size 1000x1000 with 1 Axes>"
            ],
            "image/png": "[encoded data removed]"
          },
          "metadata": {}
        }
      ],
      "source": [
        "df= pd.read_csv(os.path.join(Corpus.WORKING_DIR, Corpus.PROCESSED_DIR, Corpus.ENRICHED_FILENAME_FINAL))\n",
        " # Resetting the index\n",
        "df = df.reset_index(drop=True)\n",
        "condition = df['Deleted'] == False\n",
        "plt.figure(figsize=(10, 10))\n",
        "x= range(len(df[condition]['richness']))\n",
        "plt.boxplot(df[condition]['richness'])\n",
        "plt.grid(True, linestyle='--', alpha=0.5)"
      ]
    },
    {
      "cell_type": "code",
      "source": [
        "data = df[condition]['richness']\n",
        "q1, q3 = np.percentile(data, [25, 75])\n",
        "\n",
        "# Calculate interquartile range (IQR)\n",
        "iqr = q3 - q1\n",
        "\n",
        "# Define outlier boundaries\n",
        "lower_bound = q1 - 1.5 * iqr\n",
        "upper_bound = q3 + 1.5 * iqr\n",
        "\n",
        "# Identify the outliers\n",
        "outliers = [x for x in data if x < lower_bound or x > upper_bound]\n",
        "\n",
        "# Calculate the number of outliers\n",
        "num_outliers = len(outliers)\n",
        "\n",
        "print_text(\"Number of outliers:{}\".format(num_outliers), \"red\")\n",
        "print(\"Percentage of outliers: {}\".format(num_outliers /len(data) * 100 ))"
      ],
      "metadata": {
        "colab": {
          "base_uri": "https://localhost:8080/",
          "height": 64
        },
        "id": "Wtnvjs9fWdZU",
        "outputId": "cef47a0d-337c-4b51-9f50-e538be7ce00e"
      },
      "execution_count": null,
      "outputs": [
        {
          "output_type": "display_data",
          "data": {
            "text/plain": [
              "<IPython.core.display.HTML object>"
            ],
            "text/html": [
              " \n",
              "<style>\n",
              "  h1, h2, h3, h4 {\n",
              "    color: red;\n",
              "    font-size: 16px;\n",
              "  }\n",
              "\n",
              "  p {\n",
              "    font-size: 14px;\n",
              "    color: var(--text-color);\n",
              "  }\n",
              "</style>\n",
              " <p style='--text-color:red'> Number of outliers:237</p>"
            ]
          },
          "metadata": {}
        },
        {
          "output_type": "stream",
          "name": "stdout",
          "text": [
            "Percentage of outliers: 1.9241698465535437\n"
          ]
        }
      ]
    },
    {
      "cell_type": "code",
      "execution_count": null,
      "metadata": {
        "colab": {
          "base_uri": "https://localhost:8080/"
        },
        "id": "45vGkRYsy1mK",
        "outputId": "3535cff8-a232-4384-bc5f-bde1f53f5020"
      },
      "outputs": [
        {
          "output_type": "stream",
          "name": "stdout",
          "text": [
            "1002 total sentences removed \n",
            "12317 is total sentences in the dataset with delete = False\n"
          ]
        }
      ],
      "source": [
        "data = df[condition]['richness']\n",
        "removed = mycorpus._total_sentences - len(data)\n",
        "print(\"{} total sentences removed \".format(removed))\n",
        "print(\"{} is total sentences in the dataset with delete = False\".format(len(data)))"
      ]
    },
    {
      "cell_type": "code",
      "execution_count": null,
      "metadata": {
        "colab": {
          "base_uri": "https://localhost:8080/",
          "height": 872
        },
        "id": "5H2sNE89IiN6",
        "outputId": "ebb5dd9e-f9d3-430c-f8b5-7dd1e6935324"
      },
      "outputs": [
        {
          "output_type": "display_data",
          "data": {
            "text/plain": [
              "<Figure size 1000x1000 with 1 Axes>"
            ],
            "image/png": "[encoded data removed]"
          },
          "metadata": {}
        }
      ],
      "source": [
        "plt.figure(figsize=(10, 10))\n",
        "plt.boxplot(mycorpus._basic_richness_list, patch_artist=True,  boxprops=dict(facecolor='lightblue', linewidth=2), flierprops=dict(marker='.', markersize=4, markerfacecolor='red'),\\\n",
        "            capprops=dict(color='green'),\\\n",
        "            medianprops=dict(color='black', linewidth=2),\\\n",
        "            whiskerprops=dict(color='red', linestyle='--')\n",
        "            )\n",
        "# Adding gridlines\n",
        "plt.grid(True, linestyle='--', alpha=0.5)\n",
        "plt.xlabel('Sentence')\n",
        "plt.ylabel('Richness')\n",
        "plt.title('Basic Richness of  Individual sentences')\n",
        "plt.show()"
      ]
    },
    {
      "cell_type": "code",
      "execution_count": null,
      "metadata": {
        "colab": {
          "base_uri": "https://localhost:8080/",
          "height": 450
        },
        "id": "nUIPqwPDL6Gh",
        "outputId": "076d3b24-be70-4ed3-ddb5-9cc961c7d3a2"
      },
      "outputs": [
        {
          "output_type": "execute_result",
          "data": {
            "text/plain": [
              "[<matplotlib.lines.Line2D at 0x7f340282e5f0>]"
            ]
          },
          "metadata": {},
          "execution_count": 16
        },
        {
          "output_type": "display_data",
          "data": {
            "text/plain": [
              "<Figure size 640x480 with 1 Axes>"
            ],
            "image/png": "[encoded data removed]"
          },
          "metadata": {}
        }
      ],
      "source": [
        "plt.plot(mycorpus._sentence_char_lengths_list)"
      ]
    },
    {
      "cell_type": "code",
      "execution_count": null,
      "metadata": {
        "colab": {
          "base_uri": "https://localhost:8080/",
          "height": 447
        },
        "id": "9ayCFW7oMDm-",
        "outputId": "08a0a143-1267-45b6-9ad6-bfd60dc84470"
      },
      "outputs": [
        {
          "output_type": "execute_result",
          "data": {
            "text/plain": [
              "[<matplotlib.lines.Line2D at 0x7f33f7c12da0>]"
            ]
          },
          "metadata": {},
          "execution_count": 17
        },
        {
          "output_type": "display_data",
          "data": {
            "text/plain": [
              "<Figure size 640x480 with 1 Axes>"
            ],
            "image/png": "[encoded data removed]"
          },
          "metadata": {}
        }
      ],
      "source": [
        "plt.plot(mycorpus._sentence_token_lengths_list)"
      ]
    },
    {
      "cell_type": "markdown",
      "source": [
        "**check also the feasibility of TF-IDF for calculating the richness of the sentence or any other algorithm which can generate the smooth graph**"
      ],
      "metadata": {
        "id": "P3Qutcm7-lyM"
      }
    },
    {
      "cell_type": "markdown",
      "metadata": {
        "id": "piaM8CVYME5m"
      },
      "source": [
        "# **Statistics**\n",
        "\n",
        "*   Total Number of Sentences\n",
        "*   Total Number of Unique Words(Vocab Size)\n",
        "*   Total Number of Words\n",
        "*   Average Length of a sentence\n",
        "*   Total Recorders\n",
        "*   Total Reviewers\n",
        "*   Total Recodings\n",
        "*   Total Reviewed Recordings\n",
        "*   Total Accepted Recordings\n",
        "*   Total Rejected Recordings\n",
        "*   Average Review of the Recordings\n",
        "*   Box Plot of the length of the sentences\n",
        "*   Normal Distribution Plot of the length of the sentences\n",
        "*   Normal Distribution Plot of the length of the unique sentences\n"
      ]
    },
    {
      "cell_type": "markdown",
      "source": [
        "# New Richness algorithm based on TF-IDF"
      ],
      "metadata": {
        "id": "wPmLb18RZZxr"
      }
    }
  ],
  "metadata": {
    "colab": {
      "provenance": [],
      "gpuType": "T4",
      "mount_file_id": "1VHTu228VkHrHAURVDjTmd5UOu763Fzgi",
      "authorship_tag": "ABX9TyP9svTvyo6En/Bg/3C4VuxH",
      "include_colab_link": true
    },
    "kernelspec": {
      "display_name": "Python 3",
      "name": "python3"
    },
    "language_info": {
      "name": "python"
    }
  },
  "nbformat": 4,
  "nbformat_minor": 0
}