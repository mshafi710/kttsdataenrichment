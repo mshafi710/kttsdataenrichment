{
  "nbformat": 4,
  "nbformat_minor": 0,
  "metadata": {
    "colab": {
      "provenance": [],
      "mount_file_id": "1VHTu228VkHrHAURVDjTmd5UOu763Fzgi",
      "authorship_tag": "ABX9TyPwnl+Rt3XAZmso5j+Vj2Zn",
      "include_colab_link": true
    },
    "kernelspec": {
      "name": "python3",
      "display_name": "Python 3"
    },
    "language_info": {
      "name": "python"
    }
  },
  "cells": [
    {
      "cell_type": "markdown",
      "metadata": {
        "id": "view-in-github",
        "colab_type": "text"
      },
      "source": [
        "<a href=\"https://colab.research.google.com/github/mshafi710/kttsdataenrichment/blob/main/Text_Extraction.ipynb\" target=\"_parent\"><img src=\"https://colab.research.google.com/assets/colab-badge.svg\" alt=\"Open In Colab\"/></a>"
      ]
    },
    {
      "cell_type": "code",
      "execution_count": 2,
      "metadata": {
        "id": "UYmYSbCYxIBX",
        "colab": {
          "base_uri": "https://localhost:8080/"
        },
        "outputId": "e5a1dde3-e71e-40be-9085-9c49c2a1a308"
      },
      "outputs": [
        {
          "output_type": "stream",
          "name": "stdout",
          "text": [
            "Looking in indexes: https://pypi.org/simple, https://us-python.pkg.dev/colab-wheels/public/simple/\n",
            "Requirement already satisfied: docx2txt in /usr/local/lib/python3.10/dist-packages (0.8)\n",
            "Drive already mounted at /content/drive; to attempt to forcibly remount, call drive.mount(\"/content/drive\", force_remount=True).\n",
            "Looking in indexes: https://pypi.org/simple, https://us-python.pkg.dev/colab-wheels/public/simple/\n",
            "Requirement already satisfied: arabic_reshaper in /usr/local/lib/python3.10/dist-packages (3.0.0)\n",
            "Looking in indexes: https://pypi.org/simple, https://us-python.pkg.dev/colab-wheels/public/simple/\n",
            "Requirement already satisfied: python-bidi in /usr/local/lib/python3.10/dist-packages (0.4.2)\n",
            "Requirement already satisfied: six in /usr/local/lib/python3.10/dist-packages (from python-bidi) (1.16.0)\n"
          ]
        },
        {
          "output_type": "stream",
          "name": "stderr",
          "text": [
            "[nltk_data] Downloading package punkt to /root/nltk_data...\n",
            "[nltk_data]   Package punkt is already up-to-date!\n"
          ]
        }
      ],
      "source": [
        "#@title\n",
        "# !pip install python-docx\n",
        "# import docx\n",
        "!pip install docx2txt\n",
        "import docx2txt\n",
        "from google.colab import drive\n",
        "from collections import Counter\n",
        "import pandas as pd\n",
        "import matplotlib.pyplot as plt\n",
        "from matplotlib.font_manager import FontProperties\n",
        "import os\n",
        "import pathlib\n",
        "import logging\n",
        "drive.mount('/content/drive')\n",
        "!pip install arabic_reshaper\n",
        "!pip install python-bidi\n",
        "from bidi.algorithm import get_display\n",
        "from arabic_reshaper import reshape\n",
        "from wordcloud import WordCloud\n",
        "import nltk\n",
        "nltk.download('punkt')\n",
        "import re\n"
      ]
    },
    {
      "cell_type": "code",
      "source": [
        "from IPython.display import display, HTML\n",
        "css_classes = \"\"\"\n",
        "<style>\n",
        "  h1, h2, h3, h4 {\n",
        "    color: red;\n",
        "    font-size: 24px;\n",
        "  }\n",
        "  \n",
        "  p {\n",
        "    font-size: 14px;\n",
        "    color: var(--text-color);\n",
        "  }\n",
        "</style>\n",
        "\"\"\"\n",
        "def  print_heading(text):\n",
        " display(HTML(f'''{css_classes}<h2> {text} </h2>'''))\n",
        "\n",
        "def print_text(text, color='grey'):\n",
        "  display (HTML(f''' {css_classes} <p style='--text-color:{color}'> {text}</p>'''))\n",
        "\n",
        "\n"
      ],
      "metadata": {
        "id": "K8ia0FBXQ3GW"
      },
      "execution_count": 3,
      "outputs": []
    },
    {
      "cell_type": "code",
      "source": [
        "WORKING_DIR= '''/content/drive/MyDrive/PhD/Dataset/Text/text_files/'''\n",
        "VOCAB_FILENAME=\"/processed/kashmiri_vocab.csv\"\n",
        "ENRICHED_FILENAME_INITIAL=\"/processed/initial_kashmiri_enriched.csv\"\n",
        "ENRICHED_FILENAME_FINAL = \"/processed/final_kashmiri_enriched.csv\"\n",
        "LOG_FILE = '/processed/text-extraction.log'\n",
        "logging.basicConfig(filename=LOG_FILE, level=logging.INFO)\n",
        "#first letter in the TOKEN_DELIMITER_PATTERN is the Kashmiri fullstop character  \n",
        "TOKEN_DELIMITER_PATTERN = r'[۔;,:\\-\\s+\\n+\\(\\)\\\"\\?,]'\n",
        "SENTENCE_DELIMITER = r'[۔]'\n",
        "# CORPUS_FILE = '\"Edited Corpus.docx\"'\n",
        "CORPUS_FILE = 'Corpus316.docx'\n",
        "!ls $WORKING_DIR"
      ],
      "metadata": {
        "id": "0eF_6_XsxzSv",
        "colab": {
          "base_uri": "https://localhost:8080/"
        },
        "outputId": "19159494-3f26-41a7-aec4-f5254a5a92a2"
      },
      "execution_count": 4,
      "outputs": [
        {
          "output_type": "stream",
          "name": "stdout",
          "text": [
            "'corpus 1.gdoc'   Corpus297.docx   Corpus308.docx   Corpus319.docx\n",
            "'corpus 1.txt'\t  Corpus298.docx   Corpus309.docx   Corpus320.docx\n",
            " Corpus288.docx   Corpus299.docx   Corpus310.docx   Corpus321.docx\n",
            " Corpus289.docx   Corpus300.docx   Corpus311.docx   Corpus322.docx\n",
            " Corpus290.docx   Corpus301.docx   Corpus312.docx   Corpus323.docx\n",
            " Corpus291.docx   Corpus302.docx   Corpus313.docx   Corpus324.docx\n",
            " Corpus292.docx   Corpus303.docx   Corpus314.docx   Corpus325.docx\n",
            " Corpus293.docx   Corpus304.docx   Corpus315.docx  'Edited Corpus.docx'\n",
            " Corpus294.docx   Corpus305.docx   Corpus316.docx   processed\n",
            " Corpus295.docx   Corpus306.docx   Corpus317.docx   translated_files\n",
            " Corpus296.docx   Corpus307.docx   Corpus318.docx   translated_files.tar.gz\n"
          ]
        }
      ]
    },
    {
      "cell_type": "code",
      "source": [
        "def get_vocab(corpus):\n",
        "  '''\n",
        "  return the vocabulary list (unique words in the given corpus)  '''  \n",
        "\n",
        "  trimmed_sentence = re.sub(TOKEN_DELIMITER_PATTERN, \" \", corpus)\n",
        "  tokens = trimmed_sentence.split() \n",
        "  print_heading(\"Overall Tokens \")\n",
        "  print_text (tokens)\n",
        "  print_heading(\"\\n------------------\")\n",
        "  print_text(\"\\nNo of Tokens (after excluding the punctuation): %d\"  % len(tokens))\n",
        "  tokens.sort()\n",
        "  # get the unique list using set operation\n",
        "  vocab = list(set(tokens))\n",
        "  vocab.sort()\n",
        "  print(\"Vocabulary Size: %d\" %len(vocab))\n",
        "  return vocab"
      ],
      "metadata": {
        "id": "Jk2TJxrqCQwB"
      },
      "execution_count": 5,
      "outputs": []
    },
    {
      "cell_type": "code",
      "source": [
        "def vocab_to_file(vocab):\n",
        "  ''' writes vocab to the file with name in the VOCAB_FILE_NAME in the working directory  set by the variable  WORKING_DIR'''\n",
        "  os.chdir(WORKING_DIR)\n",
        "  with open ( WORKING_DIR + VOCAB_FILENAME,'w') as out:\n",
        "      for token in vocab:\n",
        "        out.write(token+\"\\n\")\n",
        "  print_text(\"vocabulary stored in {} \\n \".format( WORKING_DIR + VOCAB_FILENAME))"
      ],
      "metadata": {
        "id": "B4tVW-51YgJ5"
      },
      "execution_count": 6,
      "outputs": []
    },
    {
      "cell_type": "code",
      "source": [
        "def sentence_richness(sentence):\n",
        "    '''return the basic richness of the sentence: basic richnes is \n",
        "    equal to number of unique words of a sentence'''  \n",
        "    #  replaces all occurrences of this pattern with a single space\n",
        "    trimmed_sentence = re.sub(TOKEN_DELIMITER_PATTERN, \" \", sentence)\n",
        "    tokens= trimmed_sentence.split()\n",
        "\n",
        "    print_text(\"\\n------In Richness ----{}----\\n\".format(len(tokens)),'cyan')\n",
        "    print (tokens)\n",
        "    print_text(\"\\n-----Out Rchness ------------\\n\",'cyan')\n",
        "    return  len(set(tokens))"
      ],
      "metadata": {
        "id": "Y9_A36i7CTqx"
      },
      "execution_count": 7,
      "outputs": []
    },
    {
      "cell_type": "code",
      "source": [
        "# TO DO\n",
        "# If a word/senetence contains characters not in the list of kashmiri keyboard characters, reject that for simplicity purposes \n",
        "# Also delete the outliers from the dataset\n",
        "corpus =  docx2txt.process(WORKING_DIR +   CORPUS_FILE)\n",
        "vocab= get_vocab(corpus)\n",
        "vocab_to_file(vocab)"
      ],
      "metadata": {
        "id": "k5OBGrOi4CwG",
        "colab": {
          "base_uri": "https://localhost:8080/",
          "height": 269
        },
        "outputId": "3c151490-2396-4b93-fe27-da33a551ea2e"
      },
      "execution_count": 26,
      "outputs": [
        {
          "output_type": "display_data",
          "data": {
            "text/plain": [
              "<IPython.core.display.HTML object>"
            ],
            "text/html": [
              "\n",
              "<style>\n",
              "  h1, h2, h3, h4 {\n",
              "    color: red;\n",
              "    font-size: 24px;\n",
              "  }\n",
              "  \n",
              "  p {\n",
              "    font-size: 14px;\n",
              "    color: var(--text-color);\n",
              "  }\n",
              "</style>\n",
              "<h2> Overall Tokens  </h2>"
            ]
          },
          "metadata": {}
        },
        {
          "output_type": "display_data",
          "data": {
            "text/plain": [
              "<IPython.core.display.HTML object>"
            ],
            "text/html": [
              " \n",
              "<style>\n",
              "  h1, h2, h3, h4 {\n",
              "    color: red;\n",
              "    font-size: 24px;\n",
              "  }\n",
              "  \n",
              "  p {\n",
              "    font-size: 14px;\n",
              "    color: var(--text-color);\n",
              "  }\n",
              "</style>\n",
              " <p style='--text-color:grey'> ['اِسلٲمی', 'بَنَک', 'کٲری', 'باپَتھ', 'گَژھِ', 'سنٛز', 'سَپدُن', 'میٖر', 'واعظ', 'متحدہ', 'مجلِسِ', 'عُلماء', 'تنٛظیٖمہِ', 'ہُنٛد', 'خصوٗصی', 'اِجلاس', 'سَپُد', 'اوترٕ', 'مُنعقِد', 'سَریٖنَگرَس', 'منٛز', 'یَتھ', 'میٖر', 'واعظ', 'عُمر', 'فاروق', 'صٲبَن', 'صدارَت', 'کٔر', 'یَتھ', 'منٛز', 'آو', 'رِیاستَس', 'منٛز', 'شراب', 'تہِ', 'باقی', 'بِدعت', 'عام', 'کَرنَس', 'مُطلِق', 'پوٚت', 'پوٚت', 'ژۄیَن', 'دِل', 'دِنہٕ', 'آو', 'میٖر', 'واعظ', 'صٲبَن', 'ووٚن', 'زِ', 'اَرتداد', 'مُہِم', 'چھَنہٕ', 'کُنہِ', 'فِرقَس', 'بَرادری', 'یا', 'اِرادَس', 'خلاف', 'اماپوٛز', 'سانہِ', 'نَوِ', 'پُیہِ', 'تہٕ', 'نوجوانَن', 'وَتہٕ', 'ڈالَن', 'والٮ۪ن', 'خِلاف', 'روزَو', 'أسۍ', 'ڈٔٹِتھ', 'مجلِسہِ', 'منٛز', 'آے', 'سرکار', 'خبردارکرنہٕ', 'زِ', 'تِم', 'کَرَن', 'ؤلۍ', 'ؤلۍ', 'تِمَن', 'نفرَن', 'ہِنٛدۍ', 'ناو', 'نٔنۍ', 'یِمَن', 'شراب', 'کٕنٛنہ', 'باپَتھ', 'لاسَن', 'دِنہٕ', 'آمٕژ', 'چھےٚ', 'نَتہٕ', 'یِیہِ', 'قونوٗنَس', 'تحت', 'یہِ', 'تفصیٖل', 'منٛگنہٕ', 'ڈاکٹَرَن', 'پَزِ', 'پانہٕ', 'خۄد', 'گامَن', 'منٛز', 'گٔژھِتھ', 'اعلاج', 'کَرُن', 'اکثر', 'گٲمی', 'علاقن', 'منٛز', 'چُھ', 'أہُنٛد', 'سَخ', 'حاجَت', 'آزاد', 'صٲب', 'سریٖنَگَر', 'سون', 'میٖراث', 'دٔرۍ', 'روزَن', 'پانہٕ', 'وٲنۍ', 'یژھِ', 'پژھ', 'ہُراوان', 'تہٕ', 'دۄن', 'درٮ۪ن', 'درمیان', 'کارٕ', 'بارس', 'پوچھَردِنَس', 'سۭتۍ', 'سۭتۍ', 'یِیہِ', 'نیوٗکلیایی', 'ۂتھیارَن', 'تَتھ', 'جایہِ', 'تھاونُک', 'تہِ', 'سنٛزکرنہٕ', 'ییٚتہِ', 'نہٕ', 'اِنسٲنۍ', 'زُوَن', 'کانٛہہ', 'نۄقصان', 'واتہِ', 'یوٚدوے', 'دۄن', 'دۄہَن', 'ہِنٛزِاَتھ', 'مِٹِنٛگہِ', 'منٛزسُہ', 'کانٛہہ', 'ڈاکٹَرَن', 'پَزِ', 'پانہٕ', 'خۄد', 'گامَن', 'منٛزقونوٗنَس', 'تحت', 'یہِ', 'تفصیٖل', 'منٛگنہٕ', 'قونوٗنَس', 'تحت', 'یہِ', 'تفصیٖل', 'منٛگنہٕ', 'علاقن', 'منٛز', 'چُھ', 'أہُنٛد', 'سَخ', 'حاجَت']</p>"
            ]
          },
          "metadata": {}
        },
        {
          "output_type": "display_data",
          "data": {
            "text/plain": [
              "<IPython.core.display.HTML object>"
            ],
            "text/html": [
              "\n",
              "<style>\n",
              "  h1, h2, h3, h4 {\n",
              "    color: red;\n",
              "    font-size: 24px;\n",
              "  }\n",
              "  \n",
              "  p {\n",
              "    font-size: 14px;\n",
              "    color: var(--text-color);\n",
              "  }\n",
              "</style>\n",
              "<h2> \n",
              "------------------ </h2>"
            ]
          },
          "metadata": {}
        },
        {
          "output_type": "display_data",
          "data": {
            "text/plain": [
              "<IPython.core.display.HTML object>"
            ],
            "text/html": [
              " \n",
              "<style>\n",
              "  h1, h2, h3, h4 {\n",
              "    color: red;\n",
              "    font-size: 24px;\n",
              "  }\n",
              "  \n",
              "  p {\n",
              "    font-size: 14px;\n",
              "    color: var(--text-color);\n",
              "  }\n",
              "</style>\n",
              " <p style='--text-color:grey'> \n",
              "No of Tokens (after excluding the punctuation): 185</p>"
            ]
          },
          "metadata": {}
        },
        {
          "output_type": "stream",
          "name": "stdout",
          "text": [
            "Vocabulary Size: 140\n"
          ]
        },
        {
          "output_type": "display_data",
          "data": {
            "text/plain": [
              "<IPython.core.display.HTML object>"
            ],
            "text/html": [
              " \n",
              "<style>\n",
              "  h1, h2, h3, h4 {\n",
              "    color: red;\n",
              "    font-size: 24px;\n",
              "  }\n",
              "  \n",
              "  p {\n",
              "    font-size: 14px;\n",
              "    color: var(--text-color);\n",
              "  }\n",
              "</style>\n",
              " <p style='--text-color:grey'> vocabulary stored in /content/drive/MyDrive/PhD/Dataset/Text/text_files//processed/kashmiri_vocab.csv \n",
              " </p>"
            ]
          },
          "metadata": {}
        }
      ]
    },
    {
      "cell_type": "code",
      "source": [
        "def refine_corpus_to_file(corpus):\n",
        "    sentences = re.split(SENTENCE_DELIMITER,corpus)\n",
        "    print_heading('---------before processing-----------')\n",
        "    print(\" Total sentences: %d\" % len(sentences))\n",
        "    for  index, sentence  in enumerate(sentences):\n",
        "      print(\"{}th sntence : {}\".format(str(index), str(sentence)))\n",
        "\n",
        "    '''Filter out empty sentences while doing so, also replace the multiple \n",
        "     spaces with one space, remove parenthesis, commas , and quotes and alike\n",
        "      as mentioned in the token delimiter pattern'''\n",
        "    sentences = [re.sub(TOKEN_DELIMITER_PATTERN, \" \", sentence) for sentence in sentences if sentence.strip() ] \n",
        "    print_heading('-----------after processing---------')\n",
        "    for  index, sentence  in enumerate(sentences):\n",
        "      print(\"{}th sntence : {}\".format(str(index), str(sentence)))\n",
        "    print(\" Total sentences: %d\" % len(sentences))\n",
        "    os.chdir(WORKING_DIR)  \n",
        "    with open(WORKING_DIR + ENRICHED_FILENAME_INITIAL  ,'w') as out:\n",
        "      out.write('sentence,richness\\n')\n",
        "      for  sentence in sentences:\n",
        "        #exclude empty sentences\n",
        "        print('Length of a sentence is {}'.format(len(sentence)))\n",
        "        if len(sentence) >0:        \n",
        "          basic_richness= sentence_richness(sentence)\n",
        "          out.write(sentence +\",\" + str (basic_richness)+ \"\\n\")\n",
        "          print(sentence + \": \" +str(basic_richness) + \"\\n-------------------\\n\")"
      ],
      "metadata": {
        "id": "WMXgt7GJX3cY"
      },
      "execution_count": 9,
      "outputs": []
    },
    {
      "cell_type": "code",
      "source": [
        "refine_corpus_to_file(corpus)"
      ],
      "metadata": {
        "id": "PGaAF9IN2cFl",
        "colab": {
          "base_uri": "https://localhost:8080/",
          "height": 1000
        },
        "outputId": "666adc2a-4035-4ddf-e274-b18586608018"
      },
      "execution_count": 10,
      "outputs": [
        {
          "output_type": "display_data",
          "data": {
            "text/plain": [
              "<IPython.core.display.HTML object>"
            ],
            "text/html": [
              "\n",
              "<style>\n",
              "  h1, h2, h3, h4 {\n",
              "    color: red;\n",
              "    font-size: 24px;\n",
              "  }\n",
              "  \n",
              "  p {\n",
              "    font-size: 14px;\n",
              "    color: var(--text-color);\n",
              "  }\n",
              "</style>\n",
              "<h2> ---------before processing----------- </h2>"
            ]
          },
          "metadata": {}
        },
        {
          "output_type": "stream",
          "name": "stdout",
          "text": [
            " Total sentences: 12\n",
            "0th sntence : اِسلٲمی بَنَک کٲری باپَتھ گَژھِ سنٛز سَپدُن \n",
            "1th sntence :  میٖر واعظ\n",
            "\n",
            "متحدہ مجلِسِ عُلماء تنٛظیٖمہِ ہُنٛد خصوٗصی اِجلاس سَپُد اوترٕ مُنعقِد سَریٖنَگرَس منٛز\n",
            "2th sntence :  \n",
            "\n",
            "یَتھ میٖر واعظ عُمر فاروق صٲبَن صدارَت کٔر\n",
            "3th sntence :  یَتھ منٛز آو رِیاستَس منٛز شراب تہِ باقی بِدعت عام کَرنَس مُطلِق پوٚت پوٚت ژۄیَن دِل دِنہٕ آو\n",
            "4th sntence :  میٖر واعظ صٲبَن ووٚن زِ اَرتداد مُہِم چھَنہٕ کُنہِ فِرقَس بَرادری یا اِرادَس خلاف اماپوٛز سانہِ نَوِ پُیہِ تہٕ نوجوانَن وَتہٕ ڈالَن والٮ۪ن خِلاف روزَو أسۍ ڈٔٹِتھ \n",
            "5th sntence :  مجلِسہِ منٛز آے سرکار خبردارکرنہٕ زِ تِم کَرَن ؤلۍ ؤلۍ تِمَن نفرَن ہِنٛدۍ ناو نٔنۍ یِمَن شراب کٕنٛنہ باپَتھ لاسَن دِنہٕ آمٕژ چھےٚ\n",
            "6th sntence :  نَتہٕ یِیہِ قونوٗنَس تحت یہِ تفصیٖل منٛگنہٕ\n",
            "7th sntence :  \n",
            "\n",
            "\n",
            "ڈاکٹَرَن پَزِ پانہٕ خۄد گامَن منٛز گٔژھِتھ اعلاج کَرُن اکثر گٲمی علاقن منٛز چُھ أہُنٛد سَخ حاجَت\n",
            "8th sntence :  آزاد صٲب\n",
            "\n",
            "سریٖنَگَر(سون میٖراث)\n",
            "\n",
            "دٔرۍ روزَن پانہٕ وٲنۍ یژھِ پژھ ہُراوان تہٕ دۄن درٮ۪ن درمیان کارٕ بارس پوچھَردِنَس سۭتۍ سۭتۍ یِیہِ نیوٗکلیایی ۂتھیارَن تَتھ جایہِ تھاونُک تہِ سنٛزکرنہٕ ییٚتہِ نہٕ اِنسٲنۍ زُوَن کانٛہہ نۄقصان واتہِ\n",
            "9th sntence :  یوٚدوے دۄن دۄہَن ہِنٛزِاَتھ مِٹِنٛگہِ منٛزسُہ کانٛہہ ڈاکٹَرَن پَزِ پانہٕ خۄد گامَن منٛزقونوٗنَس تحت یہِ تفصیٖل منٛگنہٕ\n",
            "10th sntence :  \n",
            "\n",
            "قونوٗنَس تحت یہِ تفصیٖل منٛگنہٕ علاقن منٛز چُھ أہُنٛد سَخ حاجَت\n",
            "11th sntence : \n"
          ]
        },
        {
          "output_type": "display_data",
          "data": {
            "text/plain": [
              "<IPython.core.display.HTML object>"
            ],
            "text/html": [
              "\n",
              "<style>\n",
              "  h1, h2, h3, h4 {\n",
              "    color: red;\n",
              "    font-size: 24px;\n",
              "  }\n",
              "  \n",
              "  p {\n",
              "    font-size: 14px;\n",
              "    color: var(--text-color);\n",
              "  }\n",
              "</style>\n",
              "<h2> -----------after processing--------- </h2>"
            ]
          },
          "metadata": {}
        },
        {
          "output_type": "stream",
          "name": "stdout",
          "text": [
            "0th sntence : اِسلٲمی بَنَک کٲری باپَتھ گَژھِ سنٛز سَپدُن \n",
            "1th sntence :  میٖر واعظ  متحدہ مجلِسِ عُلماء تنٛظیٖمہِ ہُنٛد خصوٗصی اِجلاس سَپُد اوترٕ مُنعقِد سَریٖنَگرَس منٛز\n",
            "2th sntence :    یَتھ میٖر واعظ عُمر فاروق صٲبَن صدارَت کٔر\n",
            "3th sntence :  یَتھ منٛز آو رِیاستَس منٛز شراب تہِ باقی بِدعت عام کَرنَس مُطلِق پوٚت پوٚت ژۄیَن دِل دِنہٕ آو\n",
            "4th sntence :  میٖر واعظ صٲبَن ووٚن زِ اَرتداد مُہِم چھَنہٕ کُنہِ فِرقَس بَرادری یا اِرادَس خلاف اماپوٛز سانہِ نَوِ پُیہِ تہٕ نوجوانَن وَتہٕ ڈالَن والٮ۪ن خِلاف روزَو أسۍ ڈٔٹِتھ \n",
            "5th sntence :  مجلِسہِ منٛز آے سرکار خبردارکرنہٕ زِ تِم کَرَن ؤلۍ ؤلۍ تِمَن نفرَن ہِنٛدۍ ناو نٔنۍ یِمَن شراب کٕنٛنہ باپَتھ لاسَن دِنہٕ آمٕژ چھےٚ\n",
            "6th sntence :  نَتہٕ یِیہِ قونوٗنَس تحت یہِ تفصیٖل منٛگنہٕ\n",
            "7th sntence :     ڈاکٹَرَن پَزِ پانہٕ خۄد گامَن منٛز گٔژھِتھ اعلاج کَرُن اکثر گٲمی علاقن منٛز چُھ أہُنٛد سَخ حاجَت\n",
            "8th sntence :  آزاد صٲب  سریٖنَگَر سون میٖراث   دٔرۍ روزَن پانہٕ وٲنۍ یژھِ پژھ ہُراوان تہٕ دۄن درٮ۪ن درمیان کارٕ بارس پوچھَردِنَس سۭتۍ سۭتۍ یِیہِ نیوٗکلیایی ۂتھیارَن تَتھ جایہِ تھاونُک تہِ سنٛزکرنہٕ ییٚتہِ نہٕ اِنسٲنۍ زُوَن کانٛہہ نۄقصان واتہِ\n",
            "9th sntence :  یوٚدوے دۄن دۄہَن ہِنٛزِاَتھ مِٹِنٛگہِ منٛزسُہ کانٛہہ ڈاکٹَرَن پَزِ پانہٕ خۄد گامَن منٛزقونوٗنَس تحت یہِ تفصیٖل منٛگنہٕ\n",
            "10th sntence :    قونوٗنَس تحت یہِ تفصیٖل منٛگنہٕ علاقن منٛز چُھ أہُنٛد سَخ حاجَت\n",
            " Total sentences: 11\n",
            "Length of a sentence is 44\n"
          ]
        },
        {
          "output_type": "display_data",
          "data": {
            "text/plain": [
              "<IPython.core.display.HTML object>"
            ],
            "text/html": [
              " \n",
              "<style>\n",
              "  h1, h2, h3, h4 {\n",
              "    color: red;\n",
              "    font-size: 24px;\n",
              "  }\n",
              "  \n",
              "  p {\n",
              "    font-size: 14px;\n",
              "    color: var(--text-color);\n",
              "  }\n",
              "</style>\n",
              " <p style='--text-color:cyan'> \n",
              "------In Richness ----7----\n",
              "</p>"
            ]
          },
          "metadata": {}
        },
        {
          "output_type": "stream",
          "name": "stdout",
          "text": [
            "['اِسلٲمی', 'بَنَک', 'کٲری', 'باپَتھ', 'گَژھِ', 'سنٛز', 'سَپدُن']\n"
          ]
        },
        {
          "output_type": "display_data",
          "data": {
            "text/plain": [
              "<IPython.core.display.HTML object>"
            ],
            "text/html": [
              " \n",
              "<style>\n",
              "  h1, h2, h3, h4 {\n",
              "    color: red;\n",
              "    font-size: 24px;\n",
              "  }\n",
              "  \n",
              "  p {\n",
              "    font-size: 14px;\n",
              "    color: var(--text-color);\n",
              "  }\n",
              "</style>\n",
              " <p style='--text-color:cyan'> \n",
              "-----Out Rchness ------------\n",
              "</p>"
            ]
          },
          "metadata": {}
        },
        {
          "output_type": "stream",
          "name": "stdout",
          "text": [
            "اِسلٲمی بَنَک کٲری باپَتھ گَژھِ سنٛز سَپدُن : 7\n",
            "-------------------\n",
            "\n",
            "Length of a sentence is 98\n"
          ]
        },
        {
          "output_type": "display_data",
          "data": {
            "text/plain": [
              "<IPython.core.display.HTML object>"
            ],
            "text/html": [
              " \n",
              "<style>\n",
              "  h1, h2, h3, h4 {\n",
              "    color: red;\n",
              "    font-size: 24px;\n",
              "  }\n",
              "  \n",
              "  p {\n",
              "    font-size: 14px;\n",
              "    color: var(--text-color);\n",
              "  }\n",
              "</style>\n",
              " <p style='--text-color:cyan'> \n",
              "------In Richness ----14----\n",
              "</p>"
            ]
          },
          "metadata": {}
        },
        {
          "output_type": "stream",
          "name": "stdout",
          "text": [
            "['میٖر', 'واعظ', 'متحدہ', 'مجلِسِ', 'عُلماء', 'تنٛظیٖمہِ', 'ہُنٛد', 'خصوٗصی', 'اِجلاس', 'سَپُد', 'اوترٕ', 'مُنعقِد', 'سَریٖنَگرَس', 'منٛز']\n"
          ]
        },
        {
          "output_type": "display_data",
          "data": {
            "text/plain": [
              "<IPython.core.display.HTML object>"
            ],
            "text/html": [
              " \n",
              "<style>\n",
              "  h1, h2, h3, h4 {\n",
              "    color: red;\n",
              "    font-size: 24px;\n",
              "  }\n",
              "  \n",
              "  p {\n",
              "    font-size: 14px;\n",
              "    color: var(--text-color);\n",
              "  }\n",
              "</style>\n",
              " <p style='--text-color:cyan'> \n",
              "-----Out Rchness ------------\n",
              "</p>"
            ]
          },
          "metadata": {}
        },
        {
          "output_type": "stream",
          "name": "stdout",
          "text": [
            " میٖر واعظ  متحدہ مجلِسِ عُلماء تنٛظیٖمہِ ہُنٛد خصوٗصی اِجلاس سَپُد اوترٕ مُنعقِد سَریٖنَگرَس منٛز: 14\n",
            "-------------------\n",
            "\n",
            "Length of a sentence is 45\n"
          ]
        },
        {
          "output_type": "display_data",
          "data": {
            "text/plain": [
              "<IPython.core.display.HTML object>"
            ],
            "text/html": [
              " \n",
              "<style>\n",
              "  h1, h2, h3, h4 {\n",
              "    color: red;\n",
              "    font-size: 24px;\n",
              "  }\n",
              "  \n",
              "  p {\n",
              "    font-size: 14px;\n",
              "    color: var(--text-color);\n",
              "  }\n",
              "</style>\n",
              " <p style='--text-color:cyan'> \n",
              "------In Richness ----8----\n",
              "</p>"
            ]
          },
          "metadata": {}
        },
        {
          "output_type": "stream",
          "name": "stdout",
          "text": [
            "['یَتھ', 'میٖر', 'واعظ', 'عُمر', 'فاروق', 'صٲبَن', 'صدارَت', 'کٔر']\n"
          ]
        },
        {
          "output_type": "display_data",
          "data": {
            "text/plain": [
              "<IPython.core.display.HTML object>"
            ],
            "text/html": [
              " \n",
              "<style>\n",
              "  h1, h2, h3, h4 {\n",
              "    color: red;\n",
              "    font-size: 24px;\n",
              "  }\n",
              "  \n",
              "  p {\n",
              "    font-size: 14px;\n",
              "    color: var(--text-color);\n",
              "  }\n",
              "</style>\n",
              " <p style='--text-color:cyan'> \n",
              "-----Out Rchness ------------\n",
              "</p>"
            ]
          },
          "metadata": {}
        },
        {
          "output_type": "stream",
          "name": "stdout",
          "text": [
            "   یَتھ میٖر واعظ عُمر فاروق صٲبَن صدارَت کٔر: 8\n",
            "-------------------\n",
            "\n",
            "Length of a sentence is 94\n"
          ]
        },
        {
          "output_type": "display_data",
          "data": {
            "text/plain": [
              "<IPython.core.display.HTML object>"
            ],
            "text/html": [
              " \n",
              "<style>\n",
              "  h1, h2, h3, h4 {\n",
              "    color: red;\n",
              "    font-size: 24px;\n",
              "  }\n",
              "  \n",
              "  p {\n",
              "    font-size: 14px;\n",
              "    color: var(--text-color);\n",
              "  }\n",
              "</style>\n",
              " <p style='--text-color:cyan'> \n",
              "------In Richness ----18----\n",
              "</p>"
            ]
          },
          "metadata": {}
        },
        {
          "output_type": "stream",
          "name": "stdout",
          "text": [
            "['یَتھ', 'منٛز', 'آو', 'رِیاستَس', 'منٛز', 'شراب', 'تہِ', 'باقی', 'بِدعت', 'عام', 'کَرنَس', 'مُطلِق', 'پوٚت', 'پوٚت', 'ژۄیَن', 'دِل', 'دِنہٕ', 'آو']\n"
          ]
        },
        {
          "output_type": "display_data",
          "data": {
            "text/plain": [
              "<IPython.core.display.HTML object>"
            ],
            "text/html": [
              " \n",
              "<style>\n",
              "  h1, h2, h3, h4 {\n",
              "    color: red;\n",
              "    font-size: 24px;\n",
              "  }\n",
              "  \n",
              "  p {\n",
              "    font-size: 14px;\n",
              "    color: var(--text-color);\n",
              "  }\n",
              "</style>\n",
              " <p style='--text-color:cyan'> \n",
              "-----Out Rchness ------------\n",
              "</p>"
            ]
          },
          "metadata": {}
        },
        {
          "output_type": "stream",
          "name": "stdout",
          "text": [
            " یَتھ منٛز آو رِیاستَس منٛز شراب تہِ باقی بِدعت عام کَرنَس مُطلِق پوٚت پوٚت ژۄیَن دِل دِنہٕ آو: 15\n",
            "-------------------\n",
            "\n",
            "Length of a sentence is 164\n"
          ]
        },
        {
          "output_type": "display_data",
          "data": {
            "text/plain": [
              "<IPython.core.display.HTML object>"
            ],
            "text/html": [
              " \n",
              "<style>\n",
              "  h1, h2, h3, h4 {\n",
              "    color: red;\n",
              "    font-size: 24px;\n",
              "  }\n",
              "  \n",
              "  p {\n",
              "    font-size: 14px;\n",
              "    color: var(--text-color);\n",
              "  }\n",
              "</style>\n",
              " <p style='--text-color:cyan'> \n",
              "------In Richness ----27----\n",
              "</p>"
            ]
          },
          "metadata": {}
        },
        {
          "output_type": "stream",
          "name": "stdout",
          "text": [
            "['میٖر', 'واعظ', 'صٲبَن', 'ووٚن', 'زِ', 'اَرتداد', 'مُہِم', 'چھَنہٕ', 'کُنہِ', 'فِرقَس', 'بَرادری', 'یا', 'اِرادَس', 'خلاف', 'اماپوٛز', 'سانہِ', 'نَوِ', 'پُیہِ', 'تہٕ', 'نوجوانَن', 'وَتہٕ', 'ڈالَن', 'والٮ۪ن', 'خِلاف', 'روزَو', 'أسۍ', 'ڈٔٹِتھ']\n"
          ]
        },
        {
          "output_type": "display_data",
          "data": {
            "text/plain": [
              "<IPython.core.display.HTML object>"
            ],
            "text/html": [
              " \n",
              "<style>\n",
              "  h1, h2, h3, h4 {\n",
              "    color: red;\n",
              "    font-size: 24px;\n",
              "  }\n",
              "  \n",
              "  p {\n",
              "    font-size: 14px;\n",
              "    color: var(--text-color);\n",
              "  }\n",
              "</style>\n",
              " <p style='--text-color:cyan'> \n",
              "-----Out Rchness ------------\n",
              "</p>"
            ]
          },
          "metadata": {}
        },
        {
          "output_type": "stream",
          "name": "stdout",
          "text": [
            " میٖر واعظ صٲبَن ووٚن زِ اَرتداد مُہِم چھَنہٕ کُنہِ فِرقَس بَرادری یا اِرادَس خلاف اماپوٛز سانہِ نَوِ پُیہِ تہٕ نوجوانَن وَتہٕ ڈالَن والٮ۪ن خِلاف روزَو أسۍ ڈٔٹِتھ : 27\n",
            "-------------------\n",
            "\n",
            "Length of a sentence is 132\n"
          ]
        },
        {
          "output_type": "display_data",
          "data": {
            "text/plain": [
              "<IPython.core.display.HTML object>"
            ],
            "text/html": [
              " \n",
              "<style>\n",
              "  h1, h2, h3, h4 {\n",
              "    color: red;\n",
              "    font-size: 24px;\n",
              "  }\n",
              "  \n",
              "  p {\n",
              "    font-size: 14px;\n",
              "    color: var(--text-color);\n",
              "  }\n",
              "</style>\n",
              " <p style='--text-color:cyan'> \n",
              "------In Richness ----23----\n",
              "</p>"
            ]
          },
          "metadata": {}
        },
        {
          "output_type": "stream",
          "name": "stdout",
          "text": [
            "['مجلِسہِ', 'منٛز', 'آے', 'سرکار', 'خبردارکرنہٕ', 'زِ', 'تِم', 'کَرَن', 'ؤلۍ', 'ؤلۍ', 'تِمَن', 'نفرَن', 'ہِنٛدۍ', 'ناو', 'نٔنۍ', 'یِمَن', 'شراب', 'کٕنٛنہ', 'باپَتھ', 'لاسَن', 'دِنہٕ', 'آمٕژ', 'چھےٚ']\n"
          ]
        },
        {
          "output_type": "display_data",
          "data": {
            "text/plain": [
              "<IPython.core.display.HTML object>"
            ],
            "text/html": [
              " \n",
              "<style>\n",
              "  h1, h2, h3, h4 {\n",
              "    color: red;\n",
              "    font-size: 24px;\n",
              "  }\n",
              "  \n",
              "  p {\n",
              "    font-size: 14px;\n",
              "    color: var(--text-color);\n",
              "  }\n",
              "</style>\n",
              " <p style='--text-color:cyan'> \n",
              "-----Out Rchness ------------\n",
              "</p>"
            ]
          },
          "metadata": {}
        },
        {
          "output_type": "stream",
          "name": "stdout",
          "text": [
            " مجلِسہِ منٛز آے سرکار خبردارکرنہٕ زِ تِم کَرَن ؤلۍ ؤلۍ تِمَن نفرَن ہِنٛدۍ ناو نٔنۍ یِمَن شراب کٕنٛنہ باپَتھ لاسَن دِنہٕ آمٕژ چھےٚ: 22\n",
            "-------------------\n",
            "\n",
            "Length of a sentence is 44\n"
          ]
        },
        {
          "output_type": "display_data",
          "data": {
            "text/plain": [
              "<IPython.core.display.HTML object>"
            ],
            "text/html": [
              " \n",
              "<style>\n",
              "  h1, h2, h3, h4 {\n",
              "    color: red;\n",
              "    font-size: 24px;\n",
              "  }\n",
              "  \n",
              "  p {\n",
              "    font-size: 14px;\n",
              "    color: var(--text-color);\n",
              "  }\n",
              "</style>\n",
              " <p style='--text-color:cyan'> \n",
              "------In Richness ----7----\n",
              "</p>"
            ]
          },
          "metadata": {}
        },
        {
          "output_type": "stream",
          "name": "stdout",
          "text": [
            "['نَتہٕ', 'یِیہِ', 'قونوٗنَس', 'تحت', 'یہِ', 'تفصیٖل', 'منٛگنہٕ']\n"
          ]
        },
        {
          "output_type": "display_data",
          "data": {
            "text/plain": [
              "<IPython.core.display.HTML object>"
            ],
            "text/html": [
              " \n",
              "<style>\n",
              "  h1, h2, h3, h4 {\n",
              "    color: red;\n",
              "    font-size: 24px;\n",
              "  }\n",
              "  \n",
              "  p {\n",
              "    font-size: 14px;\n",
              "    color: var(--text-color);\n",
              "  }\n",
              "</style>\n",
              " <p style='--text-color:cyan'> \n",
              "-----Out Rchness ------------\n",
              "</p>"
            ]
          },
          "metadata": {}
        },
        {
          "output_type": "stream",
          "name": "stdout",
          "text": [
            " نَتہٕ یِیہِ قونوٗنَس تحت یہِ تفصیٖل منٛگنہٕ: 7\n",
            "-------------------\n",
            "\n",
            "Length of a sentence is 101\n"
          ]
        },
        {
          "output_type": "display_data",
          "data": {
            "text/plain": [
              "<IPython.core.display.HTML object>"
            ],
            "text/html": [
              " \n",
              "<style>\n",
              "  h1, h2, h3, h4 {\n",
              "    color: red;\n",
              "    font-size: 24px;\n",
              "  }\n",
              "  \n",
              "  p {\n",
              "    font-size: 14px;\n",
              "    color: var(--text-color);\n",
              "  }\n",
              "</style>\n",
              " <p style='--text-color:cyan'> \n",
              "------In Richness ----17----\n",
              "</p>"
            ]
          },
          "metadata": {}
        },
        {
          "output_type": "stream",
          "name": "stdout",
          "text": [
            "['ڈاکٹَرَن', 'پَزِ', 'پانہٕ', 'خۄد', 'گامَن', 'منٛز', 'گٔژھِتھ', 'اعلاج', 'کَرُن', 'اکثر', 'گٲمی', 'علاقن', 'منٛز', 'چُھ', 'أہُنٛد', 'سَخ', 'حاجَت']\n"
          ]
        },
        {
          "output_type": "display_data",
          "data": {
            "text/plain": [
              "<IPython.core.display.HTML object>"
            ],
            "text/html": [
              " \n",
              "<style>\n",
              "  h1, h2, h3, h4 {\n",
              "    color: red;\n",
              "    font-size: 24px;\n",
              "  }\n",
              "  \n",
              "  p {\n",
              "    font-size: 14px;\n",
              "    color: var(--text-color);\n",
              "  }\n",
              "</style>\n",
              " <p style='--text-color:cyan'> \n",
              "-----Out Rchness ------------\n",
              "</p>"
            ]
          },
          "metadata": {}
        },
        {
          "output_type": "stream",
          "name": "stdout",
          "text": [
            "    ڈاکٹَرَن پَزِ پانہٕ خۄد گامَن منٛز گٔژھِتھ اعلاج کَرُن اکثر گٲمی علاقن منٛز چُھ أہُنٛد سَخ حاجَت: 16\n",
            "-------------------\n",
            "\n",
            "Length of a sentence is 230\n"
          ]
        },
        {
          "output_type": "display_data",
          "data": {
            "text/plain": [
              "<IPython.core.display.HTML object>"
            ],
            "text/html": [
              " \n",
              "<style>\n",
              "  h1, h2, h3, h4 {\n",
              "    color: red;\n",
              "    font-size: 24px;\n",
              "  }\n",
              "  \n",
              "  p {\n",
              "    font-size: 14px;\n",
              "    color: var(--text-color);\n",
              "  }\n",
              "</style>\n",
              " <p style='--text-color:cyan'> \n",
              "------In Richness ----36----\n",
              "</p>"
            ]
          },
          "metadata": {}
        },
        {
          "output_type": "stream",
          "name": "stdout",
          "text": [
            "['آزاد', 'صٲب', 'سریٖنَگَر', 'سون', 'میٖراث', 'دٔرۍ', 'روزَن', 'پانہٕ', 'وٲنۍ', 'یژھِ', 'پژھ', 'ہُراوان', 'تہٕ', 'دۄن', 'درٮ۪ن', 'درمیان', 'کارٕ', 'بارس', 'پوچھَردِنَس', 'سۭتۍ', 'سۭتۍ', 'یِیہِ', 'نیوٗکلیایی', 'ۂتھیارَن', 'تَتھ', 'جایہِ', 'تھاونُک', 'تہِ', 'سنٛزکرنہٕ', 'ییٚتہِ', 'نہٕ', 'اِنسٲنۍ', 'زُوَن', 'کانٛہہ', 'نۄقصان', 'واتہِ']\n"
          ]
        },
        {
          "output_type": "display_data",
          "data": {
            "text/plain": [
              "<IPython.core.display.HTML object>"
            ],
            "text/html": [
              " \n",
              "<style>\n",
              "  h1, h2, h3, h4 {\n",
              "    color: red;\n",
              "    font-size: 24px;\n",
              "  }\n",
              "  \n",
              "  p {\n",
              "    font-size: 14px;\n",
              "    color: var(--text-color);\n",
              "  }\n",
              "</style>\n",
              " <p style='--text-color:cyan'> \n",
              "-----Out Rchness ------------\n",
              "</p>"
            ]
          },
          "metadata": {}
        },
        {
          "output_type": "stream",
          "name": "stdout",
          "text": [
            " آزاد صٲب  سریٖنَگَر سون میٖراث   دٔرۍ روزَن پانہٕ وٲنۍ یژھِ پژھ ہُراوان تہٕ دۄن درٮ۪ن درمیان کارٕ بارس پوچھَردِنَس سۭتۍ سۭتۍ یِیہِ نیوٗکلیایی ۂتھیارَن تَتھ جایہِ تھاونُک تہِ سنٛزکرنہٕ ییٚتہِ نہٕ اِنسٲنۍ زُوَن کانٛہہ نۄقصان واتہِ: 35\n",
            "-------------------\n",
            "\n",
            "Length of a sentence is 119\n"
          ]
        },
        {
          "output_type": "display_data",
          "data": {
            "text/plain": [
              "<IPython.core.display.HTML object>"
            ],
            "text/html": [
              " \n",
              "<style>\n",
              "  h1, h2, h3, h4 {\n",
              "    color: red;\n",
              "    font-size: 24px;\n",
              "  }\n",
              "  \n",
              "  p {\n",
              "    font-size: 14px;\n",
              "    color: var(--text-color);\n",
              "  }\n",
              "</style>\n",
              " <p style='--text-color:cyan'> \n",
              "------In Richness ----17----\n",
              "</p>"
            ]
          },
          "metadata": {}
        },
        {
          "output_type": "stream",
          "name": "stdout",
          "text": [
            "['یوٚدوے', 'دۄن', 'دۄہَن', 'ہِنٛزِاَتھ', 'مِٹِنٛگہِ', 'منٛزسُہ', 'کانٛہہ', 'ڈاکٹَرَن', 'پَزِ', 'پانہٕ', 'خۄد', 'گامَن', 'منٛزقونوٗنَس', 'تحت', 'یہِ', 'تفصیٖل', 'منٛگنہٕ']\n"
          ]
        },
        {
          "output_type": "display_data",
          "data": {
            "text/plain": [
              "<IPython.core.display.HTML object>"
            ],
            "text/html": [
              " \n",
              "<style>\n",
              "  h1, h2, h3, h4 {\n",
              "    color: red;\n",
              "    font-size: 24px;\n",
              "  }\n",
              "  \n",
              "  p {\n",
              "    font-size: 14px;\n",
              "    color: var(--text-color);\n",
              "  }\n",
              "</style>\n",
              " <p style='--text-color:cyan'> \n",
              "-----Out Rchness ------------\n",
              "</p>"
            ]
          },
          "metadata": {}
        },
        {
          "output_type": "stream",
          "name": "stdout",
          "text": [
            " یوٚدوے دۄن دۄہَن ہِنٛزِاَتھ مِٹِنٛگہِ منٛزسُہ کانٛہہ ڈاکٹَرَن پَزِ پانہٕ خۄد گامَن منٛزقونوٗنَس تحت یہِ تفصیٖل منٛگنہٕ: 17\n",
            "-------------------\n",
            "\n",
            "Length of a sentence is 67\n"
          ]
        },
        {
          "output_type": "display_data",
          "data": {
            "text/plain": [
              "<IPython.core.display.HTML object>"
            ],
            "text/html": [
              " \n",
              "<style>\n",
              "  h1, h2, h3, h4 {\n",
              "    color: red;\n",
              "    font-size: 24px;\n",
              "  }\n",
              "  \n",
              "  p {\n",
              "    font-size: 14px;\n",
              "    color: var(--text-color);\n",
              "  }\n",
              "</style>\n",
              " <p style='--text-color:cyan'> \n",
              "------In Richness ----11----\n",
              "</p>"
            ]
          },
          "metadata": {}
        },
        {
          "output_type": "stream",
          "name": "stdout",
          "text": [
            "['قونوٗنَس', 'تحت', 'یہِ', 'تفصیٖل', 'منٛگنہٕ', 'علاقن', 'منٛز', 'چُھ', 'أہُنٛد', 'سَخ', 'حاجَت']\n"
          ]
        },
        {
          "output_type": "display_data",
          "data": {
            "text/plain": [
              "<IPython.core.display.HTML object>"
            ],
            "text/html": [
              " \n",
              "<style>\n",
              "  h1, h2, h3, h4 {\n",
              "    color: red;\n",
              "    font-size: 24px;\n",
              "  }\n",
              "  \n",
              "  p {\n",
              "    font-size: 14px;\n",
              "    color: var(--text-color);\n",
              "  }\n",
              "</style>\n",
              " <p style='--text-color:cyan'> \n",
              "-----Out Rchness ------------\n",
              "</p>"
            ]
          },
          "metadata": {}
        },
        {
          "output_type": "stream",
          "name": "stdout",
          "text": [
            "   قونوٗنَس تحت یہِ تفصیٖل منٛگنہٕ علاقن منٛز چُھ أہُنٛد سَخ حاجَت: 11\n",
            "-------------------\n",
            "\n"
          ]
        }
      ]
    },
    {
      "cell_type": "code",
      "source": [
        "''' reads the simple richness csv file pointed by RICHNESS_FILENAME into dataframe, sorts it  \n",
        "in descending order of richness, drops the rows with NA values in richness column in place\n",
        "''' \n",
        "df=pd.read_csv(WORKING_DIR+ENRICHED_FILENAME_INITIAL)\n",
        "df.columns=  ['sentence','richness']\n",
        "df=df.sort_values(by=['richness'], ascending=False)\n",
        "#drops the old index and make the changes in the df directly\n",
        "df.reset_index(drop=True, inplace=True)\n",
        "#removes the dataframes where the richness column has missing or NaN values\n",
        "df=df.dropna(subset=['richness'])\n",
        "# add a new column to the data frame for setting the status of whether any of the tokens of the sentence has matched to the wishlist or not. \n",
        "# initially all sentences will have tokens which are in the wishlist. hence values are false.\n",
        "df=df.assign(Deleted=False)\n",
        "# file created for checking the temporary richness\n",
        "df.to_csv(WORKING_DIR + \"/processed/tmp_rich.csv\")"
      ],
      "metadata": {
        "id": "dM1CO3UHHYK7"
      },
      "execution_count": 11,
      "outputs": []
    },
    {
      "cell_type": "code",
      "source": [
        "df"
      ],
      "metadata": {
        "colab": {
          "base_uri": "https://localhost:8080/",
          "height": 394
        },
        "id": "ZDWaLho9gZoQ",
        "outputId": "98a17cf2-5171-4c4a-ad2b-356c19bcb98d"
      },
      "execution_count": 12,
      "outputs": [
        {
          "output_type": "execute_result",
          "data": {
            "text/plain": [
              "                                             sentence  richness  Deleted\n",
              "0    آزاد صٲب  سریٖنَگَر سون میٖراث   دٔرۍ روزَن پ...        35    False\n",
              "1    میٖر واعظ صٲبَن ووٚن زِ اَرتداد مُہِم چھَنہٕ ...        27    False\n",
              "2    مجلِسہِ منٛز آے سرکار خبردارکرنہٕ زِ تِم کَرَ...        22    False\n",
              "3    یوٚدوے دۄن دۄہَن ہِنٛزِاَتھ مِٹِنٛگہِ منٛزسُہ...        17    False\n",
              "4       ڈاکٹَرَن پَزِ پانہٕ خۄد گامَن منٛز گٔژھِتھ...        16    False\n",
              "5    یَتھ منٛز آو رِیاستَس منٛز شراب تہِ باقی بِدع...        15    False\n",
              "6    میٖر واعظ  متحدہ مجلِسِ عُلماء تنٛظیٖمہِ ہُنٛ...        14    False\n",
              "7      قونوٗنَس تحت یہِ تفصیٖل منٛگنہٕ علاقن منٛز ...        11    False\n",
              "8          یَتھ میٖر واعظ عُمر فاروق صٲبَن صدارَت کٔر         8    False\n",
              "9        اِسلٲمی بَنَک کٲری باپَتھ گَژھِ سنٛز سَپدُن          7    False\n",
              "10        نَتہٕ یِیہِ قونوٗنَس تحت یہِ تفصیٖل منٛگنہٕ         7    False"
            ],
            "text/html": [
              "\n",
              "  <div id=\"df-018c6a0a-cdd4-47ad-8de9-95c82ca51174\">\n",
              "    <div class=\"colab-df-container\">\n",
              "      <div>\n",
              "<style scoped>\n",
              "    .dataframe tbody tr th:only-of-type {\n",
              "        vertical-align: middle;\n",
              "    }\n",
              "\n",
              "    .dataframe tbody tr th {\n",
              "        vertical-align: top;\n",
              "    }\n",
              "\n",
              "    .dataframe thead th {\n",
              "        text-align: right;\n",
              "    }\n",
              "</style>\n",
              "<table border=\"1\" class=\"dataframe\">\n",
              "  <thead>\n",
              "    <tr style=\"text-align: right;\">\n",
              "      <th></th>\n",
              "      <th>sentence</th>\n",
              "      <th>richness</th>\n",
              "      <th>Deleted</th>\n",
              "    </tr>\n",
              "  </thead>\n",
              "  <tbody>\n",
              "    <tr>\n",
              "      <th>0</th>\n",
              "      <td>آزاد صٲب  سریٖنَگَر سون میٖراث   دٔرۍ روزَن پ...</td>\n",
              "      <td>35</td>\n",
              "      <td>False</td>\n",
              "    </tr>\n",
              "    <tr>\n",
              "      <th>1</th>\n",
              "      <td>میٖر واعظ صٲبَن ووٚن زِ اَرتداد مُہِم چھَنہٕ ...</td>\n",
              "      <td>27</td>\n",
              "      <td>False</td>\n",
              "    </tr>\n",
              "    <tr>\n",
              "      <th>2</th>\n",
              "      <td>مجلِسہِ منٛز آے سرکار خبردارکرنہٕ زِ تِم کَرَ...</td>\n",
              "      <td>22</td>\n",
              "      <td>False</td>\n",
              "    </tr>\n",
              "    <tr>\n",
              "      <th>3</th>\n",
              "      <td>یوٚدوے دۄن دۄہَن ہِنٛزِاَتھ مِٹِنٛگہِ منٛزسُہ...</td>\n",
              "      <td>17</td>\n",
              "      <td>False</td>\n",
              "    </tr>\n",
              "    <tr>\n",
              "      <th>4</th>\n",
              "      <td>ڈاکٹَرَن پَزِ پانہٕ خۄد گامَن منٛز گٔژھِتھ...</td>\n",
              "      <td>16</td>\n",
              "      <td>False</td>\n",
              "    </tr>\n",
              "    <tr>\n",
              "      <th>5</th>\n",
              "      <td>یَتھ منٛز آو رِیاستَس منٛز شراب تہِ باقی بِدع...</td>\n",
              "      <td>15</td>\n",
              "      <td>False</td>\n",
              "    </tr>\n",
              "    <tr>\n",
              "      <th>6</th>\n",
              "      <td>میٖر واعظ  متحدہ مجلِسِ عُلماء تنٛظیٖمہِ ہُنٛ...</td>\n",
              "      <td>14</td>\n",
              "      <td>False</td>\n",
              "    </tr>\n",
              "    <tr>\n",
              "      <th>7</th>\n",
              "      <td>قونوٗنَس تحت یہِ تفصیٖل منٛگنہٕ علاقن منٛز ...</td>\n",
              "      <td>11</td>\n",
              "      <td>False</td>\n",
              "    </tr>\n",
              "    <tr>\n",
              "      <th>8</th>\n",
              "      <td>یَتھ میٖر واعظ عُمر فاروق صٲبَن صدارَت کٔر</td>\n",
              "      <td>8</td>\n",
              "      <td>False</td>\n",
              "    </tr>\n",
              "    <tr>\n",
              "      <th>9</th>\n",
              "      <td>اِسلٲمی بَنَک کٲری باپَتھ گَژھِ سنٛز سَپدُن</td>\n",
              "      <td>7</td>\n",
              "      <td>False</td>\n",
              "    </tr>\n",
              "    <tr>\n",
              "      <th>10</th>\n",
              "      <td>نَتہٕ یِیہِ قونوٗنَس تحت یہِ تفصیٖل منٛگنہٕ</td>\n",
              "      <td>7</td>\n",
              "      <td>False</td>\n",
              "    </tr>\n",
              "  </tbody>\n",
              "</table>\n",
              "</div>\n",
              "      <button class=\"colab-df-convert\" onclick=\"convertToInteractive('df-018c6a0a-cdd4-47ad-8de9-95c82ca51174')\"\n",
              "              title=\"Convert this dataframe to an interactive table.\"\n",
              "              style=\"display:none;\">\n",
              "        \n",
              "  <svg xmlns=\"http://www.w3.org/2000/svg\" height=\"24px\"viewBox=\"0 0 24 24\"\n",
              "       width=\"24px\">\n",
              "    <path d=\"M0 0h24v24H0V0z\" fill=\"none\"/>\n",
              "    <path d=\"M18.56 5.44l.94 2.06.94-2.06 2.06-.94-2.06-.94-.94-2.06-.94 2.06-2.06.94zm-11 1L8.5 8.5l.94-2.06 2.06-.94-2.06-.94L8.5 2.5l-.94 2.06-2.06.94zm10 10l.94 2.06.94-2.06 2.06-.94-2.06-.94-.94-2.06-.94 2.06-2.06.94z\"/><path d=\"M17.41 7.96l-1.37-1.37c-.4-.4-.92-.59-1.43-.59-.52 0-1.04.2-1.43.59L10.3 9.45l-7.72 7.72c-.78.78-.78 2.05 0 2.83L4 21.41c.39.39.9.59 1.41.59.51 0 1.02-.2 1.41-.59l7.78-7.78 2.81-2.81c.8-.78.8-2.07 0-2.86zM5.41 20L4 18.59l7.72-7.72 1.47 1.35L5.41 20z\"/>\n",
              "  </svg>\n",
              "      </button>\n",
              "      \n",
              "  <style>\n",
              "    .colab-df-container {\n",
              "      display:flex;\n",
              "      flex-wrap:wrap;\n",
              "      gap: 12px;\n",
              "    }\n",
              "\n",
              "    .colab-df-convert {\n",
              "      background-color: #E8F0FE;\n",
              "      border: none;\n",
              "      border-radius: 50%;\n",
              "      cursor: pointer;\n",
              "      display: none;\n",
              "      fill: #1967D2;\n",
              "      height: 32px;\n",
              "      padding: 0 0 0 0;\n",
              "      width: 32px;\n",
              "    }\n",
              "\n",
              "    .colab-df-convert:hover {\n",
              "      background-color: #E2EBFA;\n",
              "      box-shadow: 0px 1px 2px rgba(60, 64, 67, 0.3), 0px 1px 3px 1px rgba(60, 64, 67, 0.15);\n",
              "      fill: #174EA6;\n",
              "    }\n",
              "\n",
              "    [theme=dark] .colab-df-convert {\n",
              "      background-color: #3B4455;\n",
              "      fill: #D2E3FC;\n",
              "    }\n",
              "\n",
              "    [theme=dark] .colab-df-convert:hover {\n",
              "      background-color: #434B5C;\n",
              "      box-shadow: 0px 1px 3px 1px rgba(0, 0, 0, 0.15);\n",
              "      filter: drop-shadow(0px 1px 2px rgba(0, 0, 0, 0.3));\n",
              "      fill: #FFFFFF;\n",
              "    }\n",
              "  </style>\n",
              "\n",
              "      <script>\n",
              "        const buttonEl =\n",
              "          document.querySelector('#df-018c6a0a-cdd4-47ad-8de9-95c82ca51174 button.colab-df-convert');\n",
              "        buttonEl.style.display =\n",
              "          google.colab.kernel.accessAllowed ? 'block' : 'none';\n",
              "\n",
              "        async function convertToInteractive(key) {\n",
              "          const element = document.querySelector('#df-018c6a0a-cdd4-47ad-8de9-95c82ca51174');\n",
              "          const dataTable =\n",
              "            await google.colab.kernel.invokeFunction('convertToInteractive',\n",
              "                                                     [key], {});\n",
              "          if (!dataTable) return;\n",
              "\n",
              "          const docLinkHtml = 'Like what you see? Visit the ' +\n",
              "            '<a target=\"_blank\" href=https://colab.research.google.com/notebooks/data_table.ipynb>data table notebook</a>'\n",
              "            + ' to learn more about interactive tables.';\n",
              "          element.innerHTML = '';\n",
              "          dataTable['output_type'] = 'display_data';\n",
              "          await google.colab.output.renderOutput(dataTable, element);\n",
              "          const docLink = document.createElement('div');\n",
              "          docLink.innerHTML = docLinkHtml;\n",
              "          element.appendChild(docLink);\n",
              "        }\n",
              "      </script>\n",
              "    </div>\n",
              "  </div>\n",
              "  "
            ]
          },
          "metadata": {},
          "execution_count": 12
        }
      ]
    },
    {
      "cell_type": "code",
      "source": [
        "''' calculate the richness of the sentences itertively '''\n",
        "wishlist= set(vocab)\n",
        "print_heading(\"Vocab Length:{}\".format(len(wishlist)))\n",
        "for index, row in df.iterrows():\n",
        "    tokens= re.split(TOKEN_DELIMITER_PATTERN, row['sentence'])  \n",
        "    tokens = [token for token in tokens if token.strip() ]\n",
        "    tokens = set(tokens)\n",
        "    print_text(\"Total Unique Tokens: {}\".format(len(tokens)),'cyan')\n",
        "    print(tokens)\n",
        "\n",
        "    ''' richness of a given sentence is the number of unique tokens matching \n",
        "    with the remaining vocab list i.e., the intersection of the unique \n",
        "    tokens (set) in the sentence and the remaining vocab'''  \n",
        "\n",
        "    match_words = tokens & wishlist \n",
        "    not_matched = tokens - match_words\n",
        "    if len(match_words) > 0:\n",
        "      df.at[index,'richness'] = len(match_words)\n",
        "      print_text(\"\\n--------match words---{}----\\n\".format(len(match_words)),\"magenta\")     \n",
        "      print_text(match_words)\n",
        "\n",
        "      print_text(\"\\n--------Not matched words---{}----\\n\".format(len(not_matched)),\"wheat\")     \n",
        "      print_text(not_matched)\n",
        "      '''update the  wishlist by set difference operation of the wishlist \n",
        "      and the match  tokens: excluding the matching tokens from the wishlist'''\n",
        "      wishlist = wishlist - set(match_words)\n",
        "    else:\n",
        "      row['Deleted']=True\n",
        "\n",
        "    print(\"Wishlist size remaining: %d \" %len(wishlist) )\n",
        "    print(\"DF size remaining: %d \" %len(df) )\n",
        "    print( \"\\n   ------------------- \")\n"
      ],
      "metadata": {
        "id": "BYH_0WE7HX2K",
        "colab": {
          "base_uri": "https://localhost:8080/",
          "height": 1000
        },
        "outputId": "33626b7e-78ac-4fb2-c9cd-b87faa8f8bdd"
      },
      "execution_count": 13,
      "outputs": [
        {
          "output_type": "display_data",
          "data": {
            "text/plain": [
              "<IPython.core.display.HTML object>"
            ],
            "text/html": [
              "\n",
              "<style>\n",
              "  h1, h2, h3, h4 {\n",
              "    color: red;\n",
              "    font-size: 24px;\n",
              "  }\n",
              "  \n",
              "  p {\n",
              "    font-size: 14px;\n",
              "    color: var(--text-color);\n",
              "  }\n",
              "</style>\n",
              "<h2> Vocab Length:140 </h2>"
            ]
          },
          "metadata": {}
        },
        {
          "output_type": "display_data",
          "data": {
            "text/plain": [
              "<IPython.core.display.HTML object>"
            ],
            "text/html": [
              " \n",
              "<style>\n",
              "  h1, h2, h3, h4 {\n",
              "    color: red;\n",
              "    font-size: 24px;\n",
              "  }\n",
              "  \n",
              "  p {\n",
              "    font-size: 14px;\n",
              "    color: var(--text-color);\n",
              "  }\n",
              "</style>\n",
              " <p style='--text-color:cyan'> Total Unique Tokens: 35</p>"
            ]
          },
          "metadata": {}
        },
        {
          "output_type": "stream",
          "name": "stdout",
          "text": [
            "{'دۄن', 'اِنسٲنۍ', 'پژھ', 'یِیہِ', 'سۭتۍ', 'پانہٕ', 'یژھِ', 'نۄقصان', 'میٖراث', 'سنٛزکرنہٕ', 'روزَن', 'کانٛہہ', 'سون', 'نیوٗکلیایی', 'ییٚتہِ', 'تہٕ', 'ہُراوان', 'کارٕ', 'درٮ۪ن', 'ۂتھیارَن', 'وٲنۍ', 'تَتھ', 'آزاد', 'زُوَن', 'جایہِ', 'صٲب', 'بارس', 'پوچھَردِنَس', 'دٔرۍ', 'واتہِ', 'تھاونُک', 'تہِ', 'درمیان', 'نہٕ', 'سریٖنَگَر'}\n"
          ]
        },
        {
          "output_type": "display_data",
          "data": {
            "text/plain": [
              "<IPython.core.display.HTML object>"
            ],
            "text/html": [
              " \n",
              "<style>\n",
              "  h1, h2, h3, h4 {\n",
              "    color: red;\n",
              "    font-size: 24px;\n",
              "  }\n",
              "  \n",
              "  p {\n",
              "    font-size: 14px;\n",
              "    color: var(--text-color);\n",
              "  }\n",
              "</style>\n",
              " <p style='--text-color:magenta'> \n",
              "--------match words---35----\n",
              "</p>"
            ]
          },
          "metadata": {}
        },
        {
          "output_type": "display_data",
          "data": {
            "text/plain": [
              "<IPython.core.display.HTML object>"
            ],
            "text/html": [
              " \n",
              "<style>\n",
              "  h1, h2, h3, h4 {\n",
              "    color: red;\n",
              "    font-size: 24px;\n",
              "  }\n",
              "  \n",
              "  p {\n",
              "    font-size: 14px;\n",
              "    color: var(--text-color);\n",
              "  }\n",
              "</style>\n",
              " <p style='--text-color:grey'> {'دۄن', 'اِنسٲنۍ', 'پژھ', 'یِیہِ', 'سۭتۍ', 'پانہٕ', 'یژھِ', 'نۄقصان', 'میٖراث', 'سنٛزکرنہٕ', 'روزَن', 'کانٛہہ', 'سون', 'نیوٗکلیایی', 'ییٚتہِ', 'تہٕ', 'ہُراوان', 'کارٕ', 'درٮ۪ن', 'ۂتھیارَن', 'وٲنۍ', 'تَتھ', 'آزاد', 'زُوَن', 'جایہِ', 'صٲب', 'بارس', 'پوچھَردِنَس', 'دٔرۍ', 'واتہِ', 'تھاونُک', 'تہِ', 'درمیان', 'نہٕ', 'سریٖنَگَر'}</p>"
            ]
          },
          "metadata": {}
        },
        {
          "output_type": "display_data",
          "data": {
            "text/plain": [
              "<IPython.core.display.HTML object>"
            ],
            "text/html": [
              " \n",
              "<style>\n",
              "  h1, h2, h3, h4 {\n",
              "    color: red;\n",
              "    font-size: 24px;\n",
              "  }\n",
              "  \n",
              "  p {\n",
              "    font-size: 14px;\n",
              "    color: var(--text-color);\n",
              "  }\n",
              "</style>\n",
              " <p style='--text-color:wheat'> \n",
              "--------Not matched words---0----\n",
              "</p>"
            ]
          },
          "metadata": {}
        },
        {
          "output_type": "display_data",
          "data": {
            "text/plain": [
              "<IPython.core.display.HTML object>"
            ],
            "text/html": [
              " \n",
              "<style>\n",
              "  h1, h2, h3, h4 {\n",
              "    color: red;\n",
              "    font-size: 24px;\n",
              "  }\n",
              "  \n",
              "  p {\n",
              "    font-size: 14px;\n",
              "    color: var(--text-color);\n",
              "  }\n",
              "</style>\n",
              " <p style='--text-color:grey'> set()</p>"
            ]
          },
          "metadata": {}
        },
        {
          "output_type": "stream",
          "name": "stdout",
          "text": [
            "Wishlist size remaining: 105 \n",
            "DF size remaining: 11 \n",
            "\n",
            "   ------------------- \n"
          ]
        },
        {
          "output_type": "display_data",
          "data": {
            "text/plain": [
              "<IPython.core.display.HTML object>"
            ],
            "text/html": [
              " \n",
              "<style>\n",
              "  h1, h2, h3, h4 {\n",
              "    color: red;\n",
              "    font-size: 24px;\n",
              "  }\n",
              "  \n",
              "  p {\n",
              "    font-size: 14px;\n",
              "    color: var(--text-color);\n",
              "  }\n",
              "</style>\n",
              " <p style='--text-color:cyan'> Total Unique Tokens: 27</p>"
            ]
          },
          "metadata": {}
        },
        {
          "output_type": "stream",
          "name": "stdout",
          "text": [
            "{'سانہِ', 'وَتہٕ', 'چھَنہٕ', 'والٮ۪ن', 'خلاف', 'میٖر', 'ڈٔٹِتھ', 'تہٕ', 'زِ', 'اَرتداد', 'کُنہِ', 'روزَو', 'نوجوانَن', 'ڈالَن', 'ووٚن', 'یا', 'پُیہِ', 'واعظ', 'صٲبَن', 'نَوِ', 'أسۍ', 'فِرقَس', 'اماپوٛز', 'مُہِم', 'خِلاف', 'بَرادری', 'اِرادَس'}\n"
          ]
        },
        {
          "output_type": "display_data",
          "data": {
            "text/plain": [
              "<IPython.core.display.HTML object>"
            ],
            "text/html": [
              " \n",
              "<style>\n",
              "  h1, h2, h3, h4 {\n",
              "    color: red;\n",
              "    font-size: 24px;\n",
              "  }\n",
              "  \n",
              "  p {\n",
              "    font-size: 14px;\n",
              "    color: var(--text-color);\n",
              "  }\n",
              "</style>\n",
              " <p style='--text-color:magenta'> \n",
              "--------match words---26----\n",
              "</p>"
            ]
          },
          "metadata": {}
        },
        {
          "output_type": "display_data",
          "data": {
            "text/plain": [
              "<IPython.core.display.HTML object>"
            ],
            "text/html": [
              " \n",
              "<style>\n",
              "  h1, h2, h3, h4 {\n",
              "    color: red;\n",
              "    font-size: 24px;\n",
              "  }\n",
              "  \n",
              "  p {\n",
              "    font-size: 14px;\n",
              "    color: var(--text-color);\n",
              "  }\n",
              "</style>\n",
              " <p style='--text-color:grey'> {'سانہِ', 'وَتہٕ', 'چھَنہٕ', 'والٮ۪ن', 'خلاف', 'بَرادری', 'میٖر', 'ڈٔٹِتھ', 'زِ', 'اَرتداد', 'کُنہِ', 'روزَو', 'نوجوانَن', 'ڈالَن', 'ووٚن', 'یا', 'پُیہِ', 'واعظ', 'صٲبَن', 'نَوِ', 'أسۍ', 'فِرقَس', 'اماپوٛز', 'خِلاف', 'مُہِم', 'اِرادَس'}</p>"
            ]
          },
          "metadata": {}
        },
        {
          "output_type": "display_data",
          "data": {
            "text/plain": [
              "<IPython.core.display.HTML object>"
            ],
            "text/html": [
              " \n",
              "<style>\n",
              "  h1, h2, h3, h4 {\n",
              "    color: red;\n",
              "    font-size: 24px;\n",
              "  }\n",
              "  \n",
              "  p {\n",
              "    font-size: 14px;\n",
              "    color: var(--text-color);\n",
              "  }\n",
              "</style>\n",
              " <p style='--text-color:wheat'> \n",
              "--------Not matched words---1----\n",
              "</p>"
            ]
          },
          "metadata": {}
        },
        {
          "output_type": "display_data",
          "data": {
            "text/plain": [
              "<IPython.core.display.HTML object>"
            ],
            "text/html": [
              " \n",
              "<style>\n",
              "  h1, h2, h3, h4 {\n",
              "    color: red;\n",
              "    font-size: 24px;\n",
              "  }\n",
              "  \n",
              "  p {\n",
              "    font-size: 14px;\n",
              "    color: var(--text-color);\n",
              "  }\n",
              "</style>\n",
              " <p style='--text-color:grey'> {'تہٕ'}</p>"
            ]
          },
          "metadata": {}
        },
        {
          "output_type": "stream",
          "name": "stdout",
          "text": [
            "Wishlist size remaining: 79 \n",
            "DF size remaining: 11 \n",
            "\n",
            "   ------------------- \n"
          ]
        },
        {
          "output_type": "display_data",
          "data": {
            "text/plain": [
              "<IPython.core.display.HTML object>"
            ],
            "text/html": [
              " \n",
              "<style>\n",
              "  h1, h2, h3, h4 {\n",
              "    color: red;\n",
              "    font-size: 24px;\n",
              "  }\n",
              "  \n",
              "  p {\n",
              "    font-size: 14px;\n",
              "    color: var(--text-color);\n",
              "  }\n",
              "</style>\n",
              " <p style='--text-color:cyan'> Total Unique Tokens: 22</p>"
            ]
          },
          "metadata": {}
        },
        {
          "output_type": "stream",
          "name": "stdout",
          "text": [
            "{'منٛز', 'آے', 'تِم', 'یِمَن', 'ؤلۍ', 'زِ', 'دِنہٕ', 'شراب', 'نفرَن', 'لاسَن', 'آمٕژ', 'تِمَن', 'کٕنٛنہ', 'سرکار', 'ہِنٛدۍ', 'باپَتھ', 'خبردارکرنہٕ', 'مجلِسہِ', 'کَرَن', 'ناو', 'چھےٚ', 'نٔنۍ'}\n"
          ]
        },
        {
          "output_type": "display_data",
          "data": {
            "text/plain": [
              "<IPython.core.display.HTML object>"
            ],
            "text/html": [
              " \n",
              "<style>\n",
              "  h1, h2, h3, h4 {\n",
              "    color: red;\n",
              "    font-size: 24px;\n",
              "  }\n",
              "  \n",
              "  p {\n",
              "    font-size: 14px;\n",
              "    color: var(--text-color);\n",
              "  }\n",
              "</style>\n",
              " <p style='--text-color:magenta'> \n",
              "--------match words---21----\n",
              "</p>"
            ]
          },
          "metadata": {}
        },
        {
          "output_type": "display_data",
          "data": {
            "text/plain": [
              "<IPython.core.display.HTML object>"
            ],
            "text/html": [
              " \n",
              "<style>\n",
              "  h1, h2, h3, h4 {\n",
              "    color: red;\n",
              "    font-size: 24px;\n",
              "  }\n",
              "  \n",
              "  p {\n",
              "    font-size: 14px;\n",
              "    color: var(--text-color);\n",
              "  }\n",
              "</style>\n",
              " <p style='--text-color:grey'> {'منٛز', 'آے', 'تِم', 'یِمَن', 'ؤلۍ', 'دِنہٕ', 'شراب', 'نفرَن', 'لاسَن', 'آمٕژ', 'تِمَن', 'کٕنٛنہ', 'سرکار', 'ہِنٛدۍ', 'باپَتھ', 'خبردارکرنہٕ', 'مجلِسہِ', 'کَرَن', 'ناو', 'چھےٚ', 'نٔنۍ'}</p>"
            ]
          },
          "metadata": {}
        },
        {
          "output_type": "display_data",
          "data": {
            "text/plain": [
              "<IPython.core.display.HTML object>"
            ],
            "text/html": [
              " \n",
              "<style>\n",
              "  h1, h2, h3, h4 {\n",
              "    color: red;\n",
              "    font-size: 24px;\n",
              "  }\n",
              "  \n",
              "  p {\n",
              "    font-size: 14px;\n",
              "    color: var(--text-color);\n",
              "  }\n",
              "</style>\n",
              " <p style='--text-color:wheat'> \n",
              "--------Not matched words---1----\n",
              "</p>"
            ]
          },
          "metadata": {}
        },
        {
          "output_type": "display_data",
          "data": {
            "text/plain": [
              "<IPython.core.display.HTML object>"
            ],
            "text/html": [
              " \n",
              "<style>\n",
              "  h1, h2, h3, h4 {\n",
              "    color: red;\n",
              "    font-size: 24px;\n",
              "  }\n",
              "  \n",
              "  p {\n",
              "    font-size: 14px;\n",
              "    color: var(--text-color);\n",
              "  }\n",
              "</style>\n",
              " <p style='--text-color:grey'> {'زِ'}</p>"
            ]
          },
          "metadata": {}
        },
        {
          "output_type": "stream",
          "name": "stdout",
          "text": [
            "Wishlist size remaining: 58 \n",
            "DF size remaining: 11 \n",
            "\n",
            "   ------------------- \n"
          ]
        },
        {
          "output_type": "display_data",
          "data": {
            "text/plain": [
              "<IPython.core.display.HTML object>"
            ],
            "text/html": [
              " \n",
              "<style>\n",
              "  h1, h2, h3, h4 {\n",
              "    color: red;\n",
              "    font-size: 24px;\n",
              "  }\n",
              "  \n",
              "  p {\n",
              "    font-size: 14px;\n",
              "    color: var(--text-color);\n",
              "  }\n",
              "</style>\n",
              " <p style='--text-color:cyan'> Total Unique Tokens: 17</p>"
            ]
          },
          "metadata": {}
        },
        {
          "output_type": "stream",
          "name": "stdout",
          "text": [
            "{'ڈاکٹَرَن', 'تحت', 'خۄد', 'دۄن', 'پَزِ', 'ہِنٛزِاَتھ', 'پانہٕ', 'گامَن', 'منٛزسُہ', 'منٛگنہٕ', 'تفصیٖل', 'مِٹِنٛگہِ', 'دۄہَن', 'یوٚدوے', 'کانٛہہ', 'یہِ', 'منٛزقونوٗنَس'}\n"
          ]
        },
        {
          "output_type": "display_data",
          "data": {
            "text/plain": [
              "<IPython.core.display.HTML object>"
            ],
            "text/html": [
              " \n",
              "<style>\n",
              "  h1, h2, h3, h4 {\n",
              "    color: red;\n",
              "    font-size: 24px;\n",
              "  }\n",
              "  \n",
              "  p {\n",
              "    font-size: 14px;\n",
              "    color: var(--text-color);\n",
              "  }\n",
              "</style>\n",
              " <p style='--text-color:magenta'> \n",
              "--------match words---14----\n",
              "</p>"
            ]
          },
          "metadata": {}
        },
        {
          "output_type": "display_data",
          "data": {
            "text/plain": [
              "<IPython.core.display.HTML object>"
            ],
            "text/html": [
              " \n",
              "<style>\n",
              "  h1, h2, h3, h4 {\n",
              "    color: red;\n",
              "    font-size: 24px;\n",
              "  }\n",
              "  \n",
              "  p {\n",
              "    font-size: 14px;\n",
              "    color: var(--text-color);\n",
              "  }\n",
              "</style>\n",
              " <p style='--text-color:grey'> {'ڈاکٹَرَن', 'تحت', 'خۄد', 'پَزِ', 'ہِنٛزِاَتھ', 'گامَن', 'منٛزسُہ', 'منٛگنہٕ', 'تفصیٖل', 'مِٹِنٛگہِ', 'دۄہَن', 'یوٚدوے', 'یہِ', 'منٛزقونوٗنَس'}</p>"
            ]
          },
          "metadata": {}
        },
        {
          "output_type": "display_data",
          "data": {
            "text/plain": [
              "<IPython.core.display.HTML object>"
            ],
            "text/html": [
              " \n",
              "<style>\n",
              "  h1, h2, h3, h4 {\n",
              "    color: red;\n",
              "    font-size: 24px;\n",
              "  }\n",
              "  \n",
              "  p {\n",
              "    font-size: 14px;\n",
              "    color: var(--text-color);\n",
              "  }\n",
              "</style>\n",
              " <p style='--text-color:wheat'> \n",
              "--------Not matched words---3----\n",
              "</p>"
            ]
          },
          "metadata": {}
        },
        {
          "output_type": "display_data",
          "data": {
            "text/plain": [
              "<IPython.core.display.HTML object>"
            ],
            "text/html": [
              " \n",
              "<style>\n",
              "  h1, h2, h3, h4 {\n",
              "    color: red;\n",
              "    font-size: 24px;\n",
              "  }\n",
              "  \n",
              "  p {\n",
              "    font-size: 14px;\n",
              "    color: var(--text-color);\n",
              "  }\n",
              "</style>\n",
              " <p style='--text-color:grey'> {'کانٛہہ', 'دۄن', 'پانہٕ'}</p>"
            ]
          },
          "metadata": {}
        },
        {
          "output_type": "stream",
          "name": "stdout",
          "text": [
            "Wishlist size remaining: 44 \n",
            "DF size remaining: 11 \n",
            "\n",
            "   ------------------- \n"
          ]
        },
        {
          "output_type": "display_data",
          "data": {
            "text/plain": [
              "<IPython.core.display.HTML object>"
            ],
            "text/html": [
              " \n",
              "<style>\n",
              "  h1, h2, h3, h4 {\n",
              "    color: red;\n",
              "    font-size: 24px;\n",
              "  }\n",
              "  \n",
              "  p {\n",
              "    font-size: 14px;\n",
              "    color: var(--text-color);\n",
              "  }\n",
              "</style>\n",
              " <p style='--text-color:cyan'> Total Unique Tokens: 16</p>"
            ]
          },
          "metadata": {}
        },
        {
          "output_type": "stream",
          "name": "stdout",
          "text": [
            "{'ڈاکٹَرَن', 'خۄد', 'علاقن', 'چُھ', 'سَخ', 'پَزِ', 'منٛز', 'اکثر', 'پانہٕ', 'گامَن', 'گٔژھِتھ', 'کَرُن', 'أہُنٛد', 'حاجَت', 'گٲمی', 'اعلاج'}\n"
          ]
        },
        {
          "output_type": "display_data",
          "data": {
            "text/plain": [
              "<IPython.core.display.HTML object>"
            ],
            "text/html": [
              " \n",
              "<style>\n",
              "  h1, h2, h3, h4 {\n",
              "    color: red;\n",
              "    font-size: 24px;\n",
              "  }\n",
              "  \n",
              "  p {\n",
              "    font-size: 14px;\n",
              "    color: var(--text-color);\n",
              "  }\n",
              "</style>\n",
              " <p style='--text-color:magenta'> \n",
              "--------match words---10----\n",
              "</p>"
            ]
          },
          "metadata": {}
        },
        {
          "output_type": "display_data",
          "data": {
            "text/plain": [
              "<IPython.core.display.HTML object>"
            ],
            "text/html": [
              " \n",
              "<style>\n",
              "  h1, h2, h3, h4 {\n",
              "    color: red;\n",
              "    font-size: 24px;\n",
              "  }\n",
              "  \n",
              "  p {\n",
              "    font-size: 14px;\n",
              "    color: var(--text-color);\n",
              "  }\n",
              "</style>\n",
              " <p style='--text-color:grey'> {'چُھ', 'سَخ', 'گٲمی', 'اکثر', 'گٔژھِتھ', 'کَرُن', 'أہُنٛد', 'حاجَت', 'علاقن', 'اعلاج'}</p>"
            ]
          },
          "metadata": {}
        },
        {
          "output_type": "display_data",
          "data": {
            "text/plain": [
              "<IPython.core.display.HTML object>"
            ],
            "text/html": [
              " \n",
              "<style>\n",
              "  h1, h2, h3, h4 {\n",
              "    color: red;\n",
              "    font-size: 24px;\n",
              "  }\n",
              "  \n",
              "  p {\n",
              "    font-size: 14px;\n",
              "    color: var(--text-color);\n",
              "  }\n",
              "</style>\n",
              " <p style='--text-color:wheat'> \n",
              "--------Not matched words---6----\n",
              "</p>"
            ]
          },
          "metadata": {}
        },
        {
          "output_type": "display_data",
          "data": {
            "text/plain": [
              "<IPython.core.display.HTML object>"
            ],
            "text/html": [
              " \n",
              "<style>\n",
              "  h1, h2, h3, h4 {\n",
              "    color: red;\n",
              "    font-size: 24px;\n",
              "  }\n",
              "  \n",
              "  p {\n",
              "    font-size: 14px;\n",
              "    color: var(--text-color);\n",
              "  }\n",
              "</style>\n",
              " <p style='--text-color:grey'> {'ڈاکٹَرَن', 'خۄد', 'منٛز', 'پَزِ', 'پانہٕ', 'گامَن'}</p>"
            ]
          },
          "metadata": {}
        },
        {
          "output_type": "stream",
          "name": "stdout",
          "text": [
            "Wishlist size remaining: 34 \n",
            "DF size remaining: 11 \n",
            "\n",
            "   ------------------- \n"
          ]
        },
        {
          "output_type": "display_data",
          "data": {
            "text/plain": [
              "<IPython.core.display.HTML object>"
            ],
            "text/html": [
              " \n",
              "<style>\n",
              "  h1, h2, h3, h4 {\n",
              "    color: red;\n",
              "    font-size: 24px;\n",
              "  }\n",
              "  \n",
              "  p {\n",
              "    font-size: 14px;\n",
              "    color: var(--text-color);\n",
              "  }\n",
              "</style>\n",
              " <p style='--text-color:cyan'> Total Unique Tokens: 15</p>"
            ]
          },
          "metadata": {}
        },
        {
          "output_type": "stream",
          "name": "stdout",
          "text": [
            "{'یَتھ', 'کَرنَس', 'عام', 'دِل', 'تہِ', 'منٛز', 'آو', 'باقی', 'ژۄیَن', 'دِنہٕ', 'پوٚت', 'شراب', 'بِدعت', 'مُطلِق', 'رِیاستَس'}\n"
          ]
        },
        {
          "output_type": "display_data",
          "data": {
            "text/plain": [
              "<IPython.core.display.HTML object>"
            ],
            "text/html": [
              " \n",
              "<style>\n",
              "  h1, h2, h3, h4 {\n",
              "    color: red;\n",
              "    font-size: 24px;\n",
              "  }\n",
              "  \n",
              "  p {\n",
              "    font-size: 14px;\n",
              "    color: var(--text-color);\n",
              "  }\n",
              "</style>\n",
              " <p style='--text-color:magenta'> \n",
              "--------match words---11----\n",
              "</p>"
            ]
          },
          "metadata": {}
        },
        {
          "output_type": "display_data",
          "data": {
            "text/plain": [
              "<IPython.core.display.HTML object>"
            ],
            "text/html": [
              " \n",
              "<style>\n",
              "  h1, h2, h3, h4 {\n",
              "    color: red;\n",
              "    font-size: 24px;\n",
              "  }\n",
              "  \n",
              "  p {\n",
              "    font-size: 14px;\n",
              "    color: var(--text-color);\n",
              "  }\n",
              "</style>\n",
              " <p style='--text-color:grey'> {'یَتھ', 'دِل', 'کَرنَس', 'عام', 'آو', 'ژۄیَن', 'پوٚت', 'رِیاستَس', 'بِدعت', 'مُطلِق', 'باقی'}</p>"
            ]
          },
          "metadata": {}
        },
        {
          "output_type": "display_data",
          "data": {
            "text/plain": [
              "<IPython.core.display.HTML object>"
            ],
            "text/html": [
              " \n",
              "<style>\n",
              "  h1, h2, h3, h4 {\n",
              "    color: red;\n",
              "    font-size: 24px;\n",
              "  }\n",
              "  \n",
              "  p {\n",
              "    font-size: 14px;\n",
              "    color: var(--text-color);\n",
              "  }\n",
              "</style>\n",
              " <p style='--text-color:wheat'> \n",
              "--------Not matched words---4----\n",
              "</p>"
            ]
          },
          "metadata": {}
        },
        {
          "output_type": "display_data",
          "data": {
            "text/plain": [
              "<IPython.core.display.HTML object>"
            ],
            "text/html": [
              " \n",
              "<style>\n",
              "  h1, h2, h3, h4 {\n",
              "    color: red;\n",
              "    font-size: 24px;\n",
              "  }\n",
              "  \n",
              "  p {\n",
              "    font-size: 14px;\n",
              "    color: var(--text-color);\n",
              "  }\n",
              "</style>\n",
              " <p style='--text-color:grey'> {'منٛز', 'دِنہٕ', 'شراب', 'تہِ'}</p>"
            ]
          },
          "metadata": {}
        },
        {
          "output_type": "stream",
          "name": "stdout",
          "text": [
            "Wishlist size remaining: 23 \n",
            "DF size remaining: 11 \n",
            "\n",
            "   ------------------- \n"
          ]
        },
        {
          "output_type": "display_data",
          "data": {
            "text/plain": [
              "<IPython.core.display.HTML object>"
            ],
            "text/html": [
              " \n",
              "<style>\n",
              "  h1, h2, h3, h4 {\n",
              "    color: red;\n",
              "    font-size: 24px;\n",
              "  }\n",
              "  \n",
              "  p {\n",
              "    font-size: 14px;\n",
              "    color: var(--text-color);\n",
              "  }\n",
              "</style>\n",
              " <p style='--text-color:cyan'> Total Unique Tokens: 14</p>"
            ]
          },
          "metadata": {}
        },
        {
          "output_type": "stream",
          "name": "stdout",
          "text": [
            "{'اِجلاس', 'عُلماء', 'اوترٕ', 'سَپُد', 'منٛز', 'سَریٖنَگرَس', 'متحدہ', 'واعظ', 'ہُنٛد', 'مجلِسِ', 'مُنعقِد', 'تنٛظیٖمہِ', 'خصوٗصی', 'میٖر'}\n"
          ]
        },
        {
          "output_type": "display_data",
          "data": {
            "text/plain": [
              "<IPython.core.display.HTML object>"
            ],
            "text/html": [
              " \n",
              "<style>\n",
              "  h1, h2, h3, h4 {\n",
              "    color: red;\n",
              "    font-size: 24px;\n",
              "  }\n",
              "  \n",
              "  p {\n",
              "    font-size: 14px;\n",
              "    color: var(--text-color);\n",
              "  }\n",
              "</style>\n",
              " <p style='--text-color:magenta'> \n",
              "--------match words---11----\n",
              "</p>"
            ]
          },
          "metadata": {}
        },
        {
          "output_type": "display_data",
          "data": {
            "text/plain": [
              "<IPython.core.display.HTML object>"
            ],
            "text/html": [
              " \n",
              "<style>\n",
              "  h1, h2, h3, h4 {\n",
              "    color: red;\n",
              "    font-size: 24px;\n",
              "  }\n",
              "  \n",
              "  p {\n",
              "    font-size: 14px;\n",
              "    color: var(--text-color);\n",
              "  }\n",
              "</style>\n",
              " <p style='--text-color:grey'> {'اِجلاس', 'عُلماء', 'اوترٕ', 'سَپُد', 'سَریٖنَگرَس', 'متحدہ', 'ہُنٛد', 'مجلِسِ', 'مُنعقِد', 'تنٛظیٖمہِ', 'خصوٗصی'}</p>"
            ]
          },
          "metadata": {}
        },
        {
          "output_type": "display_data",
          "data": {
            "text/plain": [
              "<IPython.core.display.HTML object>"
            ],
            "text/html": [
              " \n",
              "<style>\n",
              "  h1, h2, h3, h4 {\n",
              "    color: red;\n",
              "    font-size: 24px;\n",
              "  }\n",
              "  \n",
              "  p {\n",
              "    font-size: 14px;\n",
              "    color: var(--text-color);\n",
              "  }\n",
              "</style>\n",
              " <p style='--text-color:wheat'> \n",
              "--------Not matched words---3----\n",
              "</p>"
            ]
          },
          "metadata": {}
        },
        {
          "output_type": "display_data",
          "data": {
            "text/plain": [
              "<IPython.core.display.HTML object>"
            ],
            "text/html": [
              " \n",
              "<style>\n",
              "  h1, h2, h3, h4 {\n",
              "    color: red;\n",
              "    font-size: 24px;\n",
              "  }\n",
              "  \n",
              "  p {\n",
              "    font-size: 14px;\n",
              "    color: var(--text-color);\n",
              "  }\n",
              "</style>\n",
              " <p style='--text-color:grey'> {'منٛز', 'واعظ', 'میٖر'}</p>"
            ]
          },
          "metadata": {}
        },
        {
          "output_type": "stream",
          "name": "stdout",
          "text": [
            "Wishlist size remaining: 12 \n",
            "DF size remaining: 11 \n",
            "\n",
            "   ------------------- \n"
          ]
        },
        {
          "output_type": "display_data",
          "data": {
            "text/plain": [
              "<IPython.core.display.HTML object>"
            ],
            "text/html": [
              " \n",
              "<style>\n",
              "  h1, h2, h3, h4 {\n",
              "    color: red;\n",
              "    font-size: 24px;\n",
              "  }\n",
              "  \n",
              "  p {\n",
              "    font-size: 14px;\n",
              "    color: var(--text-color);\n",
              "  }\n",
              "</style>\n",
              " <p style='--text-color:cyan'> Total Unique Tokens: 11</p>"
            ]
          },
          "metadata": {}
        },
        {
          "output_type": "stream",
          "name": "stdout",
          "text": [
            "{'تحت', 'چُھ', 'سَخ', 'منٛز', 'قونوٗنَس', 'منٛگنہٕ', 'أہُنٛد', 'تفصیٖل', 'حاجَت', 'علاقن', 'یہِ'}\n"
          ]
        },
        {
          "output_type": "display_data",
          "data": {
            "text/plain": [
              "<IPython.core.display.HTML object>"
            ],
            "text/html": [
              " \n",
              "<style>\n",
              "  h1, h2, h3, h4 {\n",
              "    color: red;\n",
              "    font-size: 24px;\n",
              "  }\n",
              "  \n",
              "  p {\n",
              "    font-size: 14px;\n",
              "    color: var(--text-color);\n",
              "  }\n",
              "</style>\n",
              " <p style='--text-color:magenta'> \n",
              "--------match words---1----\n",
              "</p>"
            ]
          },
          "metadata": {}
        },
        {
          "output_type": "display_data",
          "data": {
            "text/plain": [
              "<IPython.core.display.HTML object>"
            ],
            "text/html": [
              " \n",
              "<style>\n",
              "  h1, h2, h3, h4 {\n",
              "    color: red;\n",
              "    font-size: 24px;\n",
              "  }\n",
              "  \n",
              "  p {\n",
              "    font-size: 14px;\n",
              "    color: var(--text-color);\n",
              "  }\n",
              "</style>\n",
              " <p style='--text-color:grey'> {'قونوٗنَس'}</p>"
            ]
          },
          "metadata": {}
        },
        {
          "output_type": "display_data",
          "data": {
            "text/plain": [
              "<IPython.core.display.HTML object>"
            ],
            "text/html": [
              " \n",
              "<style>\n",
              "  h1, h2, h3, h4 {\n",
              "    color: red;\n",
              "    font-size: 24px;\n",
              "  }\n",
              "  \n",
              "  p {\n",
              "    font-size: 14px;\n",
              "    color: var(--text-color);\n",
              "  }\n",
              "</style>\n",
              " <p style='--text-color:wheat'> \n",
              "--------Not matched words---10----\n",
              "</p>"
            ]
          },
          "metadata": {}
        },
        {
          "output_type": "display_data",
          "data": {
            "text/plain": [
              "<IPython.core.display.HTML object>"
            ],
            "text/html": [
              " \n",
              "<style>\n",
              "  h1, h2, h3, h4 {\n",
              "    color: red;\n",
              "    font-size: 24px;\n",
              "  }\n",
              "  \n",
              "  p {\n",
              "    font-size: 14px;\n",
              "    color: var(--text-color);\n",
              "  }\n",
              "</style>\n",
              " <p style='--text-color:grey'> {'تحت', 'چُھ', 'سَخ', 'منٛز', 'منٛگنہٕ', 'أہُنٛد', 'تفصیٖل', 'حاجَت', 'علاقن', 'یہِ'}</p>"
            ]
          },
          "metadata": {}
        },
        {
          "output_type": "stream",
          "name": "stdout",
          "text": [
            "Wishlist size remaining: 11 \n",
            "DF size remaining: 11 \n",
            "\n",
            "   ------------------- \n"
          ]
        },
        {
          "output_type": "display_data",
          "data": {
            "text/plain": [
              "<IPython.core.display.HTML object>"
            ],
            "text/html": [
              " \n",
              "<style>\n",
              "  h1, h2, h3, h4 {\n",
              "    color: red;\n",
              "    font-size: 24px;\n",
              "  }\n",
              "  \n",
              "  p {\n",
              "    font-size: 14px;\n",
              "    color: var(--text-color);\n",
              "  }\n",
              "</style>\n",
              " <p style='--text-color:cyan'> Total Unique Tokens: 8</p>"
            ]
          },
          "metadata": {}
        },
        {
          "output_type": "stream",
          "name": "stdout",
          "text": [
            "{'یَتھ', 'صدارَت', 'واعظ', 'صٲبَن', 'میٖر', 'عُمر', 'کٔر', 'فاروق'}\n"
          ]
        },
        {
          "output_type": "display_data",
          "data": {
            "text/plain": [
              "<IPython.core.display.HTML object>"
            ],
            "text/html": [
              " \n",
              "<style>\n",
              "  h1, h2, h3, h4 {\n",
              "    color: red;\n",
              "    font-size: 24px;\n",
              "  }\n",
              "  \n",
              "  p {\n",
              "    font-size: 14px;\n",
              "    color: var(--text-color);\n",
              "  }\n",
              "</style>\n",
              " <p style='--text-color:magenta'> \n",
              "--------match words---4----\n",
              "</p>"
            ]
          },
          "metadata": {}
        },
        {
          "output_type": "display_data",
          "data": {
            "text/plain": [
              "<IPython.core.display.HTML object>"
            ],
            "text/html": [
              " \n",
              "<style>\n",
              "  h1, h2, h3, h4 {\n",
              "    color: red;\n",
              "    font-size: 24px;\n",
              "  }\n",
              "  \n",
              "  p {\n",
              "    font-size: 14px;\n",
              "    color: var(--text-color);\n",
              "  }\n",
              "</style>\n",
              " <p style='--text-color:grey'> {'عُمر', 'کٔر', 'صدارَت', 'فاروق'}</p>"
            ]
          },
          "metadata": {}
        },
        {
          "output_type": "display_data",
          "data": {
            "text/plain": [
              "<IPython.core.display.HTML object>"
            ],
            "text/html": [
              " \n",
              "<style>\n",
              "  h1, h2, h3, h4 {\n",
              "    color: red;\n",
              "    font-size: 24px;\n",
              "  }\n",
              "  \n",
              "  p {\n",
              "    font-size: 14px;\n",
              "    color: var(--text-color);\n",
              "  }\n",
              "</style>\n",
              " <p style='--text-color:wheat'> \n",
              "--------Not matched words---4----\n",
              "</p>"
            ]
          },
          "metadata": {}
        },
        {
          "output_type": "display_data",
          "data": {
            "text/plain": [
              "<IPython.core.display.HTML object>"
            ],
            "text/html": [
              " \n",
              "<style>\n",
              "  h1, h2, h3, h4 {\n",
              "    color: red;\n",
              "    font-size: 24px;\n",
              "  }\n",
              "  \n",
              "  p {\n",
              "    font-size: 14px;\n",
              "    color: var(--text-color);\n",
              "  }\n",
              "</style>\n",
              " <p style='--text-color:grey'> {'واعظ', 'یَتھ', 'میٖر', 'صٲبَن'}</p>"
            ]
          },
          "metadata": {}
        },
        {
          "output_type": "stream",
          "name": "stdout",
          "text": [
            "Wishlist size remaining: 7 \n",
            "DF size remaining: 11 \n",
            "\n",
            "   ------------------- \n"
          ]
        },
        {
          "output_type": "display_data",
          "data": {
            "text/plain": [
              "<IPython.core.display.HTML object>"
            ],
            "text/html": [
              " \n",
              "<style>\n",
              "  h1, h2, h3, h4 {\n",
              "    color: red;\n",
              "    font-size: 24px;\n",
              "  }\n",
              "  \n",
              "  p {\n",
              "    font-size: 14px;\n",
              "    color: var(--text-color);\n",
              "  }\n",
              "</style>\n",
              " <p style='--text-color:cyan'> Total Unique Tokens: 7</p>"
            ]
          },
          "metadata": {}
        },
        {
          "output_type": "stream",
          "name": "stdout",
          "text": [
            "{'بَنَک', 'سَپدُن', 'اِسلٲمی', 'باپَتھ', 'کٲری', 'گَژھِ', 'سنٛز'}\n"
          ]
        },
        {
          "output_type": "display_data",
          "data": {
            "text/plain": [
              "<IPython.core.display.HTML object>"
            ],
            "text/html": [
              " \n",
              "<style>\n",
              "  h1, h2, h3, h4 {\n",
              "    color: red;\n",
              "    font-size: 24px;\n",
              "  }\n",
              "  \n",
              "  p {\n",
              "    font-size: 14px;\n",
              "    color: var(--text-color);\n",
              "  }\n",
              "</style>\n",
              " <p style='--text-color:magenta'> \n",
              "--------match words---6----\n",
              "</p>"
            ]
          },
          "metadata": {}
        },
        {
          "output_type": "display_data",
          "data": {
            "text/plain": [
              "<IPython.core.display.HTML object>"
            ],
            "text/html": [
              " \n",
              "<style>\n",
              "  h1, h2, h3, h4 {\n",
              "    color: red;\n",
              "    font-size: 24px;\n",
              "  }\n",
              "  \n",
              "  p {\n",
              "    font-size: 14px;\n",
              "    color: var(--text-color);\n",
              "  }\n",
              "</style>\n",
              " <p style='--text-color:grey'> {'بَنَک', 'سَپدُن', 'اِسلٲمی', 'کٲری', 'گَژھِ', 'سنٛز'}</p>"
            ]
          },
          "metadata": {}
        },
        {
          "output_type": "display_data",
          "data": {
            "text/plain": [
              "<IPython.core.display.HTML object>"
            ],
            "text/html": [
              " \n",
              "<style>\n",
              "  h1, h2, h3, h4 {\n",
              "    color: red;\n",
              "    font-size: 24px;\n",
              "  }\n",
              "  \n",
              "  p {\n",
              "    font-size: 14px;\n",
              "    color: var(--text-color);\n",
              "  }\n",
              "</style>\n",
              " <p style='--text-color:wheat'> \n",
              "--------Not matched words---1----\n",
              "</p>"
            ]
          },
          "metadata": {}
        },
        {
          "output_type": "display_data",
          "data": {
            "text/plain": [
              "<IPython.core.display.HTML object>"
            ],
            "text/html": [
              " \n",
              "<style>\n",
              "  h1, h2, h3, h4 {\n",
              "    color: red;\n",
              "    font-size: 24px;\n",
              "  }\n",
              "  \n",
              "  p {\n",
              "    font-size: 14px;\n",
              "    color: var(--text-color);\n",
              "  }\n",
              "</style>\n",
              " <p style='--text-color:grey'> {'باپَتھ'}</p>"
            ]
          },
          "metadata": {}
        },
        {
          "output_type": "stream",
          "name": "stdout",
          "text": [
            "Wishlist size remaining: 1 \n",
            "DF size remaining: 11 \n",
            "\n",
            "   ------------------- \n"
          ]
        },
        {
          "output_type": "display_data",
          "data": {
            "text/plain": [
              "<IPython.core.display.HTML object>"
            ],
            "text/html": [
              " \n",
              "<style>\n",
              "  h1, h2, h3, h4 {\n",
              "    color: red;\n",
              "    font-size: 24px;\n",
              "  }\n",
              "  \n",
              "  p {\n",
              "    font-size: 14px;\n",
              "    color: var(--text-color);\n",
              "  }\n",
              "</style>\n",
              " <p style='--text-color:cyan'> Total Unique Tokens: 7</p>"
            ]
          },
          "metadata": {}
        },
        {
          "output_type": "stream",
          "name": "stdout",
          "text": [
            "{'تحت', 'نَتہٕ', 'یِیہِ', 'قونوٗنَس', 'منٛگنہٕ', 'تفصیٖل', 'یہِ'}\n"
          ]
        },
        {
          "output_type": "display_data",
          "data": {
            "text/plain": [
              "<IPython.core.display.HTML object>"
            ],
            "text/html": [
              " \n",
              "<style>\n",
              "  h1, h2, h3, h4 {\n",
              "    color: red;\n",
              "    font-size: 24px;\n",
              "  }\n",
              "  \n",
              "  p {\n",
              "    font-size: 14px;\n",
              "    color: var(--text-color);\n",
              "  }\n",
              "</style>\n",
              " <p style='--text-color:magenta'> \n",
              "--------match words---1----\n",
              "</p>"
            ]
          },
          "metadata": {}
        },
        {
          "output_type": "display_data",
          "data": {
            "text/plain": [
              "<IPython.core.display.HTML object>"
            ],
            "text/html": [
              " \n",
              "<style>\n",
              "  h1, h2, h3, h4 {\n",
              "    color: red;\n",
              "    font-size: 24px;\n",
              "  }\n",
              "  \n",
              "  p {\n",
              "    font-size: 14px;\n",
              "    color: var(--text-color);\n",
              "  }\n",
              "</style>\n",
              " <p style='--text-color:grey'> {'نَتہٕ'}</p>"
            ]
          },
          "metadata": {}
        },
        {
          "output_type": "display_data",
          "data": {
            "text/plain": [
              "<IPython.core.display.HTML object>"
            ],
            "text/html": [
              " \n",
              "<style>\n",
              "  h1, h2, h3, h4 {\n",
              "    color: red;\n",
              "    font-size: 24px;\n",
              "  }\n",
              "  \n",
              "  p {\n",
              "    font-size: 14px;\n",
              "    color: var(--text-color);\n",
              "  }\n",
              "</style>\n",
              " <p style='--text-color:wheat'> \n",
              "--------Not matched words---6----\n",
              "</p>"
            ]
          },
          "metadata": {}
        },
        {
          "output_type": "display_data",
          "data": {
            "text/plain": [
              "<IPython.core.display.HTML object>"
            ],
            "text/html": [
              " \n",
              "<style>\n",
              "  h1, h2, h3, h4 {\n",
              "    color: red;\n",
              "    font-size: 24px;\n",
              "  }\n",
              "  \n",
              "  p {\n",
              "    font-size: 14px;\n",
              "    color: var(--text-color);\n",
              "  }\n",
              "</style>\n",
              " <p style='--text-color:grey'> {'تحت', 'یِیہِ', 'قونوٗنَس', 'منٛگنہٕ', 'تفصیٖل', 'یہِ'}</p>"
            ]
          },
          "metadata": {}
        },
        {
          "output_type": "stream",
          "name": "stdout",
          "text": [
            "Wishlist size remaining: 0 \n",
            "DF size remaining: 11 \n",
            "\n",
            "   ------------------- \n"
          ]
        }
      ]
    },
    {
      "cell_type": "code",
      "source": [
        "print_heading(\"Sum of richness is {}\".format(df['richness'].sum()))\n",
        "print_heading (\"Lenth of vocab is {}\".format(len(vocab)))\n",
        "df"
      ],
      "metadata": {
        "id": "WhPzN9nBHXzG",
        "colab": {
          "base_uri": "https://localhost:8080/",
          "height": 497
        },
        "outputId": "b46b071e-d83e-4786-d91c-54cba1000c19"
      },
      "execution_count": 16,
      "outputs": [
        {
          "output_type": "display_data",
          "data": {
            "text/plain": [
              "<IPython.core.display.HTML object>"
            ],
            "text/html": [
              "\n",
              "<style>\n",
              "  h1, h2, h3, h4 {\n",
              "    color: red;\n",
              "    font-size: 24px;\n",
              "  }\n",
              "  \n",
              "  p {\n",
              "    font-size: 14px;\n",
              "    color: var(--text-color);\n",
              "  }\n",
              "</style>\n",
              "<h2> Sum of richness is 140 </h2>"
            ]
          },
          "metadata": {}
        },
        {
          "output_type": "display_data",
          "data": {
            "text/plain": [
              "<IPython.core.display.HTML object>"
            ],
            "text/html": [
              "\n",
              "<style>\n",
              "  h1, h2, h3, h4 {\n",
              "    color: red;\n",
              "    font-size: 24px;\n",
              "  }\n",
              "  \n",
              "  p {\n",
              "    font-size: 14px;\n",
              "    color: var(--text-color);\n",
              "  }\n",
              "</style>\n",
              "<h2> Lenth of vocab is 140 </h2>"
            ]
          },
          "metadata": {}
        },
        {
          "output_type": "execute_result",
          "data": {
            "text/plain": [
              "                                             sentence  richness  Deleted\n",
              "0    آزاد صٲب  سریٖنَگَر سون میٖراث   دٔرۍ روزَن پ...        35    False\n",
              "1    میٖر واعظ صٲبَن ووٚن زِ اَرتداد مُہِم چھَنہٕ ...        26    False\n",
              "2    مجلِسہِ منٛز آے سرکار خبردارکرنہٕ زِ تِم کَرَ...        21    False\n",
              "3    یوٚدوے دۄن دۄہَن ہِنٛزِاَتھ مِٹِنٛگہِ منٛزسُہ...        14    False\n",
              "4       ڈاکٹَرَن پَزِ پانہٕ خۄد گامَن منٛز گٔژھِتھ...        10    False\n",
              "5    یَتھ منٛز آو رِیاستَس منٛز شراب تہِ باقی بِدع...        11    False\n",
              "6    میٖر واعظ  متحدہ مجلِسِ عُلماء تنٛظیٖمہِ ہُنٛ...        11    False\n",
              "7      قونوٗنَس تحت یہِ تفصیٖل منٛگنہٕ علاقن منٛز ...         1    False\n",
              "8          یَتھ میٖر واعظ عُمر فاروق صٲبَن صدارَت کٔر         4    False\n",
              "9        اِسلٲمی بَنَک کٲری باپَتھ گَژھِ سنٛز سَپدُن          6    False\n",
              "10        نَتہٕ یِیہِ قونوٗنَس تحت یہِ تفصیٖل منٛگنہٕ         1    False"
            ],
            "text/html": [
              "\n",
              "  <div id=\"df-a897f6dd-d0c0-41ac-a10d-bdd3ff6b8d76\">\n",
              "    <div class=\"colab-df-container\">\n",
              "      <div>\n",
              "<style scoped>\n",
              "    .dataframe tbody tr th:only-of-type {\n",
              "        vertical-align: middle;\n",
              "    }\n",
              "\n",
              "    .dataframe tbody tr th {\n",
              "        vertical-align: top;\n",
              "    }\n",
              "\n",
              "    .dataframe thead th {\n",
              "        text-align: right;\n",
              "    }\n",
              "</style>\n",
              "<table border=\"1\" class=\"dataframe\">\n",
              "  <thead>\n",
              "    <tr style=\"text-align: right;\">\n",
              "      <th></th>\n",
              "      <th>sentence</th>\n",
              "      <th>richness</th>\n",
              "      <th>Deleted</th>\n",
              "    </tr>\n",
              "  </thead>\n",
              "  <tbody>\n",
              "    <tr>\n",
              "      <th>0</th>\n",
              "      <td>آزاد صٲب  سریٖنَگَر سون میٖراث   دٔرۍ روزَن پ...</td>\n",
              "      <td>35</td>\n",
              "      <td>False</td>\n",
              "    </tr>\n",
              "    <tr>\n",
              "      <th>1</th>\n",
              "      <td>میٖر واعظ صٲبَن ووٚن زِ اَرتداد مُہِم چھَنہٕ ...</td>\n",
              "      <td>26</td>\n",
              "      <td>False</td>\n",
              "    </tr>\n",
              "    <tr>\n",
              "      <th>2</th>\n",
              "      <td>مجلِسہِ منٛز آے سرکار خبردارکرنہٕ زِ تِم کَرَ...</td>\n",
              "      <td>21</td>\n",
              "      <td>False</td>\n",
              "    </tr>\n",
              "    <tr>\n",
              "      <th>3</th>\n",
              "      <td>یوٚدوے دۄن دۄہَن ہِنٛزِاَتھ مِٹِنٛگہِ منٛزسُہ...</td>\n",
              "      <td>14</td>\n",
              "      <td>False</td>\n",
              "    </tr>\n",
              "    <tr>\n",
              "      <th>4</th>\n",
              "      <td>ڈاکٹَرَن پَزِ پانہٕ خۄد گامَن منٛز گٔژھِتھ...</td>\n",
              "      <td>10</td>\n",
              "      <td>False</td>\n",
              "    </tr>\n",
              "    <tr>\n",
              "      <th>5</th>\n",
              "      <td>یَتھ منٛز آو رِیاستَس منٛز شراب تہِ باقی بِدع...</td>\n",
              "      <td>11</td>\n",
              "      <td>False</td>\n",
              "    </tr>\n",
              "    <tr>\n",
              "      <th>6</th>\n",
              "      <td>میٖر واعظ  متحدہ مجلِسِ عُلماء تنٛظیٖمہِ ہُنٛ...</td>\n",
              "      <td>11</td>\n",
              "      <td>False</td>\n",
              "    </tr>\n",
              "    <tr>\n",
              "      <th>7</th>\n",
              "      <td>قونوٗنَس تحت یہِ تفصیٖل منٛگنہٕ علاقن منٛز ...</td>\n",
              "      <td>1</td>\n",
              "      <td>False</td>\n",
              "    </tr>\n",
              "    <tr>\n",
              "      <th>8</th>\n",
              "      <td>یَتھ میٖر واعظ عُمر فاروق صٲبَن صدارَت کٔر</td>\n",
              "      <td>4</td>\n",
              "      <td>False</td>\n",
              "    </tr>\n",
              "    <tr>\n",
              "      <th>9</th>\n",
              "      <td>اِسلٲمی بَنَک کٲری باپَتھ گَژھِ سنٛز سَپدُن</td>\n",
              "      <td>6</td>\n",
              "      <td>False</td>\n",
              "    </tr>\n",
              "    <tr>\n",
              "      <th>10</th>\n",
              "      <td>نَتہٕ یِیہِ قونوٗنَس تحت یہِ تفصیٖل منٛگنہٕ</td>\n",
              "      <td>1</td>\n",
              "      <td>False</td>\n",
              "    </tr>\n",
              "  </tbody>\n",
              "</table>\n",
              "</div>\n",
              "      <button class=\"colab-df-convert\" onclick=\"convertToInteractive('df-a897f6dd-d0c0-41ac-a10d-bdd3ff6b8d76')\"\n",
              "              title=\"Convert this dataframe to an interactive table.\"\n",
              "              style=\"display:none;\">\n",
              "        \n",
              "  <svg xmlns=\"http://www.w3.org/2000/svg\" height=\"24px\"viewBox=\"0 0 24 24\"\n",
              "       width=\"24px\">\n",
              "    <path d=\"M0 0h24v24H0V0z\" fill=\"none\"/>\n",
              "    <path d=\"M18.56 5.44l.94 2.06.94-2.06 2.06-.94-2.06-.94-.94-2.06-.94 2.06-2.06.94zm-11 1L8.5 8.5l.94-2.06 2.06-.94-2.06-.94L8.5 2.5l-.94 2.06-2.06.94zm10 10l.94 2.06.94-2.06 2.06-.94-2.06-.94-.94-2.06-.94 2.06-2.06.94z\"/><path d=\"M17.41 7.96l-1.37-1.37c-.4-.4-.92-.59-1.43-.59-.52 0-1.04.2-1.43.59L10.3 9.45l-7.72 7.72c-.78.78-.78 2.05 0 2.83L4 21.41c.39.39.9.59 1.41.59.51 0 1.02-.2 1.41-.59l7.78-7.78 2.81-2.81c.8-.78.8-2.07 0-2.86zM5.41 20L4 18.59l7.72-7.72 1.47 1.35L5.41 20z\"/>\n",
              "  </svg>\n",
              "      </button>\n",
              "      \n",
              "  <style>\n",
              "    .colab-df-container {\n",
              "      display:flex;\n",
              "      flex-wrap:wrap;\n",
              "      gap: 12px;\n",
              "    }\n",
              "\n",
              "    .colab-df-convert {\n",
              "      background-color: #E8F0FE;\n",
              "      border: none;\n",
              "      border-radius: 50%;\n",
              "      cursor: pointer;\n",
              "      display: none;\n",
              "      fill: #1967D2;\n",
              "      height: 32px;\n",
              "      padding: 0 0 0 0;\n",
              "      width: 32px;\n",
              "    }\n",
              "\n",
              "    .colab-df-convert:hover {\n",
              "      background-color: #E2EBFA;\n",
              "      box-shadow: 0px 1px 2px rgba(60, 64, 67, 0.3), 0px 1px 3px 1px rgba(60, 64, 67, 0.15);\n",
              "      fill: #174EA6;\n",
              "    }\n",
              "\n",
              "    [theme=dark] .colab-df-convert {\n",
              "      background-color: #3B4455;\n",
              "      fill: #D2E3FC;\n",
              "    }\n",
              "\n",
              "    [theme=dark] .colab-df-convert:hover {\n",
              "      background-color: #434B5C;\n",
              "      box-shadow: 0px 1px 3px 1px rgba(0, 0, 0, 0.15);\n",
              "      filter: drop-shadow(0px 1px 2px rgba(0, 0, 0, 0.3));\n",
              "      fill: #FFFFFF;\n",
              "    }\n",
              "  </style>\n",
              "\n",
              "      <script>\n",
              "        const buttonEl =\n",
              "          document.querySelector('#df-a897f6dd-d0c0-41ac-a10d-bdd3ff6b8d76 button.colab-df-convert');\n",
              "        buttonEl.style.display =\n",
              "          google.colab.kernel.accessAllowed ? 'block' : 'none';\n",
              "\n",
              "        async function convertToInteractive(key) {\n",
              "          const element = document.querySelector('#df-a897f6dd-d0c0-41ac-a10d-bdd3ff6b8d76');\n",
              "          const dataTable =\n",
              "            await google.colab.kernel.invokeFunction('convertToInteractive',\n",
              "                                                     [key], {});\n",
              "          if (!dataTable) return;\n",
              "\n",
              "          const docLinkHtml = 'Like what you see? Visit the ' +\n",
              "            '<a target=\"_blank\" href=https://colab.research.google.com/notebooks/data_table.ipynb>data table notebook</a>'\n",
              "            + ' to learn more about interactive tables.';\n",
              "          element.innerHTML = '';\n",
              "          dataTable['output_type'] = 'display_data';\n",
              "          await google.colab.output.renderOutput(dataTable, element);\n",
              "          const docLink = document.createElement('div');\n",
              "          docLink.innerHTML = docLinkHtml;\n",
              "          element.appendChild(docLink);\n",
              "        }\n",
              "      </script>\n",
              "    </div>\n",
              "  </div>\n",
              "  "
            ]
          },
          "metadata": {},
          "execution_count": 16
        }
      ]
    },
    {
      "cell_type": "code",
      "source": [
        "df.to_csv(WORKING_DIR + ENRICHED_FILENAME_FINAL)"
      ],
      "metadata": {
        "id": "9-J4dKOlDzDB"
      },
      "execution_count": 15,
      "outputs": []
    }
  ]
}